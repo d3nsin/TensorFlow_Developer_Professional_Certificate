{
  "cells": [
    {
      "cell_type": "markdown",
      "metadata": {
        "id": "sV_nvXSQGJPK"
      },
      "source": [
        "# Ungraded Lab: Using a multi-layer LSTM for forecasting\n",
        "\n",
        "In this lab, you will use the same RNN architecure in the first lab but will instead stack [LSTM](https://www.tensorflow.org/api_docs/python/tf/keras/layers/LSTM) layers instead of `SimpleRNN`."
      ]
    },
    {
      "cell_type": "markdown",
      "metadata": {
        "id": "3IMbAWETGOWD"
      },
      "source": [
        "## Imports"
      ]
    },
    {
      "cell_type": "code",
      "execution_count": 1,
      "metadata": {
        "id": "BOjujz601HcS"
      },
      "outputs": [],
      "source": [
        "import tensorflow as tf\n",
        "import numpy as np\n",
        "import matplotlib.pyplot as plt"
      ]
    },
    {
      "cell_type": "markdown",
      "metadata": {
        "id": "kD7RQQ0xGQVH"
      },
      "source": [
        "## Utilities"
      ]
    },
    {
      "cell_type": "code",
      "execution_count": 2,
      "metadata": {
        "id": "Zswl7jRtGzkk"
      },
      "outputs": [],
      "source": [
        "def plot_series(time, series, format=\"-\", start=0, end=None):\n",
        "    \"\"\"\n",
        "    Visualizes time series data\n",
        "\n",
        "    Args:\n",
        "      time (array of int) - contains the time steps\n",
        "      series (array of int) - contains the measurements for each time step\n",
        "      format - line style when plotting the graph\n",
        "      start - first time step to plot\n",
        "      end - last time step to plot\n",
        "    \"\"\"\n",
        "\n",
        "    # Setup dimensions of the graph figure\n",
        "    plt.figure(figsize=(10, 6))\n",
        "    \n",
        "    if type(series) is tuple:\n",
        "\n",
        "      for series_num in series:\n",
        "        # Plot the time series data\n",
        "        plt.plot(time[start:end], series_num[start:end], format)\n",
        "\n",
        "    else:\n",
        "      # Plot the time series data\n",
        "      plt.plot(time[start:end], series[start:end], format)\n",
        "\n",
        "    # Label the x-axis\n",
        "    plt.xlabel(\"Time\")\n",
        "\n",
        "    # Label the y-axis\n",
        "    plt.ylabel(\"Value\")\n",
        "\n",
        "    # Overlay a grid on the graph\n",
        "    plt.grid(True)\n",
        "\n",
        "    # Draw the graph on screen\n",
        "    plt.show()\n",
        "\n",
        "def trend(time, slope=0):\n",
        "    \"\"\"\n",
        "    Generates synthetic data that follows a straight line given a slope value.\n",
        "\n",
        "    Args:\n",
        "      time (array of int) - contains the time steps\n",
        "      slope (float) - determines the direction and steepness of the line\n",
        "\n",
        "    Returns:\n",
        "      series (array of float) - measurements that follow a straight line\n",
        "    \"\"\"\n",
        "\n",
        "    # Compute the linear series given the slope\n",
        "    series = slope * time\n",
        "\n",
        "    return series\n",
        "\n",
        "def seasonal_pattern(season_time):\n",
        "    \"\"\"\n",
        "    Just an arbitrary pattern, you can change it if you wish\n",
        "    \n",
        "    Args:\n",
        "      season_time (array of float) - contains the measurements per time step\n",
        "\n",
        "    Returns:\n",
        "      data_pattern (array of float) -  contains revised measurement values according \n",
        "                                  to the defined pattern\n",
        "    \"\"\"\n",
        "\n",
        "    # Generate the values using an arbitrary pattern\n",
        "    data_pattern = np.where(season_time < 0.4,\n",
        "                    np.cos(season_time * 2 * np.pi),\n",
        "                    1 / np.exp(3 * season_time))\n",
        "    \n",
        "    return data_pattern\n",
        "\n",
        "def seasonality(time, period, amplitude=1, phase=0):\n",
        "    \"\"\"\n",
        "    Repeats the same pattern at each period\n",
        "\n",
        "    Args:\n",
        "      time (array of int) - contains the time steps\n",
        "      period (int) - number of time steps before the pattern repeats\n",
        "      amplitude (int) - peak measured value in a period\n",
        "      phase (int) - number of time steps to shift the measured values\n",
        "\n",
        "    Returns:\n",
        "      data_pattern (array of float) - seasonal data scaled by the defined amplitude\n",
        "    \"\"\"\n",
        "    \n",
        "    # Define the measured values per period\n",
        "    season_time = ((time + phase) % period) / period\n",
        "\n",
        "    # Generates the seasonal data scaled by the defined amplitude\n",
        "    data_pattern = amplitude * seasonal_pattern(season_time)\n",
        "\n",
        "    return data_pattern\n",
        "\n",
        "def noise(time, noise_level=1, seed=None):\n",
        "    \"\"\"Generates a normally distributed noisy signal\n",
        "\n",
        "    Args:\n",
        "      time (array of int) - contains the time steps\n",
        "      noise_level (float) - scaling factor for the generated signal\n",
        "      seed (int) - number generator seed for repeatability\n",
        "\n",
        "    Returns:\n",
        "      noise (array of float) - the noisy signal\n",
        "    \"\"\"\n",
        "\n",
        "    # Initialize the random number generator\n",
        "    rnd = np.random.RandomState(seed)\n",
        "\n",
        "    # Generate a random number for each time step and scale by the noise level\n",
        "    noise = rnd.randn(len(time)) * noise_level\n",
        "    \n",
        "    return noise"
      ]
    },
    {
      "cell_type": "markdown",
      "metadata": {
        "id": "yxNyeFWjGSdj"
      },
      "source": [
        "## Generate the Synthetic Data"
      ]
    },
    {
      "cell_type": "code",
      "execution_count": 3,
      "metadata": {
        "id": "KYEUfDbdpHPm",
        "colab": {
          "base_uri": "https://localhost:8080/",
          "height": 388
        },
        "outputId": "295696f3-71d4-4cf1-82bd-730e54a30bd6"
      },
      "outputs": [
        {
          "output_type": "display_data",
          "data": {
            "text/plain": [
              "<Figure size 720x432 with 1 Axes>"
            ],
            "image/png": "[encoded data removed]"
          },
          "metadata": {
            "needs_background": "light"
          }
        }
      ],
      "source": [
        "# Parameters\n",
        "time = np.arange(4 * 365 + 1, dtype=\"float32\")\n",
        "baseline = 10\n",
        "amplitude = 40\n",
        "slope = 0.05\n",
        "noise_level = 5\n",
        "\n",
        "# Create the series\n",
        "series = baseline + trend(time, slope) + seasonality(time, period=365, amplitude=amplitude)\n",
        "\n",
        "# Update with noise\n",
        "series += noise(time, noise_level, seed=42)\n",
        "\n",
        "# Plot the results\n",
        "plot_series(time, series)"
      ]
    },
    {
      "cell_type": "markdown",
      "metadata": {
        "id": "MYKCvv-eGWRc"
      },
      "source": [
        "## Split the Dataset"
      ]
    },
    {
      "cell_type": "code",
      "execution_count": 4,
      "metadata": {
        "id": "hpp0slenpKVD"
      },
      "outputs": [],
      "source": [
        "# Define the split time\n",
        "split_time = 1000\n",
        "\n",
        "# Get the train set \n",
        "time_train = time[:split_time]\n",
        "x_train = series[:split_time]\n",
        "\n",
        "# Get the validation set\n",
        "time_valid = time[split_time:]\n",
        "x_valid = series[split_time:]"
      ]
    },
    {
      "cell_type": "markdown",
      "metadata": {
        "id": "cktHz9aOGYtV"
      },
      "source": [
        "## Prepare Features and Labels"
      ]
    },
    {
      "cell_type": "code",
      "execution_count": 5,
      "metadata": {
        "id": "G_j_2_Mqwn7-"
      },
      "outputs": [],
      "source": [
        "# Parameters\n",
        "window_size = 20\n",
        "batch_size = 32\n",
        "shuffle_buffer_size = 1000"
      ]
    },
    {
      "cell_type": "code",
      "execution_count": 6,
      "metadata": {
        "id": "4sTTIOCbyShY"
      },
      "outputs": [],
      "source": [
        "def windowed_dataset(series, window_size, batch_size, shuffle_buffer):\n",
        "    \"\"\"Generates dataset windows\n",
        "\n",
        "    Args:\n",
        "      series (array of float) - contains the values of the time series\n",
        "      window_size (int) - the number of time steps to include in the feature\n",
        "      batch_size (int) - the batch size\n",
        "      shuffle_buffer(int) - buffer size to use for the shuffle method\n",
        "\n",
        "    Returns:\n",
        "      dataset (TF Dataset) - TF Dataset containing time windows\n",
        "    \"\"\"\n",
        "  \n",
        "    # Generate a TF Dataset from the series values\n",
        "    dataset = tf.data.Dataset.from_tensor_slices(series)\n",
        "    \n",
        "    # Window the data but only take those with the specified size\n",
        "    dataset = dataset.window(window_size + 1, shift=1, drop_remainder=True)\n",
        "    \n",
        "    # Flatten the windows by putting its elements in a single batch\n",
        "    dataset = dataset.flat_map(lambda window: window.batch(window_size + 1))\n",
        "\n",
        "    # Create tuples with features and labels \n",
        "    dataset = dataset.map(lambda window: (window[:-1], window[-1]))\n",
        "\n",
        "    # Shuffle the windows\n",
        "    dataset = dataset.shuffle(shuffle_buffer)\n",
        "    \n",
        "    # Create batches of windows\n",
        "    dataset = dataset.batch(batch_size).prefetch(1)\n",
        "    \n",
        "    return dataset"
      ]
    },
    {
      "cell_type": "code",
      "execution_count": 7,
      "metadata": {
        "id": "vGj5-InSwtQQ"
      },
      "outputs": [],
      "source": [
        "# Generate the dataset windows\n",
        "dataset = windowed_dataset(x_train, window_size, batch_size, shuffle_buffer_size)"
      ]
    },
    {
      "cell_type": "markdown",
      "metadata": {
        "id": "p9-Ke8ZaGcjd"
      },
      "source": [
        "## Build the Model\n",
        "\n",
        "As mentioned, you will swap `SimpleRNN` for `LSTM` in this lab. It is also set as bidirectional below but feel free to revise later and see what results you get. LSTMs are much more complex in their internal architecture than simpleRNNs. It implements a cell state that allows it to remember sequences better than simple implementations. This added complexity results in a bigger set of parameters to train and you'll see that when you print the model summary below."
      ]
    },
    {
      "cell_type": "code",
      "execution_count": 8,
      "metadata": {
        "id": "A1Hl39rklkLm",
        "colab": {
          "base_uri": "https://localhost:8080/"
        },
        "outputId": "aed25fbc-fb13-4eb8-94e9-f63860606620"
      },
      "outputs": [
        {
          "output_type": "stream",
          "name": "stdout",
          "text": [
            "Model: \"sequential\"\n",
            "_________________________________________________________________\n",
            " Layer (type)                Output Shape              Param #   \n",
            "=================================================================\n",
            " lambda (Lambda)             (None, 20, 1)             0         \n",
            "                                                                 \n",
            " bidirectional (Bidirectiona  (None, 20, 64)           8704      \n",
            " l)                                                              \n",
            "                                                                 \n",
            " bidirectional_1 (Bidirectio  (None, 64)               24832     \n",
            " nal)                                                            \n",
            "                                                                 \n",
            " dense (Dense)               (None, 1)                 65        \n",
            "                                                                 \n",
            " lambda_1 (Lambda)           (None, 1)                 0         \n",
            "                                                                 \n",
            "=================================================================\n",
            "Total params: 33,601\n",
            "Trainable params: 33,601\n",
            "Non-trainable params: 0\n",
            "_________________________________________________________________\n"
          ]
        }
      ],
      "source": [
        "# Build the Model\n",
        "model_tune = tf.keras.models.Sequential([\n",
        "  tf.keras.layers.Lambda(lambda x: tf.expand_dims(x, axis=-1),\n",
        "                         input_shape=[window_size]),\n",
        "  tf.keras.layers.Bidirectional(tf.keras.layers.LSTM(32, return_sequences=True)),\n",
        "  tf.keras.layers.Bidirectional(tf.keras.layers.LSTM(32)),\n",
        "  tf.keras.layers.Dense(1),\n",
        "  tf.keras.layers.Lambda(lambda x: x * 100.0)\n",
        "])\n",
        "\n",
        "# Print the model summary\n",
        "model_tune.summary()"
      ]
    },
    {
      "cell_type": "markdown",
      "metadata": {
        "id": "FHaFblbwq0GV"
      },
      "source": [
        "## Tune the Learning Rate\n",
        "\n",
        "As usual, you will pick a learning rate by running the tuning code below."
      ]
    },
    {
      "cell_type": "code",
      "execution_count": 9,
      "metadata": {
        "id": "qE7al18qw48G",
        "colab": {
          "base_uri": "https://localhost:8080/"
        },
        "outputId": "fcaf12bb-f995-49b4-a16d-0056d4377381"
      },
      "outputs": [
        {
          "output_type": "stream",
          "name": "stdout",
          "text": [
            "Epoch 1/100\n",
            "31/31 [==============================] - 11s 19ms/step - loss: 17.0827 - lr: 1.0000e-08\n",
            "Epoch 2/100\n",
            "31/31 [==============================] - 0s 9ms/step - loss: 16.9953 - lr: 1.1220e-08\n",
            "Epoch 3/100\n",
            "31/31 [==============================] - 0s 9ms/step - loss: 16.8939 - lr: 1.2589e-08\n",
            "Epoch 4/100\n",
            "31/31 [==============================] - 0s 9ms/step - loss: 16.7815 - lr: 1.4125e-08\n",
            "Epoch 5/100\n",
            "31/31 [==============================] - 0s 9ms/step - loss: 16.6625 - lr: 1.5849e-08\n",
            "Epoch 6/100\n",
            "31/31 [==============================] - 0s 9ms/step - loss: 16.5349 - lr: 1.7783e-08\n",
            "Epoch 7/100\n",
            "31/31 [==============================] - 0s 10ms/step - loss: 16.3979 - lr: 1.9953e-08\n",
            "Epoch 8/100\n",
            "31/31 [==============================] - 0s 9ms/step - loss: 16.2553 - lr: 2.2387e-08\n",
            "Epoch 9/100\n",
            "31/31 [==============================] - 0s 9ms/step - loss: 16.1047 - lr: 2.5119e-08\n",
            "Epoch 10/100\n",
            "31/31 [==============================] - 0s 9ms/step - loss: 15.9501 - lr: 2.8184e-08\n",
            "Epoch 11/100\n",
            "31/31 [==============================] - 0s 9ms/step - loss: 15.7887 - lr: 3.1623e-08\n",
            "Epoch 12/100\n",
            "31/31 [==============================] - 0s 9ms/step - loss: 15.6202 - lr: 3.5481e-08\n",
            "Epoch 13/100\n",
            "31/31 [==============================] - 0s 10ms/step - loss: 15.4391 - lr: 3.9811e-08\n",
            "Epoch 14/100\n",
            "31/31 [==============================] - 0s 9ms/step - loss: 15.2620 - lr: 4.4668e-08\n",
            "Epoch 15/100\n",
            "31/31 [==============================] - 0s 10ms/step - loss: 15.0761 - lr: 5.0119e-08\n",
            "Epoch 16/100\n",
            "31/31 [==============================] - 0s 10ms/step - loss: 14.8889 - lr: 5.6234e-08\n",
            "Epoch 17/100\n",
            "31/31 [==============================] - 0s 10ms/step - loss: 14.7036 - lr: 6.3096e-08\n",
            "Epoch 18/100\n",
            "31/31 [==============================] - 0s 10ms/step - loss: 14.5205 - lr: 7.0795e-08\n",
            "Epoch 19/100\n",
            "31/31 [==============================] - 0s 10ms/step - loss: 14.3350 - lr: 7.9433e-08\n",
            "Epoch 20/100\n",
            "31/31 [==============================] - 0s 10ms/step - loss: 14.1510 - lr: 8.9125e-08\n",
            "Epoch 21/100\n",
            "31/31 [==============================] - 0s 9ms/step - loss: 13.9562 - lr: 1.0000e-07\n",
            "Epoch 22/100\n",
            "31/31 [==============================] - 0s 9ms/step - loss: 13.7496 - lr: 1.1220e-07\n",
            "Epoch 23/100\n",
            "31/31 [==============================] - 0s 9ms/step - loss: 13.5307 - lr: 1.2589e-07\n",
            "Epoch 24/100\n",
            "31/31 [==============================] - 0s 9ms/step - loss: 13.2842 - lr: 1.4125e-07\n",
            "Epoch 25/100\n",
            "31/31 [==============================] - 0s 10ms/step - loss: 13.0211 - lr: 1.5849e-07\n",
            "Epoch 26/100\n",
            "31/31 [==============================] - 0s 9ms/step - loss: 12.7223 - lr: 1.7783e-07\n",
            "Epoch 27/100\n",
            "31/31 [==============================] - 0s 9ms/step - loss: 12.4015 - lr: 1.9953e-07\n",
            "Epoch 28/100\n",
            "31/31 [==============================] - 0s 10ms/step - loss: 12.0564 - lr: 2.2387e-07\n",
            "Epoch 29/100\n",
            "31/31 [==============================] - 0s 9ms/step - loss: 11.6861 - lr: 2.5119e-07\n",
            "Epoch 30/100\n",
            "31/31 [==============================] - 0s 9ms/step - loss: 11.2159 - lr: 2.8184e-07\n",
            "Epoch 31/100\n",
            "31/31 [==============================] - 0s 9ms/step - loss: 10.7620 - lr: 3.1623e-07\n",
            "Epoch 32/100\n",
            "31/31 [==============================] - 0s 10ms/step - loss: 10.3096 - lr: 3.5481e-07\n",
            "Epoch 33/100\n",
            "31/31 [==============================] - 0s 9ms/step - loss: 9.9150 - lr: 3.9811e-07\n",
            "Epoch 34/100\n",
            "31/31 [==============================] - 0s 9ms/step - loss: 9.4500 - lr: 4.4668e-07\n",
            "Epoch 35/100\n",
            "31/31 [==============================] - 0s 10ms/step - loss: 9.1039 - lr: 5.0119e-07\n",
            "Epoch 36/100\n",
            "31/31 [==============================] - 0s 10ms/step - loss: 8.8330 - lr: 5.6234e-07\n",
            "Epoch 37/100\n",
            "31/31 [==============================] - 0s 9ms/step - loss: 8.5327 - lr: 6.3096e-07\n",
            "Epoch 38/100\n",
            "31/31 [==============================] - 0s 10ms/step - loss: 8.2738 - lr: 7.0795e-07\n",
            "Epoch 39/100\n",
            "31/31 [==============================] - 0s 9ms/step - loss: 7.9630 - lr: 7.9433e-07\n",
            "Epoch 40/100\n",
            "31/31 [==============================] - 0s 10ms/step - loss: 7.6388 - lr: 8.9125e-07\n",
            "Epoch 41/100\n",
            "31/31 [==============================] - 0s 9ms/step - loss: 7.3746 - lr: 1.0000e-06\n",
            "Epoch 42/100\n",
            "31/31 [==============================] - 0s 10ms/step - loss: 7.0974 - lr: 1.1220e-06\n",
            "Epoch 43/100\n",
            "31/31 [==============================] - 0s 10ms/step - loss: 6.9833 - lr: 1.2589e-06\n",
            "Epoch 44/100\n",
            "31/31 [==============================] - 0s 10ms/step - loss: 6.7878 - lr: 1.4125e-06\n",
            "Epoch 45/100\n",
            "31/31 [==============================] - 0s 10ms/step - loss: 6.6325 - lr: 1.5849e-06\n",
            "Epoch 46/100\n",
            "31/31 [==============================] - 0s 9ms/step - loss: 6.5146 - lr: 1.7783e-06\n",
            "Epoch 47/100\n",
            "31/31 [==============================] - 0s 10ms/step - loss: 6.6946 - lr: 1.9953e-06\n",
            "Epoch 48/100\n",
            "31/31 [==============================] - 0s 9ms/step - loss: 6.2443 - lr: 2.2387e-06\n",
            "Epoch 49/100\n",
            "31/31 [==============================] - 0s 10ms/step - loss: 6.0420 - lr: 2.5119e-06\n",
            "Epoch 50/100\n",
            "31/31 [==============================] - 0s 9ms/step - loss: 5.9968 - lr: 2.8184e-06\n",
            "Epoch 51/100\n",
            "31/31 [==============================] - 0s 10ms/step - loss: 5.8574 - lr: 3.1623e-06\n",
            "Epoch 52/100\n",
            "31/31 [==============================] - 0s 10ms/step - loss: 5.7851 - lr: 3.5481e-06\n",
            "Epoch 53/100\n",
            "31/31 [==============================] - 0s 9ms/step - loss: 5.6956 - lr: 3.9811e-06\n",
            "Epoch 54/100\n",
            "31/31 [==============================] - 0s 10ms/step - loss: 5.4945 - lr: 4.4668e-06\n",
            "Epoch 55/100\n",
            "31/31 [==============================] - 0s 9ms/step - loss: 5.4660 - lr: 5.0119e-06\n",
            "Epoch 56/100\n",
            "31/31 [==============================] - 0s 10ms/step - loss: 5.3898 - lr: 5.6234e-06\n",
            "Epoch 57/100\n",
            "31/31 [==============================] - 0s 10ms/step - loss: 5.2491 - lr: 6.3096e-06\n",
            "Epoch 58/100\n",
            "31/31 [==============================] - 0s 10ms/step - loss: 5.2471 - lr: 7.0795e-06\n",
            "Epoch 59/100\n",
            "31/31 [==============================] - 0s 9ms/step - loss: 5.2950 - lr: 7.9433e-06\n",
            "Epoch 60/100\n",
            "31/31 [==============================] - 0s 10ms/step - loss: 5.1783 - lr: 8.9125e-06\n",
            "Epoch 61/100\n",
            "31/31 [==============================] - 0s 10ms/step - loss: 5.3331 - lr: 1.0000e-05\n",
            "Epoch 62/100\n",
            "31/31 [==============================] - 0s 9ms/step - loss: 5.2290 - lr: 1.1220e-05\n",
            "Epoch 63/100\n",
            "31/31 [==============================] - 0s 9ms/step - loss: 5.1412 - lr: 1.2589e-05\n",
            "Epoch 64/100\n",
            "31/31 [==============================] - 0s 9ms/step - loss: 4.8582 - lr: 1.4125e-05\n",
            "Epoch 65/100\n",
            "31/31 [==============================] - 0s 10ms/step - loss: 5.3373 - lr: 1.5849e-05\n",
            "Epoch 66/100\n",
            "31/31 [==============================] - 0s 9ms/step - loss: 5.3643 - lr: 1.7783e-05\n",
            "Epoch 67/100\n",
            "31/31 [==============================] - 0s 9ms/step - loss: 5.1897 - lr: 1.9953e-05\n",
            "Epoch 68/100\n",
            "31/31 [==============================] - 0s 10ms/step - loss: 5.3384 - lr: 2.2387e-05\n",
            "Epoch 69/100\n",
            "31/31 [==============================] - 0s 9ms/step - loss: 5.5514 - lr: 2.5119e-05\n",
            "Epoch 70/100\n",
            "31/31 [==============================] - 0s 9ms/step - loss: 7.0129 - lr: 2.8184e-05\n",
            "Epoch 71/100\n",
            "31/31 [==============================] - 0s 10ms/step - loss: 5.9358 - lr: 3.1623e-05\n",
            "Epoch 72/100\n",
            "31/31 [==============================] - 0s 10ms/step - loss: 5.1512 - lr: 3.5481e-05\n",
            "Epoch 73/100\n",
            "31/31 [==============================] - 0s 9ms/step - loss: 5.9992 - lr: 3.9811e-05\n",
            "Epoch 74/100\n",
            "31/31 [==============================] - 0s 9ms/step - loss: 5.5604 - lr: 4.4668e-05\n",
            "Epoch 75/100\n",
            "31/31 [==============================] - 0s 10ms/step - loss: 5.4568 - lr: 5.0119e-05\n",
            "Epoch 76/100\n",
            "31/31 [==============================] - 0s 10ms/step - loss: 6.1413 - lr: 5.6234e-05\n",
            "Epoch 77/100\n",
            "31/31 [==============================] - 0s 10ms/step - loss: 6.5368 - lr: 6.3096e-05\n",
            "Epoch 78/100\n",
            "31/31 [==============================] - 0s 9ms/step - loss: 6.2887 - lr: 7.0795e-05\n",
            "Epoch 79/100\n",
            "31/31 [==============================] - 0s 9ms/step - loss: 5.3011 - lr: 7.9433e-05\n",
            "Epoch 80/100\n",
            "31/31 [==============================] - 0s 10ms/step - loss: 7.0667 - lr: 8.9125e-05\n",
            "Epoch 81/100\n",
            "31/31 [==============================] - 0s 9ms/step - loss: 7.6427 - lr: 1.0000e-04\n",
            "Epoch 82/100\n",
            "31/31 [==============================] - 0s 9ms/step - loss: 6.9291 - lr: 1.1220e-04\n",
            "Epoch 83/100\n",
            "31/31 [==============================] - 0s 9ms/step - loss: 8.9972 - lr: 1.2589e-04\n",
            "Epoch 84/100\n",
            "31/31 [==============================] - 0s 9ms/step - loss: 6.1350 - lr: 1.4125e-04\n",
            "Epoch 85/100\n",
            "31/31 [==============================] - 0s 10ms/step - loss: 7.4778 - lr: 1.5849e-04\n",
            "Epoch 86/100\n",
            "31/31 [==============================] - 0s 10ms/step - loss: 6.7026 - lr: 1.7783e-04\n",
            "Epoch 87/100\n",
            "31/31 [==============================] - 0s 9ms/step - loss: 8.2957 - lr: 1.9953e-04\n",
            "Epoch 88/100\n",
            "31/31 [==============================] - 0s 10ms/step - loss: 6.3749 - lr: 2.2387e-04\n",
            "Epoch 89/100\n",
            "31/31 [==============================] - 0s 10ms/step - loss: 8.2286 - lr: 2.5119e-04\n",
            "Epoch 90/100\n",
            "31/31 [==============================] - 0s 10ms/step - loss: 11.7060 - lr: 2.8184e-04\n",
            "Epoch 91/100\n",
            "31/31 [==============================] - 0s 10ms/step - loss: 7.5293 - lr: 3.1623e-04\n",
            "Epoch 92/100\n",
            "31/31 [==============================] - 0s 9ms/step - loss: 8.8850 - lr: 3.5481e-04\n",
            "Epoch 93/100\n",
            "31/31 [==============================] - 0s 10ms/step - loss: 6.8661 - lr: 3.9811e-04\n",
            "Epoch 94/100\n",
            "31/31 [==============================] - 0s 9ms/step - loss: 8.2322 - lr: 4.4668e-04\n",
            "Epoch 95/100\n",
            "31/31 [==============================] - 0s 10ms/step - loss: 8.6542 - lr: 5.0119e-04\n",
            "Epoch 96/100\n",
            "31/31 [==============================] - 0s 10ms/step - loss: 15.3961 - lr: 5.6234e-04\n",
            "Epoch 97/100\n",
            "31/31 [==============================] - 0s 9ms/step - loss: 11.1097 - lr: 6.3096e-04\n",
            "Epoch 98/100\n",
            "31/31 [==============================] - 0s 10ms/step - loss: 16.3983 - lr: 7.0795e-04\n",
            "Epoch 99/100\n",
            "31/31 [==============================] - 0s 10ms/step - loss: 14.2209 - lr: 7.9433e-04\n",
            "Epoch 100/100\n",
            "31/31 [==============================] - 0s 9ms/step - loss: 12.7459 - lr: 8.9125e-04\n"
          ]
        }
      ],
      "source": [
        "# Set the learning rate scheduler\n",
        "lr_schedule = tf.keras.callbacks.LearningRateScheduler(lambda epoch: 1e-8 * 10**(epoch / 20))\n",
        "\n",
        "# Initialize the optimizer\n",
        "optimizer = tf.keras.optimizers.SGD(momentum=0.9)\n",
        "\n",
        "# Set the training parameters\n",
        "model_tune.compile(loss=tf.keras.losses.Huber(), optimizer=optimizer)\n",
        "\n",
        "# Train the model\n",
        "history = model_tune.fit(dataset, epochs=100, callbacks=[lr_schedule])"
      ]
    },
    {
      "cell_type": "code",
      "execution_count": 10,
      "metadata": {
        "id": "AkBsrsXMzoWR",
        "colab": {
          "base_uri": "https://localhost:8080/",
          "height": 405
        },
        "outputId": "a782c045-61f8-44df-890d-a9126f56d95a"
      },
      "outputs": [
        {
          "output_type": "execute_result",
          "data": {
            "text/plain": [
              "(1e-08, 0.001, 0.0, 30.0)"
            ]
          },
          "metadata": {},
          "execution_count": 10
        },
        {
          "output_type": "display_data",
          "data": {
            "text/plain": [
              "<Figure size 720x432 with 1 Axes>"
            ],
            "image/png": "[encoded data removed]"
          },
          "metadata": {
            "needs_background": "light"
          }
        }
      ],
      "source": [
        "# Define the learning rate array\n",
        "lrs = 1e-8 * (10 ** (np.arange(100) / 20))\n",
        "\n",
        "# Set the figure size\n",
        "plt.figure(figsize=(10, 6))\n",
        "\n",
        "# Set the grid\n",
        "plt.grid(True)\n",
        "\n",
        "# Plot the loss in log scale\n",
        "plt.semilogx(lrs, history.history[\"loss\"])\n",
        "\n",
        "# Increase the tickmarks size\n",
        "plt.tick_params('both', length=10, width=1, which='both')\n",
        "\n",
        "# Set the plot boundaries\n",
        "plt.axis([1e-8, 1e-3, 0, 30])"
      ]
    },
    {
      "cell_type": "markdown",
      "metadata": {
        "id": "i-lKNp4pq_w8"
      },
      "source": [
        "## Train the Model\n",
        "\n",
        "You can then proceed to train the model with your chosen learning rate. \n",
        "\n",
        "*Tip: When experimenting and you find yourself running different iterations of a model, you may want to use the [`clear_session()`](https://www.tensorflow.org/api_docs/python/tf/keras/backend/clear_session) method to declutter memory used by Keras. This is added in the first line below.*\n"
      ]
    },
    {
      "cell_type": "code",
      "execution_count": 11,
      "metadata": {
        "id": "4uh-97bpLZCA",
        "colab": {
          "base_uri": "https://localhost:8080/"
        },
        "outputId": "78bd3503-55fa-4c0f-b5e6-7d87fd584cf5"
      },
      "outputs": [
        {
          "output_type": "stream",
          "name": "stdout",
          "text": [
            "Epoch 1/100\n",
            "31/31 [==============================] - 5s 10ms/step - loss: 28.9267 - mae: 29.4230\n",
            "Epoch 2/100\n",
            "31/31 [==============================] - 0s 10ms/step - loss: 11.0300 - mae: 11.5170\n",
            "Epoch 3/100\n",
            "31/31 [==============================] - 0s 9ms/step - loss: 8.7998 - mae: 9.2849\n",
            "Epoch 4/100\n",
            "31/31 [==============================] - 0s 10ms/step - loss: 7.7634 - mae: 8.2474\n",
            "Epoch 5/100\n",
            "31/31 [==============================] - 0s 11ms/step - loss: 7.2317 - mae: 7.7152\n",
            "Epoch 6/100\n",
            "31/31 [==============================] - 0s 10ms/step - loss: 6.7772 - mae: 7.2552\n",
            "Epoch 7/100\n",
            "31/31 [==============================] - 0s 10ms/step - loss: 6.5269 - mae: 7.0089\n",
            "Epoch 8/100\n",
            "31/31 [==============================] - 0s 10ms/step - loss: 6.4324 - mae: 6.9118\n",
            "Epoch 9/100\n",
            "31/31 [==============================] - 0s 10ms/step - loss: 6.3079 - mae: 6.7883\n",
            "Epoch 10/100\n",
            "31/31 [==============================] - 0s 10ms/step - loss: 6.1647 - mae: 6.6437\n",
            "Epoch 11/100\n",
            "31/31 [==============================] - 0s 10ms/step - loss: 6.0115 - mae: 6.4894\n",
            "Epoch 12/100\n",
            "31/31 [==============================] - 0s 10ms/step - loss: 5.9502 - mae: 6.4289\n",
            "Epoch 13/100\n",
            "31/31 [==============================] - 0s 10ms/step - loss: 5.8789 - mae: 6.3561\n",
            "Epoch 14/100\n",
            "31/31 [==============================] - 0s 10ms/step - loss: 5.8527 - mae: 6.3318\n",
            "Epoch 15/100\n",
            "31/31 [==============================] - 0s 10ms/step - loss: 5.7395 - mae: 6.2189\n",
            "Epoch 16/100\n",
            "31/31 [==============================] - 0s 10ms/step - loss: 5.6407 - mae: 6.1190\n",
            "Epoch 17/100\n",
            "31/31 [==============================] - 0s 10ms/step - loss: 5.6509 - mae: 6.1292\n",
            "Epoch 18/100\n",
            "31/31 [==============================] - 0s 10ms/step - loss: 5.5498 - mae: 6.0300\n",
            "Epoch 19/100\n",
            "31/31 [==============================] - 0s 9ms/step - loss: 5.6008 - mae: 6.0772\n",
            "Epoch 20/100\n",
            "31/31 [==============================] - 0s 10ms/step - loss: 5.4463 - mae: 5.9243\n",
            "Epoch 21/100\n",
            "31/31 [==============================] - 0s 10ms/step - loss: 5.4331 - mae: 5.9140\n",
            "Epoch 22/100\n",
            "31/31 [==============================] - 0s 10ms/step - loss: 5.3917 - mae: 5.8688\n",
            "Epoch 23/100\n",
            "31/31 [==============================] - 0s 10ms/step - loss: 5.3666 - mae: 5.8458\n",
            "Epoch 24/100\n",
            "31/31 [==============================] - 0s 10ms/step - loss: 5.3513 - mae: 5.8302\n",
            "Epoch 25/100\n",
            "31/31 [==============================] - 0s 10ms/step - loss: 5.3293 - mae: 5.8071\n",
            "Epoch 26/100\n",
            "31/31 [==============================] - 0s 10ms/step - loss: 5.2410 - mae: 5.7210\n",
            "Epoch 27/100\n",
            "31/31 [==============================] - 0s 10ms/step - loss: 5.2272 - mae: 5.7006\n",
            "Epoch 28/100\n",
            "31/31 [==============================] - 0s 10ms/step - loss: 5.2150 - mae: 5.6901\n",
            "Epoch 29/100\n",
            "31/31 [==============================] - 0s 10ms/step - loss: 5.1897 - mae: 5.6624\n",
            "Epoch 30/100\n",
            "31/31 [==============================] - 0s 10ms/step - loss: 5.1510 - mae: 5.6253\n",
            "Epoch 31/100\n",
            "31/31 [==============================] - 0s 10ms/step - loss: 5.1185 - mae: 5.5950\n",
            "Epoch 32/100\n",
            "31/31 [==============================] - 0s 9ms/step - loss: 5.1072 - mae: 5.5829\n",
            "Epoch 33/100\n",
            "31/31 [==============================] - 0s 10ms/step - loss: 5.0859 - mae: 5.5630\n",
            "Epoch 34/100\n",
            "31/31 [==============================] - 0s 9ms/step - loss: 5.0231 - mae: 5.4992\n",
            "Epoch 35/100\n",
            "31/31 [==============================] - 0s 10ms/step - loss: 5.0189 - mae: 5.4962\n",
            "Epoch 36/100\n",
            "31/31 [==============================] - 0s 10ms/step - loss: 5.0184 - mae: 5.4935\n",
            "Epoch 37/100\n",
            "31/31 [==============================] - 0s 10ms/step - loss: 4.9620 - mae: 5.4380\n",
            "Epoch 38/100\n",
            "31/31 [==============================] - 0s 10ms/step - loss: 4.8927 - mae: 5.3685\n",
            "Epoch 39/100\n",
            "31/31 [==============================] - 0s 10ms/step - loss: 5.0082 - mae: 5.4847\n",
            "Epoch 40/100\n",
            "31/31 [==============================] - 0s 9ms/step - loss: 4.9364 - mae: 5.4091\n",
            "Epoch 41/100\n",
            "31/31 [==============================] - 0s 10ms/step - loss: 5.0690 - mae: 5.5485\n",
            "Epoch 42/100\n",
            "31/31 [==============================] - 0s 10ms/step - loss: 4.9887 - mae: 5.4666\n",
            "Epoch 43/100\n",
            "31/31 [==============================] - 0s 10ms/step - loss: 4.8137 - mae: 5.2893\n",
            "Epoch 44/100\n",
            "31/31 [==============================] - 0s 10ms/step - loss: 4.8252 - mae: 5.3000\n",
            "Epoch 45/100\n",
            "31/31 [==============================] - 0s 10ms/step - loss: 4.7894 - mae: 5.2647\n",
            "Epoch 46/100\n",
            "31/31 [==============================] - 0s 10ms/step - loss: 4.7893 - mae: 5.2632\n",
            "Epoch 47/100\n",
            "31/31 [==============================] - 0s 10ms/step - loss: 4.7178 - mae: 5.1933\n",
            "Epoch 48/100\n",
            "31/31 [==============================] - 0s 10ms/step - loss: 4.7838 - mae: 5.2609\n",
            "Epoch 49/100\n",
            "31/31 [==============================] - 0s 10ms/step - loss: 4.7306 - mae: 5.2053\n",
            "Epoch 50/100\n",
            "31/31 [==============================] - 0s 10ms/step - loss: 4.6941 - mae: 5.1719\n",
            "Epoch 51/100\n",
            "31/31 [==============================] - 0s 10ms/step - loss: 4.7764 - mae: 5.2483\n",
            "Epoch 52/100\n",
            "31/31 [==============================] - 0s 10ms/step - loss: 4.6955 - mae: 5.1708\n",
            "Epoch 53/100\n",
            "31/31 [==============================] - 0s 9ms/step - loss: 4.7846 - mae: 5.2600\n",
            "Epoch 54/100\n",
            "31/31 [==============================] - 0s 9ms/step - loss: 4.8106 - mae: 5.2889\n",
            "Epoch 55/100\n",
            "31/31 [==============================] - 0s 10ms/step - loss: 4.6754 - mae: 5.1503\n",
            "Epoch 56/100\n",
            "31/31 [==============================] - 0s 10ms/step - loss: 4.6347 - mae: 5.1051\n",
            "Epoch 57/100\n",
            "31/31 [==============================] - 0s 10ms/step - loss: 4.7855 - mae: 5.2597\n",
            "Epoch 58/100\n",
            "31/31 [==============================] - 0s 10ms/step - loss: 4.6743 - mae: 5.1496\n",
            "Epoch 59/100\n",
            "31/31 [==============================] - 0s 10ms/step - loss: 4.6184 - mae: 5.0922\n",
            "Epoch 60/100\n",
            "31/31 [==============================] - 0s 10ms/step - loss: 4.6894 - mae: 5.1622\n",
            "Epoch 61/100\n",
            "31/31 [==============================] - 0s 10ms/step - loss: 4.6455 - mae: 5.1229\n",
            "Epoch 62/100\n",
            "31/31 [==============================] - 0s 9ms/step - loss: 4.6335 - mae: 5.1082\n",
            "Epoch 63/100\n",
            "31/31 [==============================] - 0s 9ms/step - loss: 4.7148 - mae: 5.1877\n",
            "Epoch 64/100\n",
            "31/31 [==============================] - 0s 9ms/step - loss: 4.6805 - mae: 5.1558\n",
            "Epoch 65/100\n",
            "31/31 [==============================] - 0s 9ms/step - loss: 4.7167 - mae: 5.1964\n",
            "Epoch 66/100\n",
            "31/31 [==============================] - 0s 10ms/step - loss: 4.6246 - mae: 5.1014\n",
            "Epoch 67/100\n",
            "31/31 [==============================] - 0s 10ms/step - loss: 4.5840 - mae: 5.0575\n",
            "Epoch 68/100\n",
            "31/31 [==============================] - 0s 10ms/step - loss: 4.6377 - mae: 5.1168\n",
            "Epoch 69/100\n",
            "31/31 [==============================] - 0s 9ms/step - loss: 4.6352 - mae: 5.1150\n",
            "Epoch 70/100\n",
            "31/31 [==============================] - 0s 9ms/step - loss: 4.5687 - mae: 5.0440\n",
            "Epoch 71/100\n",
            "31/31 [==============================] - 0s 10ms/step - loss: 4.6260 - mae: 5.1044\n",
            "Epoch 72/100\n",
            "31/31 [==============================] - 0s 10ms/step - loss: 4.5617 - mae: 5.0408\n",
            "Epoch 73/100\n",
            "31/31 [==============================] - 0s 10ms/step - loss: 4.6676 - mae: 5.1485\n",
            "Epoch 74/100\n",
            "31/31 [==============================] - 0s 10ms/step - loss: 4.6709 - mae: 5.1436\n",
            "Epoch 75/100\n",
            "31/31 [==============================] - 0s 10ms/step - loss: 4.5733 - mae: 5.0523\n",
            "Epoch 76/100\n",
            "31/31 [==============================] - 0s 10ms/step - loss: 4.5390 - mae: 5.0117\n",
            "Epoch 77/100\n",
            "31/31 [==============================] - 0s 10ms/step - loss: 4.5879 - mae: 5.0660\n",
            "Epoch 78/100\n",
            "31/31 [==============================] - 0s 10ms/step - loss: 4.5428 - mae: 5.0183\n",
            "Epoch 79/100\n",
            "31/31 [==============================] - 0s 10ms/step - loss: 4.6188 - mae: 5.0921\n",
            "Epoch 80/100\n",
            "31/31 [==============================] - 0s 10ms/step - loss: 4.5618 - mae: 5.0395\n",
            "Epoch 81/100\n",
            "31/31 [==============================] - 0s 10ms/step - loss: 4.6324 - mae: 5.1098\n",
            "Epoch 82/100\n",
            "31/31 [==============================] - 0s 10ms/step - loss: 4.5969 - mae: 5.0693\n",
            "Epoch 83/100\n",
            "31/31 [==============================] - 0s 10ms/step - loss: 4.5736 - mae: 5.0468\n",
            "Epoch 84/100\n",
            "31/31 [==============================] - 0s 10ms/step - loss: 4.6026 - mae: 5.0793\n",
            "Epoch 85/100\n",
            "31/31 [==============================] - 0s 10ms/step - loss: 4.5419 - mae: 5.0201\n",
            "Epoch 86/100\n",
            "31/31 [==============================] - 0s 10ms/step - loss: 4.4880 - mae: 4.9636\n",
            "Epoch 87/100\n",
            "31/31 [==============================] - 0s 10ms/step - loss: 4.6027 - mae: 5.0786\n",
            "Epoch 88/100\n",
            "31/31 [==============================] - 0s 10ms/step - loss: 4.7379 - mae: 5.2160\n",
            "Epoch 89/100\n",
            "31/31 [==============================] - 0s 9ms/step - loss: 4.4904 - mae: 4.9591\n",
            "Epoch 90/100\n",
            "31/31 [==============================] - 0s 10ms/step - loss: 4.5451 - mae: 5.0191\n",
            "Epoch 91/100\n",
            "31/31 [==============================] - 0s 10ms/step - loss: 4.5383 - mae: 5.0136\n",
            "Epoch 92/100\n",
            "31/31 [==============================] - 0s 10ms/step - loss: 4.5254 - mae: 5.0017\n",
            "Epoch 93/100\n",
            "31/31 [==============================] - 0s 9ms/step - loss: 4.6806 - mae: 5.1583\n",
            "Epoch 94/100\n",
            "31/31 [==============================] - 0s 10ms/step - loss: 4.5944 - mae: 5.0720\n",
            "Epoch 95/100\n",
            "31/31 [==============================] - 0s 10ms/step - loss: 4.4948 - mae: 4.9723\n",
            "Epoch 96/100\n",
            "31/31 [==============================] - 0s 10ms/step - loss: 4.4954 - mae: 4.9715\n",
            "Epoch 97/100\n",
            "31/31 [==============================] - 0s 10ms/step - loss: 4.5575 - mae: 5.0328\n",
            "Epoch 98/100\n",
            "31/31 [==============================] - 0s 10ms/step - loss: 4.5888 - mae: 5.0694\n",
            "Epoch 99/100\n",
            "31/31 [==============================] - 0s 10ms/step - loss: 4.5199 - mae: 4.9985\n",
            "Epoch 100/100\n",
            "31/31 [==============================] - 0s 10ms/step - loss: 4.5484 - mae: 5.0187\n"
          ]
        }
      ],
      "source": [
        "# Reset states generated by Keras\n",
        "tf.keras.backend.clear_session()\n",
        "\n",
        "# Build the model\n",
        "model = tf.keras.models.Sequential([\n",
        "  tf.keras.layers.Lambda(lambda x: tf.expand_dims(x, axis=-1),\n",
        "                         input_shape=[None]),\n",
        "  tf.keras.layers.Bidirectional(tf.keras.layers.LSTM(32, return_sequences=True)),\n",
        "  tf.keras.layers.Bidirectional(tf.keras.layers.LSTM(32)),\n",
        "  tf.keras.layers.Dense(1),\n",
        "  tf.keras.layers.Lambda(lambda x: x * 100.0)\n",
        "])\n",
        "\n",
        "# Set the learning rate\n",
        "learning_rate = 2e-6\n",
        "\n",
        "# Set the optimizer \n",
        "optimizer = tf.keras.optimizers.SGD(learning_rate=learning_rate, momentum=0.9)\n",
        "\n",
        "# Set the training parameters\n",
        "model.compile(loss=tf.keras.losses.Huber(),\n",
        "              optimizer=optimizer,\n",
        "              metrics=[\"mae\"])\n",
        "\n",
        "# Train the model\n",
        "history = model.fit(dataset,epochs=100)"
      ]
    },
    {
      "cell_type": "markdown",
      "metadata": {
        "id": "RjP4kbGiI7cw"
      },
      "source": [
        "## Model Prediction\n",
        "\n",
        "You will then generate batches of windows to generate predictions that align with the validation set."
      ]
    },
    {
      "cell_type": "code",
      "execution_count": 12,
      "metadata": {
        "id": "QO8cfKwKBBG6"
      },
      "outputs": [],
      "source": [
        "def model_forecast(model, series, window_size, batch_size):\n",
        "    \"\"\"Uses an input model to generate predictions on data windows\n",
        "\n",
        "    Args:\n",
        "      model (TF Keras Model) - model that accepts data windows\n",
        "      series (array of float) - contains the values of the time series\n",
        "      window_size (int) - the number of time steps to include in the window\n",
        "      batch_size (int) - the batch size\n",
        "\n",
        "    Returns:\n",
        "      forecast (numpy array) - array containing predictions\n",
        "    \"\"\"\n",
        "\n",
        "    # Generate a TF Dataset from the series values\n",
        "    dataset = tf.data.Dataset.from_tensor_slices(series)\n",
        "\n",
        "    # Window the data but only take those with the specified size\n",
        "    dataset = dataset.window(window_size, shift=1, drop_remainder=True)\n",
        "\n",
        "    # Flatten the windows by putting its elements in a single batch\n",
        "    dataset = dataset.flat_map(lambda w: w.batch(window_size))\n",
        "    \n",
        "    # Create batches of windows\n",
        "    dataset = dataset.batch(batch_size).prefetch(1)\n",
        "    \n",
        "    # Get predictions on the entire dataset\n",
        "    forecast = model.predict(dataset)\n",
        "    \n",
        "    return forecast"
      ]
    },
    {
      "cell_type": "code",
      "execution_count": 13,
      "metadata": {
        "id": "_plB3UseBD8o",
        "colab": {
          "base_uri": "https://localhost:8080/",
          "height": 405
        },
        "outputId": "acd4f40f-79d8-4d7a-b199-b37de2f2589c"
      },
      "outputs": [
        {
          "output_type": "stream",
          "name": "stdout",
          "text": [
            "15/15 [==============================] - 1s 8ms/step\n"
          ]
        },
        {
          "output_type": "display_data",
          "data": {
            "text/plain": [
              "<Figure size 720x432 with 1 Axes>"
            ],
            "image/png": "[encoded data removed]"
          },
          "metadata": {
            "needs_background": "light"
          }
        }
      ],
      "source": [
        "# Reduce the original series\n",
        "forecast_series = series[split_time-window_size:-1]\n",
        "\n",
        "# Use helper function to generate predictions\n",
        "forecast = model_forecast(model, forecast_series, window_size, batch_size)\n",
        "\n",
        "# Drop single dimensional axis\n",
        "results = forecast.squeeze()\n",
        "\n",
        "# Plot the results\n",
        "plot_series(time_valid, (x_valid, results))"
      ]
    },
    {
      "cell_type": "markdown",
      "metadata": {
        "id": "Nn8iSQkZtaRC"
      },
      "source": [
        "You can then generate the metrics to evaluate the model's performance."
      ]
    },
    {
      "cell_type": "code",
      "execution_count": 14,
      "metadata": {
        "id": "-IKhueZaBGID",
        "colab": {
          "base_uri": "https://localhost:8080/"
        },
        "outputId": "d3959644-5e8c-4172-e781-3caeeae2c9d1"
      },
      "outputs": [
        {
          "output_type": "stream",
          "name": "stdout",
          "text": [
            "63.152657\n",
            "5.718588\n"
          ]
        }
      ],
      "source": [
        "# Compute the MSE and MAE\n",
        "print(tf.keras.metrics.mean_squared_error(x_valid, results).numpy())\n",
        "print(tf.keras.metrics.mean_absolute_error(x_valid, results).numpy())"
      ]
    },
    {
      "cell_type": "markdown",
      "metadata": {
        "id": "bzPIqeMWvbPy"
      },
      "source": [
        "## Wrap Up\n",
        "\n",
        "This concludes this short exercise on using LSTMs for time series forecasting. Next week, you will build upon this and add convolutions. Then, you will start to move away from synthetic data and use real-world datasets. See you there!"
      ]
    },
    {
      "cell_type": "markdown",
      "metadata": {
        "id": "U5PqTePGHeMH"
      },
      "source": [
        "## Optional: Including a Validation Set while Training\n",
        "\n",
        "Back in the first course of this specialization, you saw how you can also monitor the performance of your model against a validation set while training. You can also do that for this lab. \n",
        "\n",
        "First, you need to generate a `val_set` which are data windows and labels that your model can accept. You can simply reuse the `windowed_dataset` function for that and you can pass in the `x_valid` points to generate the windows."
      ]
    },
    {
      "cell_type": "code",
      "execution_count": 15,
      "metadata": {
        "id": "kvFVwL3PC4iX"
      },
      "outputs": [],
      "source": [
        "# Generate data windows of the validation set\n",
        "val_set = windowed_dataset(x_valid, window_size, batch_size, shuffle_buffer_size)"
      ]
    },
    {
      "cell_type": "markdown",
      "metadata": {
        "id": "p68j6XxEvP9K"
      },
      "source": [
        "You can then do the same training as before but pass in the `val_set` to the `validation_data` parameter of the `fit()` method."
      ]
    },
    {
      "cell_type": "code",
      "execution_count": 16,
      "metadata": {
        "id": "wujKz6tXDSn0",
        "colab": {
          "base_uri": "https://localhost:8080/"
        },
        "outputId": "012ef840-7459-42f8-eeeb-b7daf6a0fad2"
      },
      "outputs": [
        {
          "output_type": "stream",
          "name": "stdout",
          "text": [
            "Epoch 1/100\n",
            "31/31 [==============================] - 7s 65ms/step - loss: 43.6355 - mae: 44.1330 - val_loss: 22.8627 - val_mae: 23.3596\n",
            "Epoch 2/100\n",
            "31/31 [==============================] - 0s 13ms/step - loss: 15.9771 - mae: 16.4698 - val_loss: 34.3778 - val_mae: 34.8768\n",
            "Epoch 3/100\n",
            "31/31 [==============================] - 1s 13ms/step - loss: 12.3409 - mae: 12.8295 - val_loss: 27.8986 - val_mae: 28.3943\n",
            "Epoch 4/100\n",
            "31/31 [==============================] - 0s 13ms/step - loss: 9.4760 - mae: 9.9601 - val_loss: 20.2928 - val_mae: 20.7904\n",
            "Epoch 5/100\n",
            "31/31 [==============================] - 1s 14ms/step - loss: 7.9941 - mae: 8.4776 - val_loss: 17.1480 - val_mae: 17.6442\n",
            "Epoch 6/100\n",
            "31/31 [==============================] - 1s 14ms/step - loss: 7.4310 - mae: 7.9087 - val_loss: 13.7328 - val_mae: 14.2275\n",
            "Epoch 7/100\n",
            "31/31 [==============================] - 0s 13ms/step - loss: 6.9528 - mae: 7.4331 - val_loss: 13.2417 - val_mae: 13.7368\n",
            "Epoch 8/100\n",
            "31/31 [==============================] - 0s 13ms/step - loss: 6.7309 - mae: 7.2110 - val_loss: 10.8446 - val_mae: 11.3335\n",
            "Epoch 9/100\n",
            "31/31 [==============================] - 0s 13ms/step - loss: 6.5378 - mae: 7.0206 - val_loss: 11.2740 - val_mae: 11.7667\n",
            "Epoch 10/100\n",
            "31/31 [==============================] - 0s 13ms/step - loss: 6.4857 - mae: 6.9696 - val_loss: 9.3655 - val_mae: 9.8554\n",
            "Epoch 11/100\n",
            "31/31 [==============================] - 0s 13ms/step - loss: 6.3728 - mae: 6.8519 - val_loss: 9.7185 - val_mae: 10.2065\n",
            "Epoch 12/100\n",
            "31/31 [==============================] - 0s 13ms/step - loss: 6.2968 - mae: 6.7762 - val_loss: 9.2956 - val_mae: 9.7811\n",
            "Epoch 13/100\n",
            "31/31 [==============================] - 0s 13ms/step - loss: 6.1864 - mae: 6.6672 - val_loss: 9.0449 - val_mae: 9.5276\n",
            "Epoch 14/100\n",
            "31/31 [==============================] - 1s 13ms/step - loss: 6.1236 - mae: 6.5996 - val_loss: 8.4548 - val_mae: 8.9405\n",
            "Epoch 15/100\n",
            "31/31 [==============================] - 1s 13ms/step - loss: 6.1070 - mae: 6.5862 - val_loss: 8.0812 - val_mae: 8.5689\n",
            "Epoch 16/100\n",
            "31/31 [==============================] - 1s 13ms/step - loss: 5.9886 - mae: 6.4628 - val_loss: 9.4024 - val_mae: 9.8891\n",
            "Epoch 17/100\n",
            "31/31 [==============================] - 1s 14ms/step - loss: 5.9727 - mae: 6.4502 - val_loss: 8.9357 - val_mae: 9.4254\n",
            "Epoch 18/100\n",
            "31/31 [==============================] - 0s 13ms/step - loss: 5.9111 - mae: 6.3864 - val_loss: 10.4476 - val_mae: 10.9396\n",
            "Epoch 19/100\n",
            "31/31 [==============================] - 0s 14ms/step - loss: 6.1937 - mae: 6.6741 - val_loss: 8.6494 - val_mae: 9.1369\n",
            "Epoch 20/100\n",
            "31/31 [==============================] - 0s 13ms/step - loss: 5.8682 - mae: 6.3429 - val_loss: 7.2543 - val_mae: 7.7397\n",
            "Epoch 21/100\n",
            "31/31 [==============================] - 1s 13ms/step - loss: 5.7220 - mae: 6.1952 - val_loss: 7.6661 - val_mae: 8.1554\n",
            "Epoch 22/100\n",
            "31/31 [==============================] - 1s 13ms/step - loss: 5.7313 - mae: 6.2092 - val_loss: 8.6164 - val_mae: 9.1044\n",
            "Epoch 23/100\n",
            "31/31 [==============================] - 1s 14ms/step - loss: 5.6728 - mae: 6.1505 - val_loss: 9.0784 - val_mae: 9.5698\n",
            "Epoch 24/100\n",
            "31/31 [==============================] - 1s 14ms/step - loss: 5.6925 - mae: 6.1673 - val_loss: 8.0624 - val_mae: 8.5455\n",
            "Epoch 25/100\n",
            "31/31 [==============================] - 1s 13ms/step - loss: 5.5288 - mae: 6.0046 - val_loss: 8.6220 - val_mae: 9.1100\n",
            "Epoch 26/100\n",
            "31/31 [==============================] - 0s 13ms/step - loss: 5.7149 - mae: 6.1944 - val_loss: 9.2980 - val_mae: 9.7899\n",
            "Epoch 27/100\n",
            "31/31 [==============================] - 1s 14ms/step - loss: 5.5498 - mae: 6.0236 - val_loss: 7.5011 - val_mae: 7.9893\n",
            "Epoch 28/100\n",
            "31/31 [==============================] - 0s 13ms/step - loss: 5.6156 - mae: 6.0975 - val_loss: 7.1907 - val_mae: 7.6788\n",
            "Epoch 29/100\n",
            "31/31 [==============================] - 0s 13ms/step - loss: 5.3307 - mae: 5.8057 - val_loss: 7.4190 - val_mae: 7.8987\n",
            "Epoch 30/100\n",
            "31/31 [==============================] - 0s 13ms/step - loss: 5.3633 - mae: 5.8423 - val_loss: 6.7850 - val_mae: 7.2726\n",
            "Epoch 31/100\n",
            "31/31 [==============================] - 0s 13ms/step - loss: 5.3141 - mae: 5.7894 - val_loss: 7.8994 - val_mae: 8.3852\n",
            "Epoch 32/100\n",
            "31/31 [==============================] - 0s 13ms/step - loss: 5.2305 - mae: 5.7058 - val_loss: 8.3391 - val_mae: 8.8280\n",
            "Epoch 33/100\n",
            "31/31 [==============================] - 1s 14ms/step - loss: 5.2367 - mae: 5.7137 - val_loss: 7.5243 - val_mae: 8.0080\n",
            "Epoch 34/100\n",
            "31/31 [==============================] - 1s 14ms/step - loss: 5.2812 - mae: 5.7579 - val_loss: 7.5866 - val_mae: 8.0705\n",
            "Epoch 35/100\n",
            "31/31 [==============================] - 1s 13ms/step - loss: 5.1968 - mae: 5.6754 - val_loss: 6.8544 - val_mae: 7.3379\n",
            "Epoch 36/100\n",
            "31/31 [==============================] - 1s 14ms/step - loss: 5.1973 - mae: 5.6768 - val_loss: 7.8814 - val_mae: 8.3657\n",
            "Epoch 37/100\n",
            "31/31 [==============================] - 1s 14ms/step - loss: 5.3780 - mae: 5.8563 - val_loss: 6.3115 - val_mae: 6.7888\n",
            "Epoch 38/100\n",
            "31/31 [==============================] - 1s 14ms/step - loss: 5.4634 - mae: 5.9437 - val_loss: 7.0144 - val_mae: 7.5013\n",
            "Epoch 39/100\n",
            "31/31 [==============================] - 1s 14ms/step - loss: 5.2694 - mae: 5.7487 - val_loss: 7.5462 - val_mae: 8.0267\n",
            "Epoch 40/100\n",
            "31/31 [==============================] - 0s 13ms/step - loss: 5.2504 - mae: 5.7272 - val_loss: 8.0838 - val_mae: 8.5710\n",
            "Epoch 41/100\n",
            "31/31 [==============================] - 0s 13ms/step - loss: 5.0579 - mae: 5.5334 - val_loss: 7.0943 - val_mae: 7.5747\n",
            "Epoch 42/100\n",
            "31/31 [==============================] - 0s 13ms/step - loss: 5.1614 - mae: 5.6383 - val_loss: 7.3445 - val_mae: 7.8273\n",
            "Epoch 43/100\n",
            "31/31 [==============================] - 1s 14ms/step - loss: 5.1156 - mae: 5.5904 - val_loss: 6.2284 - val_mae: 6.7088\n",
            "Epoch 44/100\n",
            "31/31 [==============================] - 1s 14ms/step - loss: 5.1619 - mae: 5.6386 - val_loss: 6.3474 - val_mae: 6.8290\n",
            "Epoch 45/100\n",
            "31/31 [==============================] - 1s 14ms/step - loss: 5.0619 - mae: 5.5421 - val_loss: 6.4480 - val_mae: 6.9316\n",
            "Epoch 46/100\n",
            "31/31 [==============================] - 1s 14ms/step - loss: 5.0101 - mae: 5.4922 - val_loss: 6.1908 - val_mae: 6.6749\n",
            "Epoch 47/100\n",
            "31/31 [==============================] - 1s 13ms/step - loss: 4.9856 - mae: 5.4622 - val_loss: 6.4936 - val_mae: 6.9767\n",
            "Epoch 48/100\n",
            "31/31 [==============================] - 0s 13ms/step - loss: 4.9777 - mae: 5.4493 - val_loss: 6.4109 - val_mae: 6.8941\n",
            "Epoch 49/100\n",
            "31/31 [==============================] - 0s 13ms/step - loss: 5.0418 - mae: 5.5207 - val_loss: 6.1419 - val_mae: 6.6251\n",
            "Epoch 50/100\n",
            "31/31 [==============================] - 1s 14ms/step - loss: 5.0255 - mae: 5.5038 - val_loss: 6.6563 - val_mae: 7.1352\n",
            "Epoch 51/100\n",
            "31/31 [==============================] - 1s 13ms/step - loss: 4.9642 - mae: 5.4413 - val_loss: 7.0250 - val_mae: 7.5100\n",
            "Epoch 52/100\n",
            "31/31 [==============================] - 1s 14ms/step - loss: 5.0155 - mae: 5.4887 - val_loss: 5.8874 - val_mae: 6.3641\n",
            "Epoch 53/100\n",
            "31/31 [==============================] - 1s 14ms/step - loss: 5.0141 - mae: 5.4891 - val_loss: 7.2051 - val_mae: 7.6851\n",
            "Epoch 54/100\n",
            "31/31 [==============================] - 1s 13ms/step - loss: 4.9470 - mae: 5.4227 - val_loss: 5.8561 - val_mae: 6.3364\n",
            "Epoch 55/100\n",
            "31/31 [==============================] - 0s 13ms/step - loss: 5.1225 - mae: 5.6006 - val_loss: 6.0480 - val_mae: 6.5298\n",
            "Epoch 56/100\n",
            "31/31 [==============================] - 1s 14ms/step - loss: 4.9537 - mae: 5.4326 - val_loss: 6.1537 - val_mae: 6.6368\n",
            "Epoch 57/100\n",
            "31/31 [==============================] - 1s 14ms/step - loss: 5.0061 - mae: 5.4852 - val_loss: 5.9500 - val_mae: 6.4319\n",
            "Epoch 58/100\n",
            "31/31 [==============================] - 1s 14ms/step - loss: 4.9896 - mae: 5.4639 - val_loss: 6.5770 - val_mae: 7.0564\n",
            "Epoch 59/100\n",
            "31/31 [==============================] - 0s 13ms/step - loss: 4.9040 - mae: 5.3807 - val_loss: 7.1521 - val_mae: 7.6364\n",
            "Epoch 60/100\n",
            "31/31 [==============================] - 1s 13ms/step - loss: 4.9853 - mae: 5.4577 - val_loss: 5.9706 - val_mae: 6.4507\n",
            "Epoch 61/100\n",
            "31/31 [==============================] - 0s 13ms/step - loss: 5.2491 - mae: 5.7277 - val_loss: 7.8898 - val_mae: 8.3815\n",
            "Epoch 62/100\n",
            "31/31 [==============================] - 1s 13ms/step - loss: 4.8717 - mae: 5.3481 - val_loss: 6.3122 - val_mae: 6.7950\n",
            "Epoch 63/100\n",
            "31/31 [==============================] - 1s 14ms/step - loss: 4.8446 - mae: 5.3173 - val_loss: 5.8079 - val_mae: 6.2851\n",
            "Epoch 64/100\n",
            "31/31 [==============================] - 1s 13ms/step - loss: 5.0375 - mae: 5.5140 - val_loss: 6.9203 - val_mae: 7.4034\n",
            "Epoch 65/100\n",
            "31/31 [==============================] - 1s 14ms/step - loss: 4.8697 - mae: 5.3495 - val_loss: 5.7562 - val_mae: 6.2340\n",
            "Epoch 66/100\n",
            "31/31 [==============================] - 1s 13ms/step - loss: 4.9097 - mae: 5.3858 - val_loss: 5.7353 - val_mae: 6.2114\n",
            "Epoch 67/100\n",
            "31/31 [==============================] - 1s 13ms/step - loss: 4.8915 - mae: 5.3597 - val_loss: 6.2638 - val_mae: 6.7425\n",
            "Epoch 68/100\n",
            "31/31 [==============================] - 1s 14ms/step - loss: 4.7993 - mae: 5.2713 - val_loss: 6.6320 - val_mae: 7.1168\n",
            "Epoch 69/100\n",
            "31/31 [==============================] - 1s 13ms/step - loss: 4.8047 - mae: 5.2799 - val_loss: 5.6418 - val_mae: 6.1173\n",
            "Epoch 70/100\n",
            "31/31 [==============================] - 1s 13ms/step - loss: 4.8112 - mae: 5.2852 - val_loss: 7.0525 - val_mae: 7.5363\n",
            "Epoch 71/100\n",
            "31/31 [==============================] - 1s 14ms/step - loss: 4.9827 - mae: 5.4612 - val_loss: 6.2731 - val_mae: 6.7498\n",
            "Epoch 72/100\n",
            "31/31 [==============================] - 0s 13ms/step - loss: 4.8367 - mae: 5.3148 - val_loss: 5.5999 - val_mae: 6.0737\n",
            "Epoch 73/100\n",
            "31/31 [==============================] - 1s 14ms/step - loss: 5.1215 - mae: 5.6015 - val_loss: 5.7677 - val_mae: 6.2464\n",
            "Epoch 74/100\n",
            "31/31 [==============================] - 0s 13ms/step - loss: 4.8664 - mae: 5.3398 - val_loss: 7.6138 - val_mae: 8.1028\n",
            "Epoch 75/100\n",
            "31/31 [==============================] - 1s 14ms/step - loss: 4.8327 - mae: 5.3089 - val_loss: 8.2760 - val_mae: 8.7671\n",
            "Epoch 76/100\n",
            "31/31 [==============================] - 1s 14ms/step - loss: 4.7783 - mae: 5.2531 - val_loss: 6.5479 - val_mae: 7.0311\n",
            "Epoch 77/100\n",
            "31/31 [==============================] - 1s 14ms/step - loss: 4.8862 - mae: 5.3608 - val_loss: 5.9619 - val_mae: 6.4473\n",
            "Epoch 78/100\n",
            "31/31 [==============================] - 0s 13ms/step - loss: 5.0491 - mae: 5.5308 - val_loss: 5.7539 - val_mae: 6.2340\n",
            "Epoch 79/100\n",
            "31/31 [==============================] - 1s 14ms/step - loss: 4.7601 - mae: 5.2341 - val_loss: 6.6492 - val_mae: 7.1344\n",
            "Epoch 80/100\n",
            "31/31 [==============================] - 1s 13ms/step - loss: 4.7455 - mae: 5.2224 - val_loss: 6.2742 - val_mae: 6.7538\n",
            "Epoch 81/100\n",
            "31/31 [==============================] - 0s 13ms/step - loss: 4.7776 - mae: 5.2503 - val_loss: 8.2037 - val_mae: 8.6953\n",
            "Epoch 82/100\n",
            "31/31 [==============================] - 1s 13ms/step - loss: 4.8642 - mae: 5.3408 - val_loss: 5.8378 - val_mae: 6.3184\n",
            "Epoch 83/100\n",
            "31/31 [==============================] - 1s 13ms/step - loss: 4.8128 - mae: 5.2886 - val_loss: 5.5526 - val_mae: 6.0339\n",
            "Epoch 84/100\n",
            "31/31 [==============================] - 1s 13ms/step - loss: 4.7824 - mae: 5.2546 - val_loss: 5.5374 - val_mae: 6.0137\n",
            "Epoch 85/100\n",
            "31/31 [==============================] - 1s 13ms/step - loss: 4.7535 - mae: 5.2330 - val_loss: 6.2197 - val_mae: 6.6976\n",
            "Epoch 86/100\n",
            "31/31 [==============================] - 1s 14ms/step - loss: 4.8368 - mae: 5.3130 - val_loss: 5.5189 - val_mae: 5.9965\n",
            "Epoch 87/100\n",
            "31/31 [==============================] - 0s 13ms/step - loss: 4.8690 - mae: 5.3413 - val_loss: 5.9903 - val_mae: 6.4666\n",
            "Epoch 88/100\n",
            "31/31 [==============================] - 1s 13ms/step - loss: 4.7664 - mae: 5.2407 - val_loss: 7.7951 - val_mae: 8.2849\n",
            "Epoch 89/100\n",
            "31/31 [==============================] - 1s 13ms/step - loss: 4.8215 - mae: 5.2978 - val_loss: 5.6636 - val_mae: 6.1460\n",
            "Epoch 90/100\n",
            "31/31 [==============================] - 1s 13ms/step - loss: 4.7358 - mae: 5.2141 - val_loss: 6.4840 - val_mae: 6.9667\n",
            "Epoch 91/100\n",
            "31/31 [==============================] - 1s 14ms/step - loss: 4.6922 - mae: 5.1693 - val_loss: 5.8075 - val_mae: 6.2880\n",
            "Epoch 92/100\n",
            "31/31 [==============================] - 0s 13ms/step - loss: 4.6901 - mae: 5.1669 - val_loss: 5.3246 - val_mae: 5.7978\n",
            "Epoch 93/100\n",
            "31/31 [==============================] - 1s 13ms/step - loss: 4.7000 - mae: 5.1767 - val_loss: 5.9841 - val_mae: 6.4642\n",
            "Epoch 94/100\n",
            "31/31 [==============================] - 1s 14ms/step - loss: 4.7427 - mae: 5.2157 - val_loss: 5.6482 - val_mae: 6.1293\n",
            "Epoch 95/100\n",
            "31/31 [==============================] - 0s 13ms/step - loss: 4.6878 - mae: 5.1618 - val_loss: 5.2859 - val_mae: 5.7608\n",
            "Epoch 96/100\n",
            "31/31 [==============================] - 1s 14ms/step - loss: 4.9602 - mae: 5.4376 - val_loss: 7.1504 - val_mae: 7.6341\n",
            "Epoch 97/100\n",
            "31/31 [==============================] - 1s 13ms/step - loss: 4.7302 - mae: 5.2047 - val_loss: 5.3339 - val_mae: 5.8094\n",
            "Epoch 98/100\n",
            "31/31 [==============================] - 1s 14ms/step - loss: 4.7073 - mae: 5.1812 - val_loss: 5.3401 - val_mae: 5.8159\n",
            "Epoch 99/100\n",
            "31/31 [==============================] - 1s 14ms/step - loss: 4.8061 - mae: 5.2834 - val_loss: 6.4327 - val_mae: 6.9148\n",
            "Epoch 100/100\n",
            "31/31 [==============================] - 1s 14ms/step - loss: 4.7026 - mae: 5.1769 - val_loss: 5.8564 - val_mae: 6.3354\n"
          ]
        }
      ],
      "source": [
        "# Reset states generated by Keras\n",
        "tf.keras.backend.clear_session()\n",
        "\n",
        "# Build the model\n",
        "model = tf.keras.models.Sequential([\n",
        "  tf.keras.layers.Lambda(lambda x: tf.expand_dims(x, axis=-1),\n",
        "                      input_shape=[None]),\n",
        "   tf.keras.layers.Bidirectional(tf.keras.layers.LSTM(32, return_sequences=True)),\n",
        "  tf.keras.layers.Bidirectional(tf.keras.layers.LSTM(32)),\n",
        "  tf.keras.layers.Dense(1),\n",
        "  tf.keras.layers.Lambda(lambda x: x * 100.0)\n",
        "])\n",
        "\n",
        "# Set the learning rate\n",
        "learning_rate = 2e-6\n",
        "\n",
        "# Set the optimizer \n",
        "optimizer = tf.keras.optimizers.SGD(learning_rate=learning_rate, momentum=0.9)\n",
        "\n",
        "# Set the training parameters\n",
        "model.compile(loss=tf.keras.losses.Huber(),\n",
        "              optimizer=optimizer,\n",
        "              metrics=[\"mae\"])\n",
        "\n",
        "# Train the model\n",
        "history = model.fit(dataset,epochs=100, validation_data=val_set)"
      ]
    }
  ],
  "metadata": {
    "accelerator": "GPU",
    "colab": {
      "provenance": []
    },
    "kernelspec": {
      "display_name": "Python 3",
      "language": "python",
      "name": "python3"
    },
    "language_info": {
      "codemirror_mode": {
        "name": "ipython",
        "version": 3
      },
      "file_extension": ".py",
      "mimetype": "text/x-python",
      "name": "python",
      "nbconvert_exporter": "python",
      "pygments_lexer": "ipython3",
      "version": "3.7.4"
    },
    "gpuClass": "standard"
  },
  "nbformat": 4,
  "nbformat_minor": 0
}