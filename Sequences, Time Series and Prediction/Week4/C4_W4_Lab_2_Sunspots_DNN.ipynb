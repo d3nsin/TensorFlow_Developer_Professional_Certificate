{
  "cells": [
    {
      "cell_type": "markdown",
      "metadata": {
        "id": "JQsk1BKwZrBh"
      },
      "source": [
        "# Ungraded Lab: Predicting Sunspots with Neural Networks (DNN only)\n",
        "\n",
        "In the remaining labs for this week, you will move away from synthetic time series and start building models for real world data. In particular, you will train on the [Sunspots](https://www.kaggle.com/datasets/robervalt/sunspots) dataset: a monthly record of sunspot numbers from January 1749 to July 2018. You will first build a deep neural network here composed of dense layers. This will act as your baseline so you can compare it to the next lab where you will use a more complex architecture.\n",
        "\n",
        "Let's begin!"
      ]
    },
    {
      "cell_type": "markdown",
      "metadata": {
        "id": "2JHlrB12aeFD"
      },
      "source": [
        "## Imports\n",
        "\n",
        "You will use the same imports as before with the addition of the [csv](https://docs.python.org/3/library/csv.html) module. You will need this to parse the CSV file containing the dataset."
      ]
    },
    {
      "cell_type": "code",
      "execution_count": 1,
      "metadata": {
        "id": "56XEQOGknrAk"
      },
      "outputs": [],
      "source": [
        "import tensorflow as tf\n",
        "import numpy as np\n",
        "import matplotlib.pyplot as plt\n",
        "import csv"
      ]
    },
    {
      "cell_type": "markdown",
      "metadata": {
        "id": "D-mNttnaagBH"
      },
      "source": [
        "## Utilities\n",
        "\n",
        "You will only have the `plot_series()` dataset here because you no longer need the synthetic data generation functions."
      ]
    },
    {
      "cell_type": "code",
      "execution_count": 2,
      "metadata": {
        "id": "sLl52leVp5wU"
      },
      "outputs": [],
      "source": [
        "def plot_series(x, y, format=\"-\", start=0, end=None, \n",
        "                title=None, xlabel=None, ylabel=None, legend=None ):\n",
        "    \"\"\"\n",
        "    Visualizes time series data\n",
        "\n",
        "    Args:\n",
        "      x (array of int) - contains values for the x-axis\n",
        "      y (array of int or tuple of arrays) - contains the values for the y-axis\n",
        "      format (string) - line style when plotting the graph\n",
        "      label (string) - tag for the line\n",
        "      start (int) - first time step to plot\n",
        "      end (int) - last time step to plot\n",
        "      title (string) - title of the plot\n",
        "      xlabel (string) - label for the x-axis\n",
        "      ylabel (string) - label for the y-axis\n",
        "      legend (list of strings) - legend for the plot\n",
        "    \"\"\"\n",
        "\n",
        "    # Setup dimensions of the graph figure\n",
        "    plt.figure(figsize=(10, 6))\n",
        "    \n",
        "    # Check if there are more than two series to plot\n",
        "    if type(y) is tuple:\n",
        "\n",
        "      # Loop over the y elements\n",
        "      for y_curr in y:\n",
        "\n",
        "        # Plot the x and current y values\n",
        "        plt.plot(x[start:end], y_curr[start:end], format)\n",
        "\n",
        "    else:\n",
        "      # Plot the x and y values\n",
        "      plt.plot(x[start:end], y[start:end], format)\n",
        "\n",
        "    # Label the x-axis\n",
        "    plt.xlabel(xlabel)\n",
        "\n",
        "    # Label the y-axis\n",
        "    plt.ylabel(ylabel)\n",
        "\n",
        "    # Set the legend\n",
        "    if legend:\n",
        "      plt.legend(legend)\n",
        "\n",
        "    # Set the title\n",
        "    plt.title(title)\n",
        "\n",
        "    # Overlay a grid on the graph\n",
        "    plt.grid(True)\n",
        "\n",
        "    # Draw the graph on screen\n",
        "    plt.show()"
      ]
    },
    {
      "cell_type": "markdown",
      "metadata": {
        "id": "dFJv45pDauS8"
      },
      "source": [
        "## Download and Preview the Dataset\n",
        "\n",
        "You can now download the dataset and inspect the contents. The link in class is from Laurence's repo but we also hosted it in the link below."
      ]
    },
    {
      "cell_type": "code",
      "execution_count": 3,
      "metadata": {
        "id": "YwI-si5xyUkQ",
        "colab": {
          "base_uri": "https://localhost:8080/"
        },
        "outputId": "ed9aa0e5-ae12-4f63-bb14-591b5d0a5a61"
      },
      "outputs": [
        {
          "output_type": "stream",
          "name": "stdout",
          "text": [
            "--2022-12-14 15:00:18--  https://storage.googleapis.com/tensorflow-1-public/course4/Sunspots.csv\n",
            "Resolving storage.googleapis.com (storage.googleapis.com)... 142.250.148.128, 209.85.200.128, 209.85.234.128, ...\n",
            "Connecting to storage.googleapis.com (storage.googleapis.com)|142.250.148.128|:443... connected.\n",
            "HTTP request sent, awaiting response... 200 OK\n",
            "Length: 70827 (69K) [text/csv]\n",
            "Saving to: ‘Sunspots.csv’\n",
            "\n",
            "\rSunspots.csv          0%[                    ]       0  --.-KB/s               \rSunspots.csv        100%[===================>]  69.17K  --.-KB/s    in 0.001s  \n",
            "\n",
            "2022-12-14 15:00:18 (119 MB/s) - ‘Sunspots.csv’ saved [70827/70827]\n",
            "\n"
          ]
        }
      ],
      "source": [
        "# Download the dataset\n",
        "!wget https://storage.googleapis.com/tensorflow-1-public/course4/Sunspots.csv"
      ]
    },
    {
      "cell_type": "markdown",
      "metadata": {
        "id": "c0fAiMytrwPJ"
      },
      "source": [
        "Running the cell below, you'll see that there are only three columns in the dataset:\n",
        "1. untitled column containing the month number\n",
        "2. Date which has the format `YYYY-MM-DD`\n",
        "3. Mean Total Sunspot Number"
      ]
    },
    {
      "cell_type": "code",
      "execution_count": 4,
      "metadata": {
        "id": "d5W2auXKrhVh",
        "colab": {
          "base_uri": "https://localhost:8080/"
        },
        "outputId": "a66a9e43-6924-42f4-c84b-38610185124b"
      },
      "outputs": [
        {
          "output_type": "stream",
          "name": "stdout",
          "text": [
            ",Date,Monthly Mean Total Sunspot Number\r\n",
            "0,1749-01-31,96.7\r\n",
            "1,1749-02-28,104.3\r\n",
            "2,1749-03-31,116.7\r\n",
            "3,1749-04-30,92.8\r\n",
            "4,1749-05-31,141.7\r\n",
            "5,1749-06-30,139.2\r\n",
            "6,1749-07-31,158.0\r\n",
            "7,1749-08-31,110.5\r\n",
            "8,1749-09-30,126.5\r\n"
          ]
        }
      ],
      "source": [
        "# Preview the dataset\n",
        "!head Sunspots.csv"
      ]
    },
    {
      "cell_type": "markdown",
      "metadata": {
        "id": "lbs-Y2SDsVaw"
      },
      "source": [
        "For this lab and the next, you will only need the month number and the mean total sunspot number. You will load those into memory and convert it to arrays that represents a time series."
      ]
    },
    {
      "cell_type": "code",
      "execution_count": 5,
      "metadata": {
        "id": "NcG9r1eClbTh",
        "colab": {
          "base_uri": "https://localhost:8080/",
          "height": 388
        },
        "outputId": "62b7549f-b674-4282-9be2-50efdf6cd5f6"
      },
      "outputs": [
        {
          "output_type": "display_data",
          "data": {
            "text/plain": [
              "<Figure size 720x432 with 1 Axes>"
            ],
            "image/png": "[encoded data removed]"
          },
          "metadata": {
            "needs_background": "light"
          }
        }
      ],
      "source": [
        "# Initialize lists\n",
        "time_step = []\n",
        "sunspots = []\n",
        "\n",
        "# Open CSV file\n",
        "with open('./Sunspots.csv') as csvfile:\n",
        "  \n",
        "  # Initialize reader\n",
        "  reader = csv.reader(csvfile, delimiter=',')\n",
        "  \n",
        "  # Skip the first line\n",
        "  next(reader)\n",
        "  \n",
        "  # Append row and sunspot number to lists\n",
        "  for row in reader:\n",
        "    time_step.append(int(row[0]))\n",
        "    sunspots.append(float(row[2]))\n",
        "\n",
        "# Convert lists to numpy arrays\n",
        "time = np.array(time_step)\n",
        "series = np.array(sunspots)\n",
        "\n",
        "# Preview the data\n",
        "plot_series(time, series, xlabel='Month', ylabel='Monthly Mean Total Sunspot Number')"
      ]
    },
    {
      "cell_type": "markdown",
      "metadata": {
        "id": "EUQE9RRoazC5"
      },
      "source": [
        "## Split the Dataset\n",
        "\n",
        "Next, you will split the dataset into training and validation sets. There are 3235 points in the dataset and you will use the first 3000 for training."
      ]
    },
    {
      "cell_type": "code",
      "execution_count": 6,
      "metadata": {
        "id": "L92YRw_IpCFG"
      },
      "outputs": [],
      "source": [
        "# Define the split time\n",
        "split_time = 3000\n",
        "\n",
        "# Get the train set \n",
        "time_train = time[:split_time]\n",
        "x_train = series[:split_time]\n",
        "\n",
        "# Get the validation set\n",
        "time_valid = time[split_time:]\n",
        "x_valid = series[split_time:]"
      ]
    },
    {
      "cell_type": "markdown",
      "metadata": {
        "id": "RbuIOrb3a093"
      },
      "source": [
        "## Prepare Features and Labels\n",
        "\n",
        "You can then prepare the dataset windows as before. The window size is set to 30 points (equal to 2.5 years) but feel free to change later on if you want to experiment."
      ]
    },
    {
      "cell_type": "code",
      "execution_count": 7,
      "metadata": {
        "id": "lJwUUZscnG38"
      },
      "outputs": [],
      "source": [
        "def windowed_dataset(series, window_size, batch_size, shuffle_buffer):\n",
        "    \"\"\"Generates dataset windows\n",
        "\n",
        "    Args:\n",
        "      series (array of float) - contains the values of the time series\n",
        "      window_size (int) - the number of time steps to include in the feature\n",
        "      batch_size (int) - the batch size\n",
        "      shuffle_buffer(int) - buffer size to use for the shuffle method\n",
        "\n",
        "    Returns:\n",
        "      dataset (TF Dataset) - TF Dataset containing time windows\n",
        "    \"\"\"\n",
        "  \n",
        "    # Generate a TF Dataset from the series values\n",
        "    dataset = tf.data.Dataset.from_tensor_slices(series)\n",
        "    \n",
        "    # Window the data but only take those with the specified size\n",
        "    dataset = dataset.window(window_size + 1, shift=1, drop_remainder=True)\n",
        "    \n",
        "    # Flatten the windows by putting its elements in a single batch\n",
        "    dataset = dataset.flat_map(lambda window: window.batch(window_size + 1))\n",
        "\n",
        "    # Create tuples with features and labels \n",
        "    dataset = dataset.map(lambda window: (window[:-1], window[-1]))\n",
        "\n",
        "    # Shuffle the windows\n",
        "    dataset = dataset.shuffle(shuffle_buffer)\n",
        "    \n",
        "    # Create batches of windows\n",
        "    dataset = dataset.batch(batch_size).prefetch(1)\n",
        "    \n",
        "    return dataset"
      ]
    },
    {
      "cell_type": "code",
      "execution_count": 8,
      "metadata": {
        "id": "9g5zSxZwZQt_"
      },
      "outputs": [],
      "source": [
        "# Parameters\n",
        "window_size = 30\n",
        "batch_size = 32\n",
        "shuffle_buffer_size = 1000\n",
        "\n",
        "# Generate the dataset windows\n",
        "train_set = windowed_dataset(x_train, window_size, batch_size, shuffle_buffer_size)"
      ]
    },
    {
      "cell_type": "markdown",
      "metadata": {
        "id": "_Lhpi42ta5yP"
      },
      "source": [
        "## Build the Model\n",
        "\n",
        "The model will be 3-layer dense network as shown below."
      ]
    },
    {
      "cell_type": "code",
      "execution_count": 9,
      "metadata": {
        "id": "AclfYY3Mn6Ph",
        "colab": {
          "base_uri": "https://localhost:8080/"
        },
        "outputId": "1fe1187d-c755-479b-e222-979c3949b3c7"
      },
      "outputs": [
        {
          "output_type": "stream",
          "name": "stdout",
          "text": [
            "Model: \"sequential\"\n",
            "_________________________________________________________________\n",
            " Layer (type)                Output Shape              Param #   \n",
            "=================================================================\n",
            " dense (Dense)               (None, 30)                930       \n",
            "                                                                 \n",
            " dense_1 (Dense)             (None, 10)                310       \n",
            "                                                                 \n",
            " dense_2 (Dense)             (None, 1)                 11        \n",
            "                                                                 \n",
            "=================================================================\n",
            "Total params: 1,251\n",
            "Trainable params: 1,251\n",
            "Non-trainable params: 0\n",
            "_________________________________________________________________\n"
          ]
        }
      ],
      "source": [
        "# Build the model\n",
        "model = tf.keras.models.Sequential([\n",
        "    tf.keras.layers.Dense(30, input_shape=[window_size], activation=\"relu\"), \n",
        "    tf.keras.layers.Dense(10, activation=\"relu\"),\n",
        "    tf.keras.layers.Dense(1)\n",
        "])\n",
        "\n",
        "# Print the model summary\n",
        "model.summary()"
      ]
    },
    {
      "cell_type": "markdown",
      "metadata": {
        "id": "uyT14hQOa97V"
      },
      "source": [
        "## Tune the Learning Rate\n",
        "\n",
        "You can pick a learning rate by running the same learning rate scheduler code from previous labs."
      ]
    },
    {
      "cell_type": "code",
      "execution_count": 10,
      "metadata": {
        "id": "GXiqsZQ1y4nD",
        "colab": {
          "base_uri": "https://localhost:8080/"
        },
        "outputId": "a2371969-bc04-48ca-b1ae-8b837f87c903"
      },
      "outputs": [
        {
          "output_type": "stream",
          "name": "stdout",
          "text": [
            "Epoch 1/100\n",
            "93/93 [==============================] - 2s 9ms/step - loss: 34.9109 - lr: 1.0000e-08\n",
            "Epoch 2/100\n",
            "93/93 [==============================] - 1s 5ms/step - loss: 34.1231 - lr: 1.1220e-08\n",
            "Epoch 3/100\n",
            "93/93 [==============================] - 1s 4ms/step - loss: 33.3590 - lr: 1.2589e-08\n",
            "Epoch 4/100\n",
            "93/93 [==============================] - 1s 4ms/step - loss: 32.6252 - lr: 1.4125e-08\n",
            "Epoch 5/100\n",
            "93/93 [==============================] - 1s 4ms/step - loss: 31.9449 - lr: 1.5849e-08\n",
            "Epoch 6/100\n",
            "93/93 [==============================] - 1s 4ms/step - loss: 31.3301 - lr: 1.7783e-08\n",
            "Epoch 7/100\n",
            "93/93 [==============================] - 1s 5ms/step - loss: 30.7646 - lr: 1.9953e-08\n",
            "Epoch 8/100\n",
            "93/93 [==============================] - 1s 4ms/step - loss: 30.2763 - lr: 2.2387e-08\n",
            "Epoch 9/100\n",
            "93/93 [==============================] - 1s 4ms/step - loss: 29.8530 - lr: 2.5119e-08\n",
            "Epoch 10/100\n",
            "93/93 [==============================] - 1s 5ms/step - loss: 29.4822 - lr: 2.8184e-08\n",
            "Epoch 11/100\n",
            "93/93 [==============================] - 1s 10ms/step - loss: 29.1641 - lr: 3.1623e-08\n",
            "Epoch 12/100\n",
            "93/93 [==============================] - 1s 9ms/step - loss: 28.8799 - lr: 3.5481e-08\n",
            "Epoch 13/100\n",
            "93/93 [==============================] - 1s 9ms/step - loss: 28.6268 - lr: 3.9811e-08\n",
            "Epoch 14/100\n",
            "93/93 [==============================] - 1s 9ms/step - loss: 28.4046 - lr: 4.4668e-08\n",
            "Epoch 15/100\n",
            "93/93 [==============================] - 1s 9ms/step - loss: 28.1950 - lr: 5.0119e-08\n",
            "Epoch 16/100\n",
            "93/93 [==============================] - 1s 4ms/step - loss: 27.9859 - lr: 5.6234e-08\n",
            "Epoch 17/100\n",
            "93/93 [==============================] - 1s 4ms/step - loss: 27.7677 - lr: 6.3096e-08\n",
            "Epoch 18/100\n",
            "93/93 [==============================] - 1s 4ms/step - loss: 27.5493 - lr: 7.0795e-08\n",
            "Epoch 19/100\n",
            "93/93 [==============================] - 1s 5ms/step - loss: 27.3244 - lr: 7.9433e-08\n",
            "Epoch 20/100\n",
            "93/93 [==============================] - 1s 4ms/step - loss: 27.0894 - lr: 8.9125e-08\n",
            "Epoch 21/100\n",
            "93/93 [==============================] - 1s 5ms/step - loss: 26.8413 - lr: 1.0000e-07\n",
            "Epoch 22/100\n",
            "93/93 [==============================] - 1s 4ms/step - loss: 26.5925 - lr: 1.1220e-07\n",
            "Epoch 23/100\n",
            "93/93 [==============================] - 1s 5ms/step - loss: 26.3393 - lr: 1.2589e-07\n",
            "Epoch 24/100\n",
            "93/93 [==============================] - 1s 4ms/step - loss: 26.0800 - lr: 1.4125e-07\n",
            "Epoch 25/100\n",
            "93/93 [==============================] - 1s 5ms/step - loss: 25.8382 - lr: 1.5849e-07\n",
            "Epoch 26/100\n",
            "93/93 [==============================] - 1s 5ms/step - loss: 25.6191 - lr: 1.7783e-07\n",
            "Epoch 27/100\n",
            "93/93 [==============================] - 1s 5ms/step - loss: 25.3976 - lr: 1.9953e-07\n",
            "Epoch 28/100\n",
            "93/93 [==============================] - 1s 5ms/step - loss: 25.1807 - lr: 2.2387e-07\n",
            "Epoch 29/100\n",
            "93/93 [==============================] - 1s 4ms/step - loss: 24.9708 - lr: 2.5119e-07\n",
            "Epoch 30/100\n",
            "93/93 [==============================] - 1s 4ms/step - loss: 24.7484 - lr: 2.8184e-07\n",
            "Epoch 31/100\n",
            "93/93 [==============================] - 1s 5ms/step - loss: 24.5421 - lr: 3.1623e-07\n",
            "Epoch 32/100\n",
            "93/93 [==============================] - 1s 4ms/step - loss: 24.3293 - lr: 3.5481e-07\n",
            "Epoch 33/100\n",
            "93/93 [==============================] - 1s 5ms/step - loss: 24.0767 - lr: 3.9811e-07\n",
            "Epoch 34/100\n",
            "93/93 [==============================] - 1s 4ms/step - loss: 23.7997 - lr: 4.4668e-07\n",
            "Epoch 35/100\n",
            "93/93 [==============================] - 1s 5ms/step - loss: 23.5252 - lr: 5.0119e-07\n",
            "Epoch 36/100\n",
            "93/93 [==============================] - 1s 5ms/step - loss: 23.2932 - lr: 5.6234e-07\n",
            "Epoch 37/100\n",
            "93/93 [==============================] - 1s 4ms/step - loss: 23.0464 - lr: 6.3096e-07\n",
            "Epoch 38/100\n",
            "93/93 [==============================] - 1s 5ms/step - loss: 22.8308 - lr: 7.0795e-07\n",
            "Epoch 39/100\n",
            "93/93 [==============================] - 1s 4ms/step - loss: 22.5462 - lr: 7.9433e-07\n",
            "Epoch 40/100\n",
            "93/93 [==============================] - 1s 4ms/step - loss: 22.2677 - lr: 8.9125e-07\n",
            "Epoch 41/100\n",
            "93/93 [==============================] - 1s 4ms/step - loss: 22.0172 - lr: 1.0000e-06\n",
            "Epoch 42/100\n",
            "93/93 [==============================] - 1s 5ms/step - loss: 21.7807 - lr: 1.1220e-06\n",
            "Epoch 43/100\n",
            "93/93 [==============================] - 1s 4ms/step - loss: 21.6248 - lr: 1.2589e-06\n",
            "Epoch 44/100\n",
            "93/93 [==============================] - 1s 5ms/step - loss: 21.3336 - lr: 1.4125e-06\n",
            "Epoch 45/100\n",
            "93/93 [==============================] - 1s 5ms/step - loss: 21.1954 - lr: 1.5849e-06\n",
            "Epoch 46/100\n",
            "93/93 [==============================] - 1s 4ms/step - loss: 20.9933 - lr: 1.7783e-06\n",
            "Epoch 47/100\n",
            "93/93 [==============================] - 1s 5ms/step - loss: 20.8470 - lr: 1.9953e-06\n",
            "Epoch 48/100\n",
            "93/93 [==============================] - 1s 4ms/step - loss: 20.7033 - lr: 2.2387e-06\n",
            "Epoch 49/100\n",
            "93/93 [==============================] - 1s 4ms/step - loss: 20.5117 - lr: 2.5119e-06\n",
            "Epoch 50/100\n",
            "93/93 [==============================] - 1s 5ms/step - loss: 20.4295 - lr: 2.8184e-06\n",
            "Epoch 51/100\n",
            "93/93 [==============================] - 1s 5ms/step - loss: 20.2064 - lr: 3.1623e-06\n",
            "Epoch 52/100\n",
            "93/93 [==============================] - 1s 4ms/step - loss: 20.0421 - lr: 3.5481e-06\n",
            "Epoch 53/100\n",
            "93/93 [==============================] - 1s 5ms/step - loss: 20.0117 - lr: 3.9811e-06\n",
            "Epoch 54/100\n",
            "93/93 [==============================] - 1s 4ms/step - loss: 19.7154 - lr: 4.4668e-06\n",
            "Epoch 55/100\n",
            "93/93 [==============================] - 1s 5ms/step - loss: 19.5267 - lr: 5.0119e-06\n",
            "Epoch 56/100\n",
            "93/93 [==============================] - 1s 5ms/step - loss: 19.5820 - lr: 5.6234e-06\n",
            "Epoch 57/100\n",
            "93/93 [==============================] - 1s 5ms/step - loss: 19.2763 - lr: 6.3096e-06\n",
            "Epoch 58/100\n",
            "93/93 [==============================] - 1s 4ms/step - loss: 19.1270 - lr: 7.0795e-06\n",
            "Epoch 59/100\n",
            "93/93 [==============================] - 1s 5ms/step - loss: 18.9624 - lr: 7.9433e-06\n",
            "Epoch 60/100\n",
            "93/93 [==============================] - 1s 5ms/step - loss: 18.8016 - lr: 8.9125e-06\n",
            "Epoch 61/100\n",
            "93/93 [==============================] - 1s 5ms/step - loss: 18.8735 - lr: 1.0000e-05\n",
            "Epoch 62/100\n",
            "93/93 [==============================] - 1s 4ms/step - loss: 19.1033 - lr: 1.1220e-05\n",
            "Epoch 63/100\n",
            "93/93 [==============================] - 1s 4ms/step - loss: 18.9406 - lr: 1.2589e-05\n",
            "Epoch 64/100\n",
            "93/93 [==============================] - 1s 4ms/step - loss: 18.6751 - lr: 1.4125e-05\n",
            "Epoch 65/100\n",
            "93/93 [==============================] - 1s 5ms/step - loss: 18.5164 - lr: 1.5849e-05\n",
            "Epoch 66/100\n",
            "93/93 [==============================] - 1s 4ms/step - loss: 18.1262 - lr: 1.7783e-05\n",
            "Epoch 67/100\n",
            "93/93 [==============================] - 1s 5ms/step - loss: 18.0035 - lr: 1.9953e-05\n",
            "Epoch 68/100\n",
            "93/93 [==============================] - 1s 5ms/step - loss: 18.1994 - lr: 2.2387e-05\n",
            "Epoch 69/100\n",
            "93/93 [==============================] - 1s 4ms/step - loss: 17.9998 - lr: 2.5119e-05\n",
            "Epoch 70/100\n",
            "93/93 [==============================] - 1s 4ms/step - loss: 18.4978 - lr: 2.8184e-05\n",
            "Epoch 71/100\n",
            "93/93 [==============================] - 1s 4ms/step - loss: 18.6889 - lr: 3.1623e-05\n",
            "Epoch 72/100\n",
            "93/93 [==============================] - 1s 5ms/step - loss: 17.7730 - lr: 3.5481e-05\n",
            "Epoch 73/100\n",
            "93/93 [==============================] - 1s 5ms/step - loss: 17.7934 - lr: 3.9811e-05\n",
            "Epoch 74/100\n",
            "93/93 [==============================] - 1s 5ms/step - loss: 17.6947 - lr: 4.4668e-05\n",
            "Epoch 75/100\n",
            "93/93 [==============================] - 1s 5ms/step - loss: 17.7588 - lr: 5.0119e-05\n",
            "Epoch 76/100\n",
            "93/93 [==============================] - 1s 4ms/step - loss: 18.0350 - lr: 5.6234e-05\n",
            "Epoch 77/100\n",
            "93/93 [==============================] - 1s 5ms/step - loss: 17.7478 - lr: 6.3096e-05\n",
            "Epoch 78/100\n",
            "93/93 [==============================] - 1s 5ms/step - loss: 17.4067 - lr: 7.0795e-05\n",
            "Epoch 79/100\n",
            "93/93 [==============================] - 1s 5ms/step - loss: 18.1111 - lr: 7.9433e-05\n",
            "Epoch 80/100\n",
            "93/93 [==============================] - 1s 5ms/step - loss: 17.3567 - lr: 8.9125e-05\n",
            "Epoch 81/100\n",
            "93/93 [==============================] - 1s 5ms/step - loss: 17.6249 - lr: 1.0000e-04\n",
            "Epoch 82/100\n",
            "93/93 [==============================] - 1s 5ms/step - loss: 17.9474 - lr: 1.1220e-04\n",
            "Epoch 83/100\n",
            "93/93 [==============================] - 1s 5ms/step - loss: 17.7539 - lr: 1.2589e-04\n",
            "Epoch 84/100\n",
            "93/93 [==============================] - 1s 5ms/step - loss: 18.2136 - lr: 1.4125e-04\n",
            "Epoch 85/100\n",
            "93/93 [==============================] - 1s 5ms/step - loss: 20.3519 - lr: 1.5849e-04\n",
            "Epoch 86/100\n",
            "93/93 [==============================] - 1s 4ms/step - loss: 17.8530 - lr: 1.7783e-04\n",
            "Epoch 87/100\n",
            "93/93 [==============================] - 1s 5ms/step - loss: 18.3983 - lr: 1.9953e-04\n",
            "Epoch 88/100\n",
            "93/93 [==============================] - 1s 5ms/step - loss: 18.4927 - lr: 2.2387e-04\n",
            "Epoch 89/100\n",
            "93/93 [==============================] - 1s 5ms/step - loss: 19.6106 - lr: 2.5119e-04\n",
            "Epoch 90/100\n",
            "93/93 [==============================] - 1s 5ms/step - loss: 18.3313 - lr: 2.8184e-04\n",
            "Epoch 91/100\n",
            "93/93 [==============================] - 1s 5ms/step - loss: 20.2376 - lr: 3.1623e-04\n",
            "Epoch 92/100\n",
            "93/93 [==============================] - 1s 5ms/step - loss: 20.2415 - lr: 3.5481e-04\n",
            "Epoch 93/100\n",
            "93/93 [==============================] - 1s 5ms/step - loss: 24.8183 - lr: 3.9811e-04\n",
            "Epoch 94/100\n",
            "93/93 [==============================] - 1s 5ms/step - loss: 24.1951 - lr: 4.4668e-04\n",
            "Epoch 95/100\n",
            "93/93 [==============================] - 1s 5ms/step - loss: 20.2361 - lr: 5.0119e-04\n",
            "Epoch 96/100\n",
            "93/93 [==============================] - 1s 4ms/step - loss: 19.5629 - lr: 5.6234e-04\n",
            "Epoch 97/100\n",
            "93/93 [==============================] - 1s 5ms/step - loss: 21.8484 - lr: 6.3096e-04\n",
            "Epoch 98/100\n",
            "93/93 [==============================] - 1s 4ms/step - loss: 25.0103 - lr: 7.0795e-04\n",
            "Epoch 99/100\n",
            "93/93 [==============================] - 1s 4ms/step - loss: 26.1259 - lr: 7.9433e-04\n",
            "Epoch 100/100\n",
            "93/93 [==============================] - 1s 5ms/step - loss: 29.3509 - lr: 8.9125e-04\n"
          ]
        }
      ],
      "source": [
        "# Set the learning rate scheduler\n",
        "lr_schedule = tf.keras.callbacks.LearningRateScheduler(lambda epoch: 1e-8 * 10**(epoch / 20))\n",
        "\n",
        "# Initialize the optimizer\n",
        "optimizer = tf.keras.optimizers.SGD(momentum=0.9)\n",
        "\n",
        "# Set the training parameters\n",
        "model.compile(loss=tf.keras.losses.Huber(), optimizer=optimizer)\n",
        "\n",
        "# Train the model\n",
        "history = model.fit(train_set, epochs=100, callbacks=[lr_schedule])"
      ]
    },
    {
      "cell_type": "code",
      "execution_count": 11,
      "metadata": {
        "id": "xJFAB1NTzGJV",
        "colab": {
          "base_uri": "https://localhost:8080/",
          "height": 405
        },
        "outputId": "d2973ffa-bcc5-4b14-aa1e-82460787052c"
      },
      "outputs": [
        {
          "output_type": "execute_result",
          "data": {
            "text/plain": [
              "(1e-08, 0.001, 0.0, 100.0)"
            ]
          },
          "metadata": {},
          "execution_count": 11
        },
        {
          "output_type": "display_data",
          "data": {
            "text/plain": [
              "<Figure size 720x432 with 1 Axes>"
            ],
            "image/png": "[encoded data removed]"
          },
          "metadata": {
            "needs_background": "light"
          }
        }
      ],
      "source": [
        "# Define the learning rate array\n",
        "lrs = 1e-8 * (10 ** (np.arange(100) / 20))\n",
        "\n",
        "# Set the figure size\n",
        "plt.figure(figsize=(10, 6))\n",
        "\n",
        "# Set the grid\n",
        "plt.grid(True)\n",
        "\n",
        "# Plot the loss in log scale\n",
        "plt.semilogx(lrs, history.history[\"loss\"])\n",
        "\n",
        "# Increase the tickmarks size\n",
        "plt.tick_params('both', length=10, width=1, which='both')\n",
        "\n",
        "# Set the plot boundaries\n",
        "plt.axis([1e-8, 1e-3, 0, 100])"
      ]
    },
    {
      "cell_type": "markdown",
      "metadata": {
        "id": "oY4mnUpNbFdc"
      },
      "source": [
        "## Train the Model\n",
        "\n",
        "Once you've picked a learning rate, you can rebuild the model and start training."
      ]
    },
    {
      "cell_type": "code",
      "execution_count": 12,
      "metadata": {
        "id": "Ngna3zR4znJd"
      },
      "outputs": [],
      "source": [
        "# Reset states generated by Keras\n",
        "tf.keras.backend.clear_session()\n",
        "\n",
        "# Build the Model\n",
        "model = tf.keras.models.Sequential([\n",
        "    tf.keras.layers.Dense(30, input_shape=[window_size], activation=\"relu\"), \n",
        "    tf.keras.layers.Dense(10, activation=\"relu\"),\n",
        "    tf.keras.layers.Dense(1)\n",
        "])"
      ]
    },
    {
      "cell_type": "code",
      "execution_count": 13,
      "metadata": {
        "id": "7FKXvEYxzuoc",
        "colab": {
          "base_uri": "https://localhost:8080/"
        },
        "outputId": "1b78ec71-3cc3-4cfc-edff-e0f6cf70fcf7"
      },
      "outputs": [
        {
          "output_type": "stream",
          "name": "stdout",
          "text": [
            "Epoch 1/100\n",
            "93/93 [==============================] - 1s 5ms/step - loss: 29.5253 - mae: 30.0215\n",
            "Epoch 2/100\n",
            "93/93 [==============================] - 1s 5ms/step - loss: 20.2490 - mae: 20.7419\n",
            "Epoch 3/100\n",
            "93/93 [==============================] - 1s 5ms/step - loss: 19.1409 - mae: 19.6339\n",
            "Epoch 4/100\n",
            "93/93 [==============================] - 1s 5ms/step - loss: 18.5996 - mae: 19.0914\n",
            "Epoch 5/100\n",
            "93/93 [==============================] - 1s 5ms/step - loss: 18.2783 - mae: 18.7692\n",
            "Epoch 6/100\n",
            "93/93 [==============================] - 1s 5ms/step - loss: 18.0978 - mae: 18.5896\n",
            "Epoch 7/100\n",
            "93/93 [==============================] - 1s 4ms/step - loss: 18.0318 - mae: 18.5247\n",
            "Epoch 8/100\n",
            "93/93 [==============================] - 1s 5ms/step - loss: 17.7019 - mae: 18.1930\n",
            "Epoch 9/100\n",
            "93/93 [==============================] - 1s 5ms/step - loss: 17.6011 - mae: 18.0931\n",
            "Epoch 10/100\n",
            "93/93 [==============================] - 1s 5ms/step - loss: 17.5542 - mae: 18.0459\n",
            "Epoch 11/100\n",
            "93/93 [==============================] - 1s 5ms/step - loss: 17.3399 - mae: 17.8320\n",
            "Epoch 12/100\n",
            "93/93 [==============================] - 1s 5ms/step - loss: 17.3772 - mae: 17.8688\n",
            "Epoch 13/100\n",
            "93/93 [==============================] - 1s 5ms/step - loss: 17.3169 - mae: 17.8098\n",
            "Epoch 14/100\n",
            "93/93 [==============================] - 1s 5ms/step - loss: 17.2885 - mae: 17.7803\n",
            "Epoch 15/100\n",
            "93/93 [==============================] - 1s 4ms/step - loss: 17.2209 - mae: 17.7109\n",
            "Epoch 16/100\n",
            "93/93 [==============================] - 1s 4ms/step - loss: 17.2467 - mae: 17.7383\n",
            "Epoch 17/100\n",
            "93/93 [==============================] - 1s 5ms/step - loss: 17.2060 - mae: 17.6976\n",
            "Epoch 18/100\n",
            "93/93 [==============================] - 1s 5ms/step - loss: 17.2487 - mae: 17.7402\n",
            "Epoch 19/100\n",
            "93/93 [==============================] - 1s 5ms/step - loss: 17.2080 - mae: 17.7004\n",
            "Epoch 20/100\n",
            "93/93 [==============================] - 1s 5ms/step - loss: 17.0520 - mae: 17.5419\n",
            "Epoch 21/100\n",
            "93/93 [==============================] - 1s 5ms/step - loss: 17.0273 - mae: 17.5194\n",
            "Epoch 22/100\n",
            "93/93 [==============================] - 1s 5ms/step - loss: 17.0403 - mae: 17.5315\n",
            "Epoch 23/100\n",
            "93/93 [==============================] - 1s 5ms/step - loss: 16.9928 - mae: 17.4840\n",
            "Epoch 24/100\n",
            "93/93 [==============================] - 1s 5ms/step - loss: 16.9560 - mae: 17.4451\n",
            "Epoch 25/100\n",
            "93/93 [==============================] - 1s 5ms/step - loss: 17.0832 - mae: 17.5739\n",
            "Epoch 26/100\n",
            "93/93 [==============================] - 1s 5ms/step - loss: 16.8582 - mae: 17.3481\n",
            "Epoch 27/100\n",
            "93/93 [==============================] - 1s 5ms/step - loss: 16.9684 - mae: 17.4605\n",
            "Epoch 28/100\n",
            "93/93 [==============================] - 1s 5ms/step - loss: 16.9183 - mae: 17.4095\n",
            "Epoch 29/100\n",
            "93/93 [==============================] - 1s 5ms/step - loss: 17.0583 - mae: 17.5506\n",
            "Epoch 30/100\n",
            "93/93 [==============================] - 1s 5ms/step - loss: 17.1629 - mae: 17.6534\n",
            "Epoch 31/100\n",
            "93/93 [==============================] - 1s 5ms/step - loss: 17.1008 - mae: 17.5940\n",
            "Epoch 32/100\n",
            "93/93 [==============================] - 1s 5ms/step - loss: 16.8348 - mae: 17.3253\n",
            "Epoch 33/100\n",
            "93/93 [==============================] - 1s 5ms/step - loss: 16.8125 - mae: 17.3040\n",
            "Epoch 34/100\n",
            "93/93 [==============================] - 1s 5ms/step - loss: 16.8324 - mae: 17.3233\n",
            "Epoch 35/100\n",
            "93/93 [==============================] - 1s 5ms/step - loss: 16.8482 - mae: 17.3385\n",
            "Epoch 36/100\n",
            "93/93 [==============================] - 1s 5ms/step - loss: 16.9374 - mae: 17.4284\n",
            "Epoch 37/100\n",
            "93/93 [==============================] - 1s 5ms/step - loss: 16.8377 - mae: 17.3296\n",
            "Epoch 38/100\n",
            "93/93 [==============================] - 1s 5ms/step - loss: 16.8765 - mae: 17.3671\n",
            "Epoch 39/100\n",
            "93/93 [==============================] - 1s 5ms/step - loss: 16.7917 - mae: 17.2821\n",
            "Epoch 40/100\n",
            "93/93 [==============================] - 1s 5ms/step - loss: 17.1588 - mae: 17.6492\n",
            "Epoch 41/100\n",
            "93/93 [==============================] - 1s 5ms/step - loss: 17.0136 - mae: 17.5048\n",
            "Epoch 42/100\n",
            "93/93 [==============================] - 1s 5ms/step - loss: 16.9408 - mae: 17.4304\n",
            "Epoch 43/100\n",
            "93/93 [==============================] - 1s 5ms/step - loss: 16.8364 - mae: 17.3259\n",
            "Epoch 44/100\n",
            "93/93 [==============================] - 1s 5ms/step - loss: 16.7298 - mae: 17.2205\n",
            "Epoch 45/100\n",
            "93/93 [==============================] - 1s 5ms/step - loss: 16.7959 - mae: 17.2873\n",
            "Epoch 46/100\n",
            "93/93 [==============================] - 1s 5ms/step - loss: 16.8178 - mae: 17.3090\n",
            "Epoch 47/100\n",
            "93/93 [==============================] - 1s 4ms/step - loss: 16.8539 - mae: 17.3445\n",
            "Epoch 48/100\n",
            "93/93 [==============================] - 1s 5ms/step - loss: 16.6839 - mae: 17.1737\n",
            "Epoch 49/100\n",
            "93/93 [==============================] - 1s 5ms/step - loss: 17.0111 - mae: 17.5011\n",
            "Epoch 50/100\n",
            "93/93 [==============================] - 1s 8ms/step - loss: 16.7683 - mae: 17.2587\n",
            "Epoch 51/100\n",
            "93/93 [==============================] - 1s 9ms/step - loss: 16.8403 - mae: 17.3307\n",
            "Epoch 52/100\n",
            "93/93 [==============================] - 1s 5ms/step - loss: 16.7176 - mae: 17.2082\n",
            "Epoch 53/100\n",
            "93/93 [==============================] - 1s 5ms/step - loss: 16.7510 - mae: 17.2430\n",
            "Epoch 54/100\n",
            "93/93 [==============================] - 1s 5ms/step - loss: 16.7341 - mae: 17.2242\n",
            "Epoch 55/100\n",
            "93/93 [==============================] - 1s 5ms/step - loss: 16.6822 - mae: 17.1735\n",
            "Epoch 56/100\n",
            "93/93 [==============================] - 1s 5ms/step - loss: 16.7977 - mae: 17.2873\n",
            "Epoch 57/100\n",
            "93/93 [==============================] - 1s 5ms/step - loss: 16.6908 - mae: 17.1816\n",
            "Epoch 58/100\n",
            "93/93 [==============================] - 1s 4ms/step - loss: 16.7445 - mae: 17.2358\n",
            "Epoch 59/100\n",
            "93/93 [==============================] - 1s 5ms/step - loss: 16.6638 - mae: 17.1527\n",
            "Epoch 60/100\n",
            "93/93 [==============================] - 1s 4ms/step - loss: 16.7583 - mae: 17.2496\n",
            "Epoch 61/100\n",
            "93/93 [==============================] - 1s 5ms/step - loss: 16.5633 - mae: 17.0535\n",
            "Epoch 62/100\n",
            "93/93 [==============================] - 1s 5ms/step - loss: 16.7408 - mae: 17.2306\n",
            "Epoch 63/100\n",
            "93/93 [==============================] - 1s 4ms/step - loss: 16.7558 - mae: 17.2469\n",
            "Epoch 64/100\n",
            "93/93 [==============================] - 1s 5ms/step - loss: 16.5976 - mae: 17.0868\n",
            "Epoch 65/100\n",
            "93/93 [==============================] - 1s 5ms/step - loss: 16.5753 - mae: 17.0653\n",
            "Epoch 66/100\n",
            "93/93 [==============================] - 1s 5ms/step - loss: 16.6786 - mae: 17.1684\n",
            "Epoch 67/100\n",
            "93/93 [==============================] - 1s 5ms/step - loss: 16.5217 - mae: 17.0103\n",
            "Epoch 68/100\n",
            "93/93 [==============================] - 1s 4ms/step - loss: 16.5540 - mae: 17.0437\n",
            "Epoch 69/100\n",
            "93/93 [==============================] - 1s 5ms/step - loss: 16.5005 - mae: 16.9898\n",
            "Epoch 70/100\n",
            "93/93 [==============================] - 1s 4ms/step - loss: 16.6108 - mae: 17.1013\n",
            "Epoch 71/100\n",
            "93/93 [==============================] - 1s 5ms/step - loss: 16.5057 - mae: 16.9954\n",
            "Epoch 72/100\n",
            "93/93 [==============================] - 1s 5ms/step - loss: 16.4539 - mae: 16.9437\n",
            "Epoch 73/100\n",
            "93/93 [==============================] - 1s 4ms/step - loss: 16.5526 - mae: 17.0419\n",
            "Epoch 74/100\n",
            "93/93 [==============================] - 1s 5ms/step - loss: 16.6081 - mae: 17.0974\n",
            "Epoch 75/100\n",
            "93/93 [==============================] - 1s 5ms/step - loss: 16.6176 - mae: 17.1074\n",
            "Epoch 76/100\n",
            "93/93 [==============================] - 1s 5ms/step - loss: 16.4722 - mae: 16.9619\n",
            "Epoch 77/100\n",
            "93/93 [==============================] - 1s 5ms/step - loss: 16.5493 - mae: 17.0393\n",
            "Epoch 78/100\n",
            "93/93 [==============================] - 1s 4ms/step - loss: 16.6328 - mae: 17.1243\n",
            "Epoch 79/100\n",
            "93/93 [==============================] - 1s 5ms/step - loss: 16.6558 - mae: 17.1446\n",
            "Epoch 80/100\n",
            "93/93 [==============================] - 1s 5ms/step - loss: 16.5744 - mae: 17.0645\n",
            "Epoch 81/100\n",
            "93/93 [==============================] - 1s 5ms/step - loss: 16.4863 - mae: 16.9761\n",
            "Epoch 82/100\n",
            "93/93 [==============================] - 1s 4ms/step - loss: 16.4839 - mae: 16.9739\n",
            "Epoch 83/100\n",
            "93/93 [==============================] - 1s 5ms/step - loss: 16.4271 - mae: 16.9166\n",
            "Epoch 84/100\n",
            "93/93 [==============================] - 1s 5ms/step - loss: 16.5081 - mae: 16.9974\n",
            "Epoch 85/100\n",
            "93/93 [==============================] - 1s 5ms/step - loss: 16.4301 - mae: 16.9191\n",
            "Epoch 86/100\n",
            "93/93 [==============================] - 1s 5ms/step - loss: 16.4735 - mae: 16.9651\n",
            "Epoch 87/100\n",
            "93/93 [==============================] - 1s 5ms/step - loss: 16.5029 - mae: 16.9938\n",
            "Epoch 88/100\n",
            "93/93 [==============================] - 1s 5ms/step - loss: 16.4429 - mae: 16.9313\n",
            "Epoch 89/100\n",
            "93/93 [==============================] - 1s 4ms/step - loss: 16.3032 - mae: 16.7927\n",
            "Epoch 90/100\n",
            "93/93 [==============================] - 1s 5ms/step - loss: 16.3385 - mae: 16.8274\n",
            "Epoch 91/100\n",
            "93/93 [==============================] - 1s 5ms/step - loss: 16.3592 - mae: 16.8479\n",
            "Epoch 92/100\n",
            "93/93 [==============================] - 1s 5ms/step - loss: 16.5274 - mae: 17.0184\n",
            "Epoch 93/100\n",
            "93/93 [==============================] - 1s 5ms/step - loss: 16.6828 - mae: 17.1713\n",
            "Epoch 94/100\n",
            "93/93 [==============================] - 1s 4ms/step - loss: 16.3572 - mae: 16.8482\n",
            "Epoch 95/100\n",
            "93/93 [==============================] - 1s 5ms/step - loss: 16.3676 - mae: 16.8580\n",
            "Epoch 96/100\n",
            "93/93 [==============================] - 1s 4ms/step - loss: 16.5211 - mae: 17.0119\n",
            "Epoch 97/100\n",
            "93/93 [==============================] - 1s 5ms/step - loss: 16.1980 - mae: 16.6873\n",
            "Epoch 98/100\n",
            "93/93 [==============================] - 1s 5ms/step - loss: 16.3479 - mae: 16.8369\n",
            "Epoch 99/100\n",
            "93/93 [==============================] - 1s 5ms/step - loss: 16.4161 - mae: 16.9040\n",
            "Epoch 100/100\n",
            "93/93 [==============================] - 1s 5ms/step - loss: 16.2755 - mae: 16.7657\n"
          ]
        }
      ],
      "source": [
        "# Set the learning rate\n",
        "learning_rate = 2e-5\n",
        "\n",
        "# Set the optimizer \n",
        "optimizer = tf.keras.optimizers.SGD(learning_rate=learning_rate, momentum=0.9)\n",
        "\n",
        "# Set the training parameters\n",
        "model.compile(loss=tf.keras.losses.Huber(),\n",
        "              optimizer=optimizer,\n",
        "              metrics=[\"mae\"])\n",
        "\n",
        "# Train the model\n",
        "history = model.fit(train_set,epochs=100)"
      ]
    },
    {
      "cell_type": "markdown",
      "metadata": {
        "id": "b1iV2t8ibIka"
      },
      "source": [
        "## Model Prediction\n",
        "\n",
        "Now see if the model generates good results. If you used the default parameters of this notebook, you should see the predictions follow the shape of the ground truth with an MAE of around 15. "
      ]
    },
    {
      "cell_type": "code",
      "execution_count": 14,
      "metadata": {
        "id": "djn06Tri2B6_"
      },
      "outputs": [],
      "source": [
        "def model_forecast(model, series, window_size, batch_size):\n",
        "    \"\"\"Uses an input model to generate predictions on data windows\n",
        "\n",
        "    Args:\n",
        "      model (TF Keras Model) - model that accepts data windows\n",
        "      series (array of float) - contains the values of the time series\n",
        "      window_size (int) - the number of time steps to include in the window\n",
        "      batch_size (int) - the batch size\n",
        "\n",
        "    Returns:\n",
        "      forecast (numpy array) - array containing predictions\n",
        "    \"\"\"\n",
        "\n",
        "    # Generate a TF Dataset from the series values\n",
        "    dataset = tf.data.Dataset.from_tensor_slices(series)\n",
        "\n",
        "    # Window the data but only take those with the specified size\n",
        "    dataset = dataset.window(window_size, shift=1, drop_remainder=True)\n",
        "\n",
        "    # Flatten the windows by putting its elements in a single batch\n",
        "    dataset = dataset.flat_map(lambda w: w.batch(window_size))\n",
        "    \n",
        "    # Create batches of windows\n",
        "    dataset = dataset.batch(batch_size).prefetch(1)\n",
        "    \n",
        "    # Get predictions on the entire dataset\n",
        "    forecast = model.predict(dataset)\n",
        "    \n",
        "    return forecast"
      ]
    },
    {
      "cell_type": "code",
      "execution_count": 15,
      "metadata": {
        "id": "GaC6NNMRp0lb",
        "colab": {
          "base_uri": "https://localhost:8080/",
          "height": 391
        },
        "outputId": "9d6d49e4-38a0-41a0-c084-0d371acb974f"
      },
      "outputs": [
        {
          "output_type": "stream",
          "name": "stdout",
          "text": [
            "8/8 [==============================] - 0s 7ms/step\n"
          ]
        },
        {
          "output_type": "display_data",
          "data": {
            "text/plain": [
              "<Figure size 720x432 with 1 Axes>"
            ],
            "image/png": "[encoded data removed]"
          },
          "metadata": {
            "needs_background": "light"
          }
        }
      ],
      "source": [
        "# Reduce the original series\n",
        "forecast_series = series[split_time-window_size:-1]\n",
        "\n",
        "# Use helper function to generate predictions\n",
        "forecast = model_forecast(model, forecast_series, window_size, batch_size)\n",
        "\n",
        "# Drop single dimensional axis\n",
        "results = forecast.squeeze()\n",
        "\n",
        "# Plot the results\n",
        "plot_series(time_valid, (x_valid, results))"
      ]
    },
    {
      "cell_type": "code",
      "execution_count": 16,
      "metadata": {
        "id": "13XrorC5wQoE",
        "colab": {
          "base_uri": "https://localhost:8080/"
        },
        "outputId": "7e3f33d3-2b54-49df-c7e2-14112b9c28bc"
      },
      "outputs": [
        {
          "output_type": "stream",
          "name": "stdout",
          "text": [
            "14.916193\n"
          ]
        }
      ],
      "source": [
        "# Compute the MAE\n",
        "print(tf.keras.metrics.mean_absolute_error(x_valid, results).numpy())"
      ]
    },
    {
      "cell_type": "markdown",
      "metadata": {
        "id": "YqMGN9S5veN2"
      },
      "source": [
        "## Wrap Up\n",
        "\n",
        "In this lab, you built a relatively simple DNN to forecast sunspot numbers for a given month. We encourage you to tweak the parameters or train longer and see the best results you can get. In the next lab, you will build a more complex model and you evaluate if the added complexity translates to better or worse results."
      ]
    }
  ],
  "metadata": {
    "colab": {
      "provenance": []
    },
    "kernelspec": {
      "display_name": "Python 3",
      "language": "python",
      "name": "python3"
    },
    "language_info": {
      "codemirror_mode": {
        "name": "ipython",
        "version": 3
      },
      "file_extension": ".py",
      "mimetype": "text/x-python",
      "name": "python",
      "nbconvert_exporter": "python",
      "pygments_lexer": "ipython3",
      "version": "3.7.4"
    },
    "gpuClass": "standard"
  },
  "nbformat": 4,
  "nbformat_minor": 0
}