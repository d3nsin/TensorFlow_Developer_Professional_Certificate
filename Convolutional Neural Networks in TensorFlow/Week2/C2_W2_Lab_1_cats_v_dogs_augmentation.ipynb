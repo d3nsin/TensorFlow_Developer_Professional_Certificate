{
  "cells": [
    {
      "cell_type": "markdown",
      "metadata": {
        "id": "gGxCD4mGHHjG"
      },
      "source": [
        "# Ungraded Lab: Data Augmentation\n",
        "\n",
        "In the previous lessons, you saw that having a high training accuracy does not automatically mean having a good predictive model. It can still perform poorly on new data because it has overfit to the training set. In this lab, you will see how to avoid that using _data augmentation_. This increases the amount of training data by modifying the existing training data's properties. For example, in image data, you can apply different preprocessing techniques such as rotate, flip, shear, or zoom on your existing images so you can simulate other data that the model should also learn from. This way, the model would see more variety in the images during training so it will infer better on new, previously unseen data.\n",
        "\n",
        "Let's see how you can do this in the following sections."
      ]
    },
    {
      "cell_type": "markdown",
      "metadata": {
        "id": "kJJqX4DxcQs8"
      },
      "source": [
        "## Baseline Performance\n",
        "\n",
        "You will start with a model that's very effective at learning `Cats vs Dogs` without data augmentation. It's similar to the previous models that you have used. Note that there are four convolutional layers with 32, 64, 128 and 128 convolutions respectively. The code is basically the same from the previous lab so we won't go over the details step by step since you've already seen it before.\n",
        "\n",
        "You will train only for 20 epochs to save time but feel free to increase this if you want."
      ]
    },
    {
      "cell_type": "code",
      "execution_count": 10,
      "metadata": {
        "id": "zJZIF29-dIRv",
        "colab": {
          "base_uri": "https://localhost:8080/"
        },
        "outputId": "5d62e1ae-b0bc-4384-8d16-a6926f64f775"
      },
      "outputs": [
        {
          "output_type": "stream",
          "name": "stdout",
          "text": [
            "--2022-11-21 05:54:34--  https://storage.googleapis.com/tensorflow-1-public/course2/cats_and_dogs_filtered.zip\n",
            "Resolving storage.googleapis.com (storage.googleapis.com)... 142.250.4.128, 74.125.24.128, 172.217.194.128, ...\n",
            "Connecting to storage.googleapis.com (storage.googleapis.com)|142.250.4.128|:443... connected.\n",
            "HTTP request sent, awaiting response... 200 OK\n",
            "Length: 68606236 (65M) [application/zip]\n",
            "Saving to: ‘cats_and_dogs_filtered.zip’\n",
            "\n",
            "cats_and_dogs_filte 100%[===================>]  65.43M  16.1MB/s    in 5.7s    \n",
            "\n",
            "2022-11-21 05:54:40 (11.5 MB/s) - ‘cats_and_dogs_filtered.zip’ saved [68606236/68606236]\n",
            "\n"
          ]
        }
      ],
      "source": [
        "# Download the dataset\n",
        "!wget https://storage.googleapis.com/tensorflow-1-public/course2/cats_and_dogs_filtered.zip"
      ]
    },
    {
      "cell_type": "code",
      "execution_count": 11,
      "metadata": {
        "id": "_DyUfCTgdwa8"
      },
      "outputs": [],
      "source": [
        "import os\n",
        "import zipfile\n",
        "\n",
        "# Extract the archive\n",
        "zip_ref = zipfile.ZipFile(\"./cats_and_dogs_filtered.zip\", 'r')\n",
        "zip_ref.extractall(\"tmp/\")\n",
        "zip_ref.close()\n",
        "\n",
        "# Assign training and validation set directories\n",
        "base_dir = 'tmp/cats_and_dogs_filtered'\n",
        "train_dir = os.path.join(base_dir, 'train')\n",
        "validation_dir = os.path.join(base_dir, 'validation')\n",
        "\n",
        "# Directory with training cat pictures\n",
        "train_cats_dir = os.path.join(train_dir, 'cats')\n",
        "\n",
        "# Directory with training dog pictures\n",
        "train_dogs_dir = os.path.join(train_dir, 'dogs')\n",
        "\n",
        "# Directory with validation cat pictures\n",
        "validation_cats_dir = os.path.join(validation_dir, 'cats')\n",
        "\n",
        "# Directory with validation dog pictures\n",
        "validation_dogs_dir = os.path.join(validation_dir, 'dogs')"
      ]
    },
    {
      "cell_type": "markdown",
      "metadata": {
        "id": "Ub_BdOJIfZ_Q"
      },
      "source": [
        "You will place the model creation inside a function so you can easily initialize a new one when you use data augmentation later in this notebook."
      ]
    },
    {
      "cell_type": "code",
      "execution_count": 12,
      "metadata": {
        "id": "uWllK_Wad-Mx"
      },
      "outputs": [],
      "source": [
        "import tensorflow as tf\n",
        "from tensorflow.keras.optimizers import RMSprop\n",
        "\n",
        "def create_model():\n",
        "  '''Creates a CNN with 4 convolutional layers'''\n",
        "  model = tf.keras.models.Sequential([\n",
        "      tf.keras.layers.Conv2D(32, (3,3), activation='relu', input_shape=(150, 150, 3)),\n",
        "      tf.keras.layers.MaxPooling2D(2, 2),\n",
        "      tf.keras.layers.Conv2D(64, (3,3), activation='relu'),\n",
        "      tf.keras.layers.MaxPooling2D(2,2),\n",
        "      tf.keras.layers.Conv2D(128, (3,3), activation='relu'),\n",
        "      tf.keras.layers.MaxPooling2D(2,2),\n",
        "      tf.keras.layers.Conv2D(128, (3,3), activation='relu'),\n",
        "      tf.keras.layers.MaxPooling2D(2,2),\n",
        "      tf.keras.layers.Flatten(),\n",
        "      tf.keras.layers.Dense(512, activation='relu'),\n",
        "      tf.keras.layers.Dense(1, activation='sigmoid')\n",
        "  ])\n",
        "\n",
        "  model.compile(loss='binary_crossentropy',\n",
        "                optimizer=RMSprop(learning_rate=1e-4),\n",
        "                metrics=['accuracy'])\n",
        "  \n",
        "  return model"
      ]
    },
    {
      "cell_type": "code",
      "execution_count": 13,
      "metadata": {
        "id": "MJPyDEzOqrKB",
        "colab": {
          "base_uri": "https://localhost:8080/"
        },
        "outputId": "5813b470-eb61-4c3a-85fb-6bd77d3f1298"
      },
      "outputs": [
        {
          "output_type": "stream",
          "name": "stdout",
          "text": [
            "Found 2000 images belonging to 2 classes.\n",
            "Found 1000 images belonging to 2 classes.\n"
          ]
        }
      ],
      "source": [
        "from tensorflow.keras.preprocessing.image import ImageDataGenerator\n",
        "\n",
        "# All images will be rescaled by 1./255\n",
        "train_datagen = ImageDataGenerator(rescale=1./255)\n",
        "test_datagen = ImageDataGenerator(rescale=1./255)\n",
        "\n",
        "# Flow training images in batches of 20 using train_datagen generator\n",
        "train_generator = train_datagen.flow_from_directory(\n",
        "        train_dir,  # This is the source directory for training images\n",
        "        target_size=(150, 150),  # All images will be resized to 150x150\n",
        "        batch_size=20,\n",
        "        # Since we use binary_crossentropy loss, we need binary labels\n",
        "        class_mode='binary')\n",
        "\n",
        "# Flow validation images in batches of 20 using test_datagen generator\n",
        "validation_generator = test_datagen.flow_from_directory(\n",
        "        validation_dir,\n",
        "        target_size=(150, 150),\n",
        "        batch_size=20,\n",
        "        class_mode='binary')"
      ]
    },
    {
      "cell_type": "code",
      "execution_count": 14,
      "metadata": {
        "id": "hdqUoF44esR3",
        "colab": {
          "base_uri": "https://localhost:8080/"
        },
        "outputId": "f82bca7d-4a0d-4207-90ad-3b259b6f828b"
      },
      "outputs": [
        {
          "output_type": "stream",
          "name": "stdout",
          "text": [
            "Epoch 1/20\n",
            "100/100 - 13s - loss: 0.6931 - accuracy: 0.5225 - val_loss: 0.6863 - val_accuracy: 0.4990 - 13s/epoch - 127ms/step\n",
            "Epoch 2/20\n",
            "100/100 - 11s - loss: 0.6706 - accuracy: 0.6045 - val_loss: 0.6606 - val_accuracy: 0.6000 - 11s/epoch - 108ms/step\n",
            "Epoch 3/20\n",
            "100/100 - 8s - loss: 0.6348 - accuracy: 0.6445 - val_loss: 0.6258 - val_accuracy: 0.6670 - 8s/epoch - 84ms/step\n",
            "Epoch 4/20\n",
            "100/100 - 8s - loss: 0.5931 - accuracy: 0.6835 - val_loss: 0.5851 - val_accuracy: 0.7060 - 8s/epoch - 84ms/step\n",
            "Epoch 5/20\n",
            "100/100 - 8s - loss: 0.5494 - accuracy: 0.7160 - val_loss: 0.5722 - val_accuracy: 0.7050 - 8s/epoch - 85ms/step\n",
            "Epoch 6/20\n",
            "100/100 - 8s - loss: 0.5182 - accuracy: 0.7475 - val_loss: 0.5628 - val_accuracy: 0.7080 - 8s/epoch - 84ms/step\n",
            "Epoch 7/20\n",
            "100/100 - 9s - loss: 0.4818 - accuracy: 0.7750 - val_loss: 0.5318 - val_accuracy: 0.7380 - 9s/epoch - 89ms/step\n",
            "Epoch 8/20\n",
            "100/100 - 9s - loss: 0.4577 - accuracy: 0.7785 - val_loss: 0.5756 - val_accuracy: 0.6980 - 9s/epoch - 90ms/step\n",
            "Epoch 9/20\n",
            "100/100 - 8s - loss: 0.4249 - accuracy: 0.8085 - val_loss: 0.5336 - val_accuracy: 0.7430 - 8s/epoch - 83ms/step\n",
            "Epoch 10/20\n",
            "100/100 - 8s - loss: 0.3986 - accuracy: 0.8155 - val_loss: 0.5420 - val_accuracy: 0.7350 - 8s/epoch - 82ms/step\n",
            "Epoch 11/20\n",
            "100/100 - 8s - loss: 0.3675 - accuracy: 0.8390 - val_loss: 0.5163 - val_accuracy: 0.7610 - 8s/epoch - 83ms/step\n",
            "Epoch 12/20\n",
            "100/100 - 8s - loss: 0.3539 - accuracy: 0.8450 - val_loss: 0.5424 - val_accuracy: 0.7410 - 8s/epoch - 83ms/step\n",
            "Epoch 13/20\n",
            "100/100 - 8s - loss: 0.3322 - accuracy: 0.8605 - val_loss: 0.5466 - val_accuracy: 0.7440 - 8s/epoch - 83ms/step\n",
            "Epoch 14/20\n",
            "100/100 - 9s - loss: 0.3107 - accuracy: 0.8680 - val_loss: 0.5352 - val_accuracy: 0.7620 - 9s/epoch - 90ms/step\n",
            "Epoch 15/20\n",
            "100/100 - 8s - loss: 0.2884 - accuracy: 0.8835 - val_loss: 0.5724 - val_accuracy: 0.7400 - 8s/epoch - 82ms/step\n",
            "Epoch 16/20\n",
            "100/100 - 8s - loss: 0.2729 - accuracy: 0.8935 - val_loss: 0.5377 - val_accuracy: 0.7620 - 8s/epoch - 82ms/step\n",
            "Epoch 17/20\n",
            "100/100 - 8s - loss: 0.2497 - accuracy: 0.8995 - val_loss: 0.5861 - val_accuracy: 0.7530 - 8s/epoch - 82ms/step\n",
            "Epoch 18/20\n",
            "100/100 - 8s - loss: 0.2226 - accuracy: 0.9125 - val_loss: 0.5752 - val_accuracy: 0.7550 - 8s/epoch - 84ms/step\n",
            "Epoch 19/20\n",
            "100/100 - 8s - loss: 0.2017 - accuracy: 0.9225 - val_loss: 0.5753 - val_accuracy: 0.7660 - 8s/epoch - 83ms/step\n",
            "Epoch 20/20\n",
            "100/100 - 8s - loss: 0.1828 - accuracy: 0.9345 - val_loss: 0.6115 - val_accuracy: 0.7460 - 8s/epoch - 83ms/step\n"
          ]
        }
      ],
      "source": [
        "# Constant for epochs\n",
        "EPOCHS = 20\n",
        "\n",
        "# Create a new model\n",
        "model = create_model()\n",
        "\n",
        "# Train the model\n",
        "history = model.fit(\n",
        "      train_generator,\n",
        "      steps_per_epoch=100,  # 2000 images = batch_size * steps\n",
        "      epochs=EPOCHS,\n",
        "      validation_data=validation_generator,\n",
        "      validation_steps=50,  # 1000 images = batch_size * steps\n",
        "      verbose=2)"
      ]
    },
    {
      "cell_type": "markdown",
      "metadata": {
        "id": "Y-G0Am4cguNt"
      },
      "source": [
        "You will then visualize the loss and accuracy with respect to the training and validation set. You will again use a convenience function so it can be reused later. This function accepts a [History](https://www.tensorflow.org/api_docs/python/tf/keras/callbacks/History) object which contains the results of the `fit()` method you ran above."
      ]
    },
    {
      "cell_type": "code",
      "execution_count": 15,
      "metadata": {
        "id": "GZWPcmKWO303"
      },
      "outputs": [],
      "source": [
        "import matplotlib.pyplot as plt\n",
        "\n",
        "def plot_loss_acc(history):\n",
        "  '''Plots the training and validation loss and accuracy from a history object'''\n",
        "  acc = history.history['accuracy']\n",
        "  val_acc = history.history['val_accuracy']\n",
        "  loss = history.history['loss']\n",
        "  val_loss = history.history['val_loss']\n",
        "\n",
        "  epochs = range(len(acc))\n",
        "\n",
        "  plt.plot(epochs, acc, 'bo', label='Training accuracy')\n",
        "  plt.plot(epochs, val_acc, 'b', label='Validation accuracy')\n",
        "  plt.title('Training and validation accuracy')\n",
        "\n",
        "  plt.figure()\n",
        "\n",
        "  plt.plot(epochs, loss, 'bo', label='Training Loss')\n",
        "  plt.plot(epochs, val_loss, 'b', label='Validation Loss')\n",
        "  plt.title('Training and validation loss')\n",
        "  plt.legend()\n",
        "\n",
        "  plt.show()"
      ]
    },
    {
      "cell_type": "code",
      "execution_count": 16,
      "metadata": {
        "id": "Vojz4NYXiT_f",
        "colab": {
          "base_uri": "https://localhost:8080/",
          "height": 545
        },
        "outputId": "834ab7a8-6151-41ad-8ccc-5ebb7d57342f"
      },
      "outputs": [
        {
          "output_type": "display_data",
          "data": {
            "text/plain": [
              "<Figure size 432x288 with 1 Axes>"
            ],
            "image/png": "[encoded data removed]"
          },
          "metadata": {
            "needs_background": "light"
          }
        },
        {
          "output_type": "display_data",
          "data": {
            "text/plain": [
              "<Figure size 432x288 with 1 Axes>"
            ],
            "image/png": "[encoded data removed]"
          },
          "metadata": {
            "needs_background": "light"
          }
        }
      ],
      "source": [
        "# Plot training results\n",
        "plot_loss_acc(history)"
      ]
    },
    {
      "cell_type": "markdown",
      "metadata": {
        "id": "zb81GvNov-Tg"
      },
      "source": [
        "From the results above, you'll see the training accuracy is more than 90%, and the validation accuracy is in the 70%-80% range. This is a great example of _overfitting_ -- which in short means that it can do very well with images it has seen before, but not so well with images it hasn't.\n"
      ]
    },
    {
      "cell_type": "markdown",
      "metadata": {
        "id": "5KBz-vFbjLZX"
      },
      "source": [
        "## Data augmentation\n",
        "\n",
        "One simple method to avoid overfitting is to augment the images a bit. If you think about it, most pictures of a cat are very similar -- the ears are at the top, then the eyes, then the mouth etc. Things like the distance between the eyes and ears will always be quite similar too. \n",
        "\n",
        "What if you tweak with the images a bit -- rotate the image, squash it, etc.  That's what image augementation is all about. And there's an API that makes it easy!\n",
        "\n",
        "Take a look at the [ImageDataGenerator](https://www.tensorflow.org/api_docs/python/tf/keras/preprocessing/image/ImageDataGenerator) which you have been using to rescale the image. There are other properties on it that you can use to augment the image. \n",
        "\n",
        "```\n",
        "# Updated to do image augmentation\n",
        "train_datagen = ImageDataGenerator(\n",
        "      rotation_range=40,\n",
        "      width_shift_range=0.2,\n",
        "      height_shift_range=0.2,\n",
        "      shear_range=0.2,\n",
        "      zoom_range=0.2,\n",
        "      horizontal_flip=True,\n",
        "      fill_mode='nearest')\n",
        "```\n",
        "\n",
        "These are just a few of the options available. Let's quickly go over it:\n",
        "\n",
        "* `rotation_range` is a value in degrees (0–180) within which to randomly rotate pictures.\n",
        "* `width_shift` and `height_shift` are ranges (as a fraction of total width or height) within which to randomly translate pictures vertically or horizontally.\n",
        "* `shear_range` is for randomly applying shearing transformations.\n",
        "* `zoom_range` is for randomly zooming inside pictures.\n",
        "* `horizontal_flip` is for randomly flipping half of the images horizontally. This is relevant when there are no assumptions of horizontal assymmetry (e.g. real-world pictures).\n",
        "* `fill_mode` is the strategy used for filling in newly created pixels, which can appear after a rotation or a width/height shift.\n",
        "\n",
        "\n",
        "Run the next cells to see the impact on the results. The code is similar to the baseline but the definition of `train_datagen` has been updated to use the parameters described above.\n"
      ]
    },
    {
      "cell_type": "code",
      "execution_count": 17,
      "metadata": {
        "id": "UK7_Fflgv8YC",
        "colab": {
          "base_uri": "https://localhost:8080/"
        },
        "outputId": "20f1710a-ac2f-4a97-9ee4-44b663e6674c"
      },
      "outputs": [
        {
          "output_type": "stream",
          "name": "stdout",
          "text": [
            "Found 2000 images belonging to 2 classes.\n",
            "Found 1000 images belonging to 2 classes.\n",
            "Epoch 1/150\n",
            "100/100 - 18s - loss: 0.6896 - accuracy: 0.5335 - val_loss: 0.6801 - val_accuracy: 0.5760 - 18s/epoch - 176ms/step\n",
            "Epoch 2/150\n",
            "100/100 - 17s - loss: 0.6798 - accuracy: 0.5575 - val_loss: 0.7020 - val_accuracy: 0.5040 - 17s/epoch - 169ms/step\n",
            "Epoch 3/150\n",
            "100/100 - 17s - loss: 0.6654 - accuracy: 0.5910 - val_loss: 0.6372 - val_accuracy: 0.6580 - 17s/epoch - 168ms/step\n",
            "Epoch 4/150\n",
            "100/100 - 19s - loss: 0.6524 - accuracy: 0.6110 - val_loss: 0.6041 - val_accuracy: 0.6720 - 19s/epoch - 188ms/step\n",
            "Epoch 5/150\n",
            "100/100 - 17s - loss: 0.6347 - accuracy: 0.6410 - val_loss: 0.6036 - val_accuracy: 0.6690 - 17s/epoch - 165ms/step\n",
            "Epoch 6/150\n",
            "100/100 - 17s - loss: 0.6251 - accuracy: 0.6335 - val_loss: 0.5832 - val_accuracy: 0.6650 - 17s/epoch - 168ms/step\n",
            "Epoch 7/150\n",
            "100/100 - 17s - loss: 0.6102 - accuracy: 0.6560 - val_loss: 0.5856 - val_accuracy: 0.6610 - 17s/epoch - 175ms/step\n",
            "Epoch 8/150\n",
            "100/100 - 17s - loss: 0.6019 - accuracy: 0.6600 - val_loss: 0.5554 - val_accuracy: 0.7100 - 17s/epoch - 168ms/step\n",
            "Epoch 9/150\n",
            "100/100 - 17s - loss: 0.5904 - accuracy: 0.6860 - val_loss: 0.5518 - val_accuracy: 0.7060 - 17s/epoch - 165ms/step\n",
            "Epoch 10/150\n",
            "100/100 - 17s - loss: 0.5749 - accuracy: 0.7000 - val_loss: 0.5338 - val_accuracy: 0.7270 - 17s/epoch - 166ms/step\n",
            "Epoch 11/150\n",
            "100/100 - 18s - loss: 0.5788 - accuracy: 0.6970 - val_loss: 0.5564 - val_accuracy: 0.7030 - 18s/epoch - 176ms/step\n",
            "Epoch 12/150\n",
            "100/100 - 17s - loss: 0.5727 - accuracy: 0.7050 - val_loss: 0.5400 - val_accuracy: 0.7140 - 17s/epoch - 165ms/step\n",
            "Epoch 13/150\n",
            "100/100 - 17s - loss: 0.5577 - accuracy: 0.7050 - val_loss: 0.5277 - val_accuracy: 0.7220 - 17s/epoch - 167ms/step\n",
            "Epoch 14/150\n",
            "100/100 - 18s - loss: 0.5599 - accuracy: 0.7025 - val_loss: 0.5658 - val_accuracy: 0.6900 - 18s/epoch - 175ms/step\n",
            "Epoch 15/150\n",
            "100/100 - 19s - loss: 0.5590 - accuracy: 0.7140 - val_loss: 0.5408 - val_accuracy: 0.7120 - 19s/epoch - 190ms/step\n",
            "Epoch 16/150\n",
            "100/100 - 17s - loss: 0.5591 - accuracy: 0.7135 - val_loss: 0.5205 - val_accuracy: 0.7240 - 17s/epoch - 167ms/step\n",
            "Epoch 17/150\n",
            "100/100 - 17s - loss: 0.5457 - accuracy: 0.7205 - val_loss: 0.5478 - val_accuracy: 0.6980 - 17s/epoch - 165ms/step\n",
            "Epoch 18/150\n",
            "100/100 - 18s - loss: 0.5538 - accuracy: 0.7040 - val_loss: 0.5232 - val_accuracy: 0.7310 - 18s/epoch - 176ms/step\n",
            "Epoch 19/150\n",
            "100/100 - 16s - loss: 0.5404 - accuracy: 0.7320 - val_loss: 0.5262 - val_accuracy: 0.7190 - 16s/epoch - 164ms/step\n",
            "Epoch 20/150\n",
            "100/100 - 16s - loss: 0.5329 - accuracy: 0.7355 - val_loss: 0.5118 - val_accuracy: 0.7320 - 16s/epoch - 165ms/step\n",
            "Epoch 21/150\n",
            "100/100 - 17s - loss: 0.5259 - accuracy: 0.7435 - val_loss: 0.5833 - val_accuracy: 0.6840 - 17s/epoch - 173ms/step\n",
            "Epoch 22/150\n",
            "100/100 - 17s - loss: 0.5258 - accuracy: 0.7280 - val_loss: 0.5006 - val_accuracy: 0.7400 - 17s/epoch - 166ms/step\n",
            "Epoch 23/150\n",
            "100/100 - 16s - loss: 0.5194 - accuracy: 0.7420 - val_loss: 0.5243 - val_accuracy: 0.7180 - 16s/epoch - 164ms/step\n",
            "Epoch 24/150\n",
            "100/100 - 17s - loss: 0.5195 - accuracy: 0.7380 - val_loss: 0.5019 - val_accuracy: 0.7460 - 17s/epoch - 167ms/step\n",
            "Epoch 25/150\n",
            "100/100 - 17s - loss: 0.5242 - accuracy: 0.7335 - val_loss: 0.4868 - val_accuracy: 0.7440 - 17s/epoch - 175ms/step\n",
            "Epoch 26/150\n",
            "100/100 - 17s - loss: 0.5192 - accuracy: 0.7310 - val_loss: 0.4926 - val_accuracy: 0.7450 - 17s/epoch - 166ms/step\n",
            "Epoch 27/150\n",
            "100/100 - 17s - loss: 0.5161 - accuracy: 0.7335 - val_loss: 0.4980 - val_accuracy: 0.7460 - 17s/epoch - 166ms/step\n",
            "Epoch 28/150\n",
            "100/100 - 16s - loss: 0.5019 - accuracy: 0.7490 - val_loss: 0.5040 - val_accuracy: 0.7590 - 16s/epoch - 165ms/step\n",
            "Epoch 29/150\n",
            "100/100 - 17s - loss: 0.5174 - accuracy: 0.7465 - val_loss: 0.4911 - val_accuracy: 0.7410 - 17s/epoch - 174ms/step\n",
            "Epoch 30/150\n",
            "100/100 - 16s - loss: 0.5040 - accuracy: 0.7445 - val_loss: 0.4779 - val_accuracy: 0.7590 - 16s/epoch - 165ms/step\n",
            "Epoch 31/150\n",
            "100/100 - 17s - loss: 0.4969 - accuracy: 0.7520 - val_loss: 0.4875 - val_accuracy: 0.7500 - 17s/epoch - 166ms/step\n",
            "Epoch 32/150\n",
            "100/100 - 18s - loss: 0.4939 - accuracy: 0.7545 - val_loss: 0.5005 - val_accuracy: 0.7530 - 18s/epoch - 177ms/step\n",
            "Epoch 33/150\n",
            "100/100 - 17s - loss: 0.5159 - accuracy: 0.7430 - val_loss: 0.4892 - val_accuracy: 0.7440 - 17s/epoch - 166ms/step\n",
            "Epoch 34/150\n",
            "100/100 - 16s - loss: 0.4892 - accuracy: 0.7670 - val_loss: 0.4676 - val_accuracy: 0.7730 - 16s/epoch - 165ms/step\n",
            "Epoch 35/150\n",
            "100/100 - 17s - loss: 0.4902 - accuracy: 0.7685 - val_loss: 0.4659 - val_accuracy: 0.7670 - 17s/epoch - 167ms/step\n",
            "Epoch 36/150\n",
            "100/100 - 17s - loss: 0.4815 - accuracy: 0.7755 - val_loss: 0.4773 - val_accuracy: 0.7700 - 17s/epoch - 175ms/step\n",
            "Epoch 37/150\n",
            "100/100 - 17s - loss: 0.4778 - accuracy: 0.7640 - val_loss: 0.4608 - val_accuracy: 0.7680 - 17s/epoch - 166ms/step\n",
            "Epoch 38/150\n",
            "100/100 - 17s - loss: 0.4703 - accuracy: 0.7760 - val_loss: 0.4523 - val_accuracy: 0.7830 - 17s/epoch - 165ms/step\n",
            "Epoch 39/150\n",
            "100/100 - 17s - loss: 0.4842 - accuracy: 0.7740 - val_loss: 0.4462 - val_accuracy: 0.7900 - 17s/epoch - 173ms/step\n",
            "Epoch 40/150\n",
            "100/100 - 17s - loss: 0.4657 - accuracy: 0.7860 - val_loss: 0.6032 - val_accuracy: 0.7110 - 17s/epoch - 166ms/step\n",
            "Epoch 41/150\n",
            "100/100 - 17s - loss: 0.4818 - accuracy: 0.7615 - val_loss: 0.4569 - val_accuracy: 0.7730 - 17s/epoch - 166ms/step\n",
            "Epoch 42/150\n",
            "100/100 - 17s - loss: 0.4787 - accuracy: 0.7700 - val_loss: 0.4626 - val_accuracy: 0.7890 - 17s/epoch - 166ms/step\n",
            "Epoch 43/150\n",
            "100/100 - 17s - loss: 0.4629 - accuracy: 0.7775 - val_loss: 0.4797 - val_accuracy: 0.7570 - 17s/epoch - 174ms/step\n",
            "Epoch 44/150\n",
            "100/100 - 17s - loss: 0.4586 - accuracy: 0.7850 - val_loss: 0.4585 - val_accuracy: 0.7770 - 17s/epoch - 166ms/step\n",
            "Epoch 45/150\n",
            "100/100 - 17s - loss: 0.4773 - accuracy: 0.7685 - val_loss: 0.4643 - val_accuracy: 0.7740 - 17s/epoch - 166ms/step\n",
            "Epoch 46/150\n",
            "100/100 - 17s - loss: 0.4488 - accuracy: 0.8025 - val_loss: 0.4985 - val_accuracy: 0.7590 - 17s/epoch - 168ms/step\n",
            "Epoch 47/150\n",
            "100/100 - 17s - loss: 0.4462 - accuracy: 0.7940 - val_loss: 0.5068 - val_accuracy: 0.7730 - 17s/epoch - 171ms/step\n",
            "Epoch 48/150\n",
            "100/100 - 17s - loss: 0.4688 - accuracy: 0.7705 - val_loss: 0.4500 - val_accuracy: 0.7860 - 17s/epoch - 165ms/step\n",
            "Epoch 49/150\n",
            "100/100 - 17s - loss: 0.4565 - accuracy: 0.7855 - val_loss: 0.4478 - val_accuracy: 0.7890 - 17s/epoch - 165ms/step\n",
            "Epoch 50/150\n",
            "100/100 - 17s - loss: 0.4437 - accuracy: 0.7790 - val_loss: 0.4355 - val_accuracy: 0.7890 - 17s/epoch - 175ms/step\n",
            "Epoch 51/150\n",
            "100/100 - 17s - loss: 0.4354 - accuracy: 0.8055 - val_loss: 0.4623 - val_accuracy: 0.7740 - 17s/epoch - 167ms/step\n",
            "Epoch 52/150\n",
            "100/100 - 17s - loss: 0.4477 - accuracy: 0.7915 - val_loss: 0.5681 - val_accuracy: 0.7390 - 17s/epoch - 165ms/step\n",
            "Epoch 53/150\n",
            "100/100 - 19s - loss: 0.4335 - accuracy: 0.8085 - val_loss: 0.4551 - val_accuracy: 0.7790 - 19s/epoch - 192ms/step\n",
            "Epoch 54/150\n",
            "100/100 - 17s - loss: 0.4430 - accuracy: 0.7890 - val_loss: 0.4432 - val_accuracy: 0.7860 - 17s/epoch - 175ms/step\n",
            "Epoch 55/150\n",
            "100/100 - 17s - loss: 0.4396 - accuracy: 0.8060 - val_loss: 0.4312 - val_accuracy: 0.7870 - 17s/epoch - 166ms/step\n",
            "Epoch 56/150\n",
            "100/100 - 17s - loss: 0.4346 - accuracy: 0.7995 - val_loss: 0.4258 - val_accuracy: 0.7840 - 17s/epoch - 168ms/step\n",
            "Epoch 57/150\n",
            "100/100 - 17s - loss: 0.4258 - accuracy: 0.8010 - val_loss: 0.5114 - val_accuracy: 0.7450 - 17s/epoch - 174ms/step\n",
            "Epoch 58/150\n",
            "100/100 - 17s - loss: 0.4405 - accuracy: 0.7965 - val_loss: 0.4408 - val_accuracy: 0.7870 - 17s/epoch - 165ms/step\n",
            "Epoch 59/150\n",
            "100/100 - 16s - loss: 0.4284 - accuracy: 0.8025 - val_loss: 0.5845 - val_accuracy: 0.7320 - 16s/epoch - 163ms/step\n",
            "Epoch 60/150\n",
            "100/100 - 17s - loss: 0.4389 - accuracy: 0.7965 - val_loss: 0.4277 - val_accuracy: 0.7970 - 17s/epoch - 166ms/step\n",
            "Epoch 61/150\n",
            "100/100 - 17s - loss: 0.4345 - accuracy: 0.7980 - val_loss: 0.4982 - val_accuracy: 0.7610 - 17s/epoch - 174ms/step\n",
            "Epoch 62/150\n",
            "100/100 - 17s - loss: 0.4258 - accuracy: 0.8050 - val_loss: 0.4527 - val_accuracy: 0.7940 - 17s/epoch - 166ms/step\n",
            "Epoch 63/150\n",
            "100/100 - 17s - loss: 0.4318 - accuracy: 0.7960 - val_loss: 0.4779 - val_accuracy: 0.7600 - 17s/epoch - 165ms/step\n",
            "Epoch 64/150\n",
            "100/100 - 17s - loss: 0.4249 - accuracy: 0.7925 - val_loss: 0.4077 - val_accuracy: 0.8130 - 17s/epoch - 173ms/step\n",
            "Epoch 65/150\n",
            "100/100 - 16s - loss: 0.4106 - accuracy: 0.8190 - val_loss: 0.4240 - val_accuracy: 0.8060 - 16s/epoch - 165ms/step\n",
            "Epoch 66/150\n",
            "100/100 - 16s - loss: 0.4147 - accuracy: 0.8055 - val_loss: 0.4768 - val_accuracy: 0.7720 - 16s/epoch - 164ms/step\n",
            "Epoch 67/150\n",
            "100/100 - 16s - loss: 0.4129 - accuracy: 0.8055 - val_loss: 0.4227 - val_accuracy: 0.8010 - 16s/epoch - 164ms/step\n",
            "Epoch 68/150\n",
            "100/100 - 17s - loss: 0.4206 - accuracy: 0.8050 - val_loss: 0.4370 - val_accuracy: 0.7930 - 17s/epoch - 173ms/step\n",
            "Epoch 69/150\n",
            "100/100 - 17s - loss: 0.4076 - accuracy: 0.8085 - val_loss: 0.4122 - val_accuracy: 0.8090 - 17s/epoch - 165ms/step\n",
            "Epoch 70/150\n",
            "100/100 - 17s - loss: 0.4019 - accuracy: 0.8155 - val_loss: 0.4234 - val_accuracy: 0.8010 - 17s/epoch - 165ms/step\n",
            "Epoch 71/150\n",
            "100/100 - 17s - loss: 0.4106 - accuracy: 0.8125 - val_loss: 0.4207 - val_accuracy: 0.7990 - 17s/epoch - 166ms/step\n",
            "Epoch 72/150\n",
            "100/100 - 17s - loss: 0.3934 - accuracy: 0.8210 - val_loss: 0.4199 - val_accuracy: 0.7960 - 17s/epoch - 174ms/step\n",
            "Epoch 73/150\n",
            "100/100 - 16s - loss: 0.4002 - accuracy: 0.8165 - val_loss: 0.4286 - val_accuracy: 0.7920 - 16s/epoch - 164ms/step\n",
            "Epoch 74/150\n",
            "100/100 - 17s - loss: 0.3925 - accuracy: 0.8105 - val_loss: 0.4403 - val_accuracy: 0.7970 - 17s/epoch - 166ms/step\n",
            "Epoch 75/150\n",
            "100/100 - 17s - loss: 0.4008 - accuracy: 0.8185 - val_loss: 0.4220 - val_accuracy: 0.8070 - 17s/epoch - 174ms/step\n",
            "Epoch 76/150\n",
            "100/100 - 16s - loss: 0.4017 - accuracy: 0.8070 - val_loss: 0.4147 - val_accuracy: 0.7930 - 16s/epoch - 165ms/step\n",
            "Epoch 77/150\n",
            "100/100 - 16s - loss: 0.4045 - accuracy: 0.8200 - val_loss: 0.4216 - val_accuracy: 0.8040 - 16s/epoch - 164ms/step\n",
            "Epoch 78/150\n",
            "100/100 - 16s - loss: 0.3835 - accuracy: 0.8135 - val_loss: 0.4192 - val_accuracy: 0.8080 - 16s/epoch - 165ms/step\n",
            "Epoch 79/150\n",
            "100/100 - 17s - loss: 0.3759 - accuracy: 0.8300 - val_loss: 0.4311 - val_accuracy: 0.7940 - 17s/epoch - 174ms/step\n",
            "Epoch 80/150\n",
            "100/100 - 17s - loss: 0.3908 - accuracy: 0.8175 - val_loss: 0.4264 - val_accuracy: 0.8020 - 17s/epoch - 165ms/step\n",
            "Epoch 81/150\n",
            "100/100 - 16s - loss: 0.3722 - accuracy: 0.8275 - val_loss: 0.4576 - val_accuracy: 0.7830 - 16s/epoch - 164ms/step\n",
            "Epoch 82/150\n",
            "100/100 - 17s - loss: 0.3681 - accuracy: 0.8355 - val_loss: 0.4327 - val_accuracy: 0.8010 - 17s/epoch - 167ms/step\n",
            "Epoch 83/150\n",
            "100/100 - 17s - loss: 0.3777 - accuracy: 0.8270 - val_loss: 0.4805 - val_accuracy: 0.7870 - 17s/epoch - 167ms/step\n",
            "Epoch 84/150\n",
            "100/100 - 17s - loss: 0.3862 - accuracy: 0.8255 - val_loss: 0.4405 - val_accuracy: 0.7890 - 17s/epoch - 165ms/step\n",
            "Epoch 85/150\n",
            "100/100 - 16s - loss: 0.3702 - accuracy: 0.8245 - val_loss: 0.5240 - val_accuracy: 0.7670 - 16s/epoch - 165ms/step\n",
            "Epoch 86/150\n",
            "100/100 - 17s - loss: 0.3764 - accuracy: 0.8260 - val_loss: 0.4805 - val_accuracy: 0.7820 - 17s/epoch - 173ms/step\n",
            "Epoch 87/150\n",
            "100/100 - 16s - loss: 0.3741 - accuracy: 0.8325 - val_loss: 0.4026 - val_accuracy: 0.8150 - 16s/epoch - 165ms/step\n",
            "Epoch 88/150\n",
            "100/100 - 16s - loss: 0.3714 - accuracy: 0.8280 - val_loss: 0.5863 - val_accuracy: 0.7540 - 16s/epoch - 164ms/step\n",
            "Epoch 89/150\n",
            "100/100 - 17s - loss: 0.3829 - accuracy: 0.8255 - val_loss: 0.4415 - val_accuracy: 0.7960 - 17s/epoch - 166ms/step\n",
            "Epoch 90/150\n",
            "100/100 - 18s - loss: 0.3588 - accuracy: 0.8375 - val_loss: 0.4175 - val_accuracy: 0.8170 - 18s/epoch - 176ms/step\n",
            "Epoch 91/150\n",
            "100/100 - 19s - loss: 0.3753 - accuracy: 0.8335 - val_loss: 0.3853 - val_accuracy: 0.8250 - 19s/epoch - 190ms/step\n",
            "Epoch 92/150\n",
            "100/100 - 16s - loss: 0.3721 - accuracy: 0.8330 - val_loss: 0.4013 - val_accuracy: 0.8060 - 16s/epoch - 164ms/step\n",
            "Epoch 93/150\n",
            "100/100 - 17s - loss: 0.3670 - accuracy: 0.8385 - val_loss: 0.4515 - val_accuracy: 0.7880 - 17s/epoch - 174ms/step\n",
            "Epoch 94/150\n",
            "100/100 - 17s - loss: 0.3466 - accuracy: 0.8445 - val_loss: 0.4597 - val_accuracy: 0.7900 - 17s/epoch - 165ms/step\n",
            "Epoch 95/150\n",
            "100/100 - 19s - loss: 0.3711 - accuracy: 0.8265 - val_loss: 0.4075 - val_accuracy: 0.8110 - 19s/epoch - 189ms/step\n",
            "Epoch 96/150\n",
            "100/100 - 16s - loss: 0.3598 - accuracy: 0.8475 - val_loss: 0.4259 - val_accuracy: 0.8040 - 16s/epoch - 165ms/step\n",
            "Epoch 97/150\n",
            "100/100 - 17s - loss: 0.3674 - accuracy: 0.8365 - val_loss: 0.4038 - val_accuracy: 0.8090 - 17s/epoch - 173ms/step\n",
            "Epoch 98/150\n",
            "100/100 - 16s - loss: 0.3451 - accuracy: 0.8520 - val_loss: 0.4130 - val_accuracy: 0.8130 - 16s/epoch - 165ms/step\n",
            "Epoch 99/150\n",
            "100/100 - 17s - loss: 0.3533 - accuracy: 0.8490 - val_loss: 0.4617 - val_accuracy: 0.7990 - 17s/epoch - 166ms/step\n",
            "Epoch 100/150\n",
            "100/100 - 17s - loss: 0.3684 - accuracy: 0.8375 - val_loss: 0.4174 - val_accuracy: 0.8080 - 17s/epoch - 172ms/step\n",
            "Epoch 101/150\n",
            "100/100 - 17s - loss: 0.3480 - accuracy: 0.8450 - val_loss: 0.4084 - val_accuracy: 0.8210 - 17s/epoch - 167ms/step\n",
            "Epoch 102/150\n",
            "100/100 - 16s - loss: 0.3426 - accuracy: 0.8415 - val_loss: 0.4010 - val_accuracy: 0.8060 - 16s/epoch - 164ms/step\n",
            "Epoch 103/150\n",
            "100/100 - 17s - loss: 0.3378 - accuracy: 0.8445 - val_loss: 0.4020 - val_accuracy: 0.8180 - 17s/epoch - 165ms/step\n",
            "Epoch 104/150\n",
            "100/100 - 17s - loss: 0.3438 - accuracy: 0.8560 - val_loss: 0.4014 - val_accuracy: 0.8070 - 17s/epoch - 173ms/step\n",
            "Epoch 105/150\n",
            "100/100 - 17s - loss: 0.3309 - accuracy: 0.8610 - val_loss: 0.4078 - val_accuracy: 0.8060 - 17s/epoch - 166ms/step\n",
            "Epoch 106/150\n",
            "100/100 - 16s - loss: 0.3395 - accuracy: 0.8525 - val_loss: 0.3868 - val_accuracy: 0.8180 - 16s/epoch - 164ms/step\n",
            "Epoch 107/150\n",
            "100/100 - 16s - loss: 0.3446 - accuracy: 0.8480 - val_loss: 0.4074 - val_accuracy: 0.8120 - 16s/epoch - 165ms/step\n",
            "Epoch 108/150\n",
            "100/100 - 17s - loss: 0.3368 - accuracy: 0.8500 - val_loss: 0.3865 - val_accuracy: 0.8240 - 17s/epoch - 175ms/step\n",
            "Epoch 109/150\n",
            "100/100 - 16s - loss: 0.3437 - accuracy: 0.8465 - val_loss: 0.4695 - val_accuracy: 0.8100 - 16s/epoch - 163ms/step\n",
            "Epoch 110/150\n",
            "100/100 - 16s - loss: 0.3411 - accuracy: 0.8540 - val_loss: 0.3939 - val_accuracy: 0.8200 - 16s/epoch - 165ms/step\n",
            "Epoch 111/150\n",
            "100/100 - 16s - loss: 0.3386 - accuracy: 0.8460 - val_loss: 0.3880 - val_accuracy: 0.8210 - 16s/epoch - 165ms/step\n",
            "Epoch 112/150\n",
            "100/100 - 17s - loss: 0.3376 - accuracy: 0.8515 - val_loss: 0.3873 - val_accuracy: 0.8240 - 17s/epoch - 172ms/step\n",
            "Epoch 113/150\n",
            "100/100 - 16s - loss: 0.3238 - accuracy: 0.8610 - val_loss: 0.3873 - val_accuracy: 0.8180 - 16s/epoch - 164ms/step\n",
            "Epoch 114/150\n",
            "100/100 - 16s - loss: 0.3459 - accuracy: 0.8470 - val_loss: 0.4003 - val_accuracy: 0.8170 - 16s/epoch - 165ms/step\n",
            "Epoch 115/150\n",
            "100/100 - 17s - loss: 0.3309 - accuracy: 0.8535 - val_loss: 0.4429 - val_accuracy: 0.7950 - 17s/epoch - 173ms/step\n",
            "Epoch 116/150\n",
            "100/100 - 16s - loss: 0.3462 - accuracy: 0.8370 - val_loss: 0.3819 - val_accuracy: 0.8270 - 16s/epoch - 162ms/step\n",
            "Epoch 117/150\n",
            "100/100 - 16s - loss: 0.3287 - accuracy: 0.8570 - val_loss: 0.4051 - val_accuracy: 0.8170 - 16s/epoch - 165ms/step\n",
            "Epoch 118/150\n",
            "100/100 - 17s - loss: 0.3238 - accuracy: 0.8585 - val_loss: 0.3832 - val_accuracy: 0.8180 - 17s/epoch - 173ms/step\n",
            "Epoch 119/150\n",
            "100/100 - 16s - loss: 0.3241 - accuracy: 0.8565 - val_loss: 0.3880 - val_accuracy: 0.8230 - 16s/epoch - 165ms/step\n",
            "Epoch 120/150\n",
            "100/100 - 16s - loss: 0.3171 - accuracy: 0.8560 - val_loss: 0.3836 - val_accuracy: 0.8330 - 16s/epoch - 163ms/step\n",
            "Epoch 121/150\n",
            "100/100 - 17s - loss: 0.3411 - accuracy: 0.8435 - val_loss: 0.3658 - val_accuracy: 0.8310 - 17s/epoch - 167ms/step\n",
            "Epoch 122/150\n",
            "100/100 - 17s - loss: 0.2977 - accuracy: 0.8725 - val_loss: 0.4243 - val_accuracy: 0.8180 - 17s/epoch - 173ms/step\n",
            "Epoch 123/150\n",
            "100/100 - 16s - loss: 0.3262 - accuracy: 0.8580 - val_loss: 0.3797 - val_accuracy: 0.8260 - 16s/epoch - 163ms/step\n",
            "Epoch 124/150\n",
            "100/100 - 16s - loss: 0.3244 - accuracy: 0.8640 - val_loss: 0.3774 - val_accuracy: 0.8280 - 16s/epoch - 164ms/step\n",
            "Epoch 125/150\n",
            "100/100 - 16s - loss: 0.3101 - accuracy: 0.8620 - val_loss: 0.4354 - val_accuracy: 0.8070 - 16s/epoch - 163ms/step\n",
            "Epoch 126/150\n",
            "100/100 - 17s - loss: 0.2958 - accuracy: 0.8770 - val_loss: 0.4273 - val_accuracy: 0.8220 - 17s/epoch - 175ms/step\n",
            "Epoch 127/150\n",
            "100/100 - 17s - loss: 0.3056 - accuracy: 0.8690 - val_loss: 0.4142 - val_accuracy: 0.8260 - 17s/epoch - 165ms/step\n",
            "Epoch 128/150\n",
            "100/100 - 16s - loss: 0.2946 - accuracy: 0.8805 - val_loss: 0.4013 - val_accuracy: 0.8250 - 16s/epoch - 164ms/step\n",
            "Epoch 129/150\n",
            "100/100 - 16s - loss: 0.3092 - accuracy: 0.8690 - val_loss: 0.5811 - val_accuracy: 0.7590 - 16s/epoch - 163ms/step\n",
            "Epoch 130/150\n",
            "100/100 - 17s - loss: 0.2991 - accuracy: 0.8710 - val_loss: 0.3905 - val_accuracy: 0.8360 - 17s/epoch - 173ms/step\n",
            "Epoch 131/150\n",
            "100/100 - 16s - loss: 0.3026 - accuracy: 0.8680 - val_loss: 0.4063 - val_accuracy: 0.8180 - 16s/epoch - 163ms/step\n",
            "Epoch 132/150\n",
            "100/100 - 16s - loss: 0.3036 - accuracy: 0.8735 - val_loss: 0.5113 - val_accuracy: 0.7890 - 16s/epoch - 162ms/step\n",
            "Epoch 133/150\n",
            "100/100 - 17s - loss: 0.2869 - accuracy: 0.8810 - val_loss: 0.4197 - val_accuracy: 0.8210 - 17s/epoch - 169ms/step\n",
            "Epoch 134/150\n",
            "100/100 - 16s - loss: 0.3125 - accuracy: 0.8700 - val_loss: 0.4618 - val_accuracy: 0.7870 - 16s/epoch - 162ms/step\n",
            "Epoch 135/150\n",
            "100/100 - 16s - loss: 0.2936 - accuracy: 0.8755 - val_loss: 0.3869 - val_accuracy: 0.8300 - 16s/epoch - 162ms/step\n",
            "Epoch 136/150\n",
            "100/100 - 16s - loss: 0.3044 - accuracy: 0.8640 - val_loss: 0.4465 - val_accuracy: 0.8100 - 16s/epoch - 164ms/step\n",
            "Epoch 137/150\n",
            "100/100 - 17s - loss: 0.3101 - accuracy: 0.8680 - val_loss: 0.3883 - val_accuracy: 0.8330 - 17s/epoch - 173ms/step\n",
            "Epoch 138/150\n",
            "100/100 - 16s - loss: 0.2967 - accuracy: 0.8655 - val_loss: 0.3918 - val_accuracy: 0.8160 - 16s/epoch - 162ms/step\n",
            "Epoch 139/150\n",
            "100/100 - 16s - loss: 0.2863 - accuracy: 0.8770 - val_loss: 0.4717 - val_accuracy: 0.8100 - 16s/epoch - 163ms/step\n",
            "Epoch 140/150\n",
            "100/100 - 16s - loss: 0.3185 - accuracy: 0.8690 - val_loss: 0.4064 - val_accuracy: 0.8280 - 16s/epoch - 162ms/step\n",
            "Epoch 141/150\n",
            "100/100 - 17s - loss: 0.2825 - accuracy: 0.8810 - val_loss: 0.3985 - val_accuracy: 0.8160 - 17s/epoch - 173ms/step\n",
            "Epoch 142/150\n",
            "100/100 - 16s - loss: 0.2749 - accuracy: 0.8785 - val_loss: 0.3993 - val_accuracy: 0.8220 - 16s/epoch - 163ms/step\n",
            "Epoch 143/150\n",
            "100/100 - 16s - loss: 0.3008 - accuracy: 0.8665 - val_loss: 0.3725 - val_accuracy: 0.8400 - 16s/epoch - 164ms/step\n",
            "Epoch 144/150\n",
            "100/100 - 16s - loss: 0.2768 - accuracy: 0.8775 - val_loss: 0.4063 - val_accuracy: 0.8390 - 16s/epoch - 165ms/step\n",
            "Epoch 145/150\n",
            "100/100 - 17s - loss: 0.2987 - accuracy: 0.8705 - val_loss: 0.3927 - val_accuracy: 0.8370 - 17s/epoch - 170ms/step\n",
            "Epoch 146/150\n",
            "100/100 - 16s - loss: 0.2643 - accuracy: 0.8905 - val_loss: 0.4317 - val_accuracy: 0.8100 - 16s/epoch - 162ms/step\n",
            "Epoch 147/150\n",
            "100/100 - 16s - loss: 0.2963 - accuracy: 0.8715 - val_loss: 0.4477 - val_accuracy: 0.8290 - 16s/epoch - 162ms/step\n",
            "Epoch 148/150\n",
            "100/100 - 17s - loss: 0.2700 - accuracy: 0.8790 - val_loss: 0.4345 - val_accuracy: 0.8090 - 17s/epoch - 171ms/step\n",
            "Epoch 149/150\n",
            "100/100 - 16s - loss: 0.2699 - accuracy: 0.8875 - val_loss: 0.3927 - val_accuracy: 0.8310 - 16s/epoch - 161ms/step\n",
            "Epoch 150/150\n",
            "100/100 - 16s - loss: 0.2709 - accuracy: 0.8775 - val_loss: 0.4377 - val_accuracy: 0.8140 - 16s/epoch - 162ms/step\n"
          ]
        }
      ],
      "source": [
        "EPOCHS = 150\n",
        "\n",
        "# Create new model\n",
        "model_for_aug = create_model()\n",
        "\n",
        "# This code has changed. Now instead of the ImageGenerator just rescaling\n",
        "# the image, we also rotate and do other operations\n",
        "train_datagen = ImageDataGenerator(\n",
        "      rescale=1./255,\n",
        "      rotation_range=40,\n",
        "      width_shift_range=0.2,\n",
        "      height_shift_range=0.2,\n",
        "      shear_range=0.2,\n",
        "      zoom_range=0.2,\n",
        "      horizontal_flip=True,\n",
        "      fill_mode='nearest')\n",
        "\n",
        "test_datagen = ImageDataGenerator(rescale=1./255)\n",
        "\n",
        "# Flow training images in batches of 20 using train_datagen generator\n",
        "train_generator = train_datagen.flow_from_directory(\n",
        "        train_dir,  # This is the source directory for training images\n",
        "        target_size=(150, 150),  # All images will be resized to 150x150\n",
        "        batch_size=20,\n",
        "        # Since we use binary_crossentropy loss, we need binary labels\n",
        "        class_mode='binary')\n",
        "\n",
        "# Flow validation images in batches of 20 using test_datagen generator\n",
        "validation_generator = test_datagen.flow_from_directory(\n",
        "        validation_dir,\n",
        "        target_size=(150, 150),\n",
        "        batch_size=20,\n",
        "        class_mode='binary')\n",
        "\n",
        "# Train the new model\n",
        "history_with_aug = model_for_aug.fit(\n",
        "      train_generator,\n",
        "      steps_per_epoch=100,  # 2000 images = batch_size * steps\n",
        "      epochs=EPOCHS,\n",
        "      validation_data=validation_generator,\n",
        "      validation_steps=50,  # 1000 images = batch_size * steps\n",
        "      verbose=2)"
      ]
    },
    {
      "cell_type": "code",
      "execution_count": 18,
      "metadata": {
        "id": "bnyRnwopT5aW",
        "colab": {
          "base_uri": "https://localhost:8080/",
          "height": 545
        },
        "outputId": "da7d7f93-b8f2-46e8-9db6-7df46c8bdb65"
      },
      "outputs": [
        {
          "output_type": "display_data",
          "data": {
            "text/plain": [
              "<Figure size 432x288 with 1 Axes>"
            ],
            "image/png": "[encoded data removed]"
          },
          "metadata": {
            "needs_background": "light"
          }
        },
        {
          "output_type": "display_data",
          "data": {
            "text/plain": [
              "<Figure size 432x288 with 1 Axes>"
            ],
            "image/png": "[encoded data removed]"
          },
          "metadata": {
            "needs_background": "light"
          }
        }
      ],
      "source": [
        "# Plot the results of training with data augmentation\n",
        "plot_loss_acc(history_with_aug)"
      ]
    },
    {
      "cell_type": "markdown",
      "metadata": {
        "id": "1D1hd5fqmJUx"
      },
      "source": [
        "As you can see, the training accuracy has gone down compared to the baseline. This is expected because (as a result of data augmentation) there are more variety in the images so the model will need more runs to learn from them. The good thing is the validation accuracy is no longer stalling and is more in line with the training results. This means that the model is now performing better on unseen data. \n",
        "\n",
        "\n"
      ]
    },
    {
      "cell_type": "markdown",
      "metadata": {
        "id": "z4B9b6GPnKg1"
      },
      "source": [
        "## Wrap Up\n",
        "\n",
        "This exercise showed a simple trick to avoid overfitting. You can improve your baseline results by simply tweaking the same images you have already. The `ImageDataGenerator` class has built-in parameters to do just that. Try to modify the values some more in the `train_datagen` and see what results you get.\n",
        "\n",
        "Take note that this will not work for all cases. In the next lesson, Laurence will show a scenario where data augmentation will not help improve your validation accuracy."
      ]
    }
  ],
  "metadata": {
    "accelerator": "GPU",
    "colab": {
      "provenance": []
    },
    "kernelspec": {
      "display_name": "Python 3",
      "language": "python",
      "name": "python3"
    },
    "language_info": {
      "codemirror_mode": {
        "name": "ipython",
        "version": 3
      },
      "file_extension": ".py",
      "mimetype": "text/x-python",
      "name": "python",
      "nbconvert_exporter": "python",
      "pygments_lexer": "ipython3",
      "version": "3.7.4"
    },
    "gpuClass": "standard"
  },
  "nbformat": 4,
  "nbformat_minor": 0
}