{
  "cells": [
    {
      "cell_type": "markdown",
      "metadata": {
        "id": "37v_yExZppEp"
      },
      "source": [
        "# Ungraded Lab: Data Augmentation on the Horses or Humans Dataset\n",
        "\n",
        "In the previous lab, you saw how data augmentation helped improve the model's performance on unseen data. By tweaking the cat and dog training images, the model was able to learn features that are also representative of the validation data. However, applying data augmentation requires good understanding of your dataset. Simply transforming it randomly will not always yield good results. \n",
        "\n",
        "In the next cells, you will apply the same techniques to the `Horses or Humans` dataset and analyze the results."
      ]
    },
    {
      "cell_type": "code",
      "execution_count": 1,
      "metadata": {
        "id": "Lslf0vB3rQlU",
        "colab": {
          "base_uri": "https://localhost:8080/"
        },
        "outputId": "8d843306-444a-4175-cb32-fe0bbc52e73f"
      },
      "outputs": [
        {
          "output_type": "stream",
          "name": "stdout",
          "text": [
            "--2022-11-21 15:02:27--  https://storage.googleapis.com/tensorflow-1-public/course2/week3/horse-or-human.zip\n",
            "Resolving storage.googleapis.com (storage.googleapis.com)... 173.194.69.128, 108.177.119.128, 108.177.126.128, ...\n",
            "Connecting to storage.googleapis.com (storage.googleapis.com)|173.194.69.128|:443... connected.\n",
            "HTTP request sent, awaiting response... 200 OK\n",
            "Length: 149574867 (143M) [application/zip]\n",
            "Saving to: ‘horse-or-human.zip’\n",
            "\n",
            "horse-or-human.zip  100%[===================>] 142.65M  41.3MB/s    in 4.0s    \n",
            "\n",
            "2022-11-21 15:02:32 (35.2 MB/s) - ‘horse-or-human.zip’ saved [149574867/149574867]\n",
            "\n"
          ]
        }
      ],
      "source": [
        "# Download the training set\n",
        "!wget https://storage.googleapis.com/tensorflow-1-public/course2/week3/horse-or-human.zip"
      ]
    },
    {
      "cell_type": "code",
      "execution_count": 2,
      "metadata": {
        "id": "563nTTSYqqPC",
        "colab": {
          "base_uri": "https://localhost:8080/"
        },
        "outputId": "b11143ef-1278-4ed3-800f-7de0a21fc553"
      },
      "outputs": [
        {
          "output_type": "stream",
          "name": "stdout",
          "text": [
            "--2022-11-21 15:02:32--  https://storage.googleapis.com/tensorflow-1-public/course2/week3/validation-horse-or-human.zip\n",
            "Resolving storage.googleapis.com (storage.googleapis.com)... 173.194.69.128, 108.177.119.128, 108.177.126.128, ...\n",
            "Connecting to storage.googleapis.com (storage.googleapis.com)|173.194.69.128|:443... connected.\n",
            "HTTP request sent, awaiting response... 200 OK\n",
            "Length: 11480187 (11M) [application/zip]\n",
            "Saving to: ‘validation-horse-or-human.zip’\n",
            "\n",
            "validation-horse-or 100%[===================>]  10.95M  12.2MB/s    in 0.9s    \n",
            "\n",
            "2022-11-21 15:02:33 (12.2 MB/s) - ‘validation-horse-or-human.zip’ saved [11480187/11480187]\n",
            "\n"
          ]
        }
      ],
      "source": [
        "# Download the validation set\n",
        "!wget https://storage.googleapis.com/tensorflow-1-public/course2/week3/validation-horse-or-human.zip"
      ]
    },
    {
      "cell_type": "code",
      "execution_count": 3,
      "metadata": {
        "id": "RXZT2UsyIVe_"
      },
      "outputs": [],
      "source": [
        "import os\n",
        "import zipfile\n",
        "\n",
        "# Extract the archive\n",
        "zip_ref = zipfile.ZipFile('./horse-or-human.zip', 'r')\n",
        "zip_ref.extractall('tmp/horse-or-human')\n",
        "\n",
        "zip_ref = zipfile.ZipFile('./validation-horse-or-human.zip', 'r')\n",
        "zip_ref.extractall('tmp/validation-horse-or-human')\n",
        "\n",
        "zip_ref.close()\n",
        "\n",
        "# Directory with training horse pictures\n",
        "train_horse_dir = os.path.join('tmp/horse-or-human/horses')\n",
        "\n",
        "# Directory with training human pictures\n",
        "train_human_dir = os.path.join('tmp/horse-or-human/humans')\n",
        "\n",
        "# Directory with training horse pictures\n",
        "validation_horse_dir = os.path.join('tmp/validation-horse-or-human/horses')\n",
        "\n",
        "# Directory with training human pictures\n",
        "validation_human_dir = os.path.join('tmp/validation-horse-or-human/humans')"
      ]
    },
    {
      "cell_type": "code",
      "execution_count": 4,
      "metadata": {
        "id": "PixZ2s5QbYQ3"
      },
      "outputs": [],
      "source": [
        "import tensorflow as tf\n",
        "\n",
        "# Build the model\n",
        "model = tf.keras.models.Sequential([\n",
        "    # Note the input shape is the desired size of the image 300x300 with 3 bytes color\n",
        "    # This is the first convolution\n",
        "    tf.keras.layers.Conv2D(16, (3,3), activation='relu', input_shape=(300, 300, 3)),\n",
        "    tf.keras.layers.MaxPooling2D(2, 2),\n",
        "    # The second convolution\n",
        "    tf.keras.layers.Conv2D(32, (3,3), activation='relu'),\n",
        "    tf.keras.layers.MaxPooling2D(2,2),\n",
        "    # The third convolution\n",
        "    tf.keras.layers.Conv2D(64, (3,3), activation='relu'),\n",
        "    tf.keras.layers.MaxPooling2D(2,2),\n",
        "    # The fourth convolution\n",
        "    tf.keras.layers.Conv2D(64, (3,3), activation='relu'),\n",
        "    tf.keras.layers.MaxPooling2D(2,2),\n",
        "    # The fifth convolution\n",
        "    tf.keras.layers.Conv2D(64, (3,3), activation='relu'),\n",
        "    tf.keras.layers.MaxPooling2D(2,2),\n",
        "    # Flatten the results to feed into a DNN\n",
        "    tf.keras.layers.Flatten(),\n",
        "    # 512 neuron hidden layer\n",
        "    tf.keras.layers.Dense(512, activation='relu'),\n",
        "    # Only 1 output neuron. It will contain a value from 0-1 where 0 for 1 class ('horses') and 1 for the other ('humans')\n",
        "    tf.keras.layers.Dense(1, activation='sigmoid')\n",
        "])"
      ]
    },
    {
      "cell_type": "code",
      "execution_count": 5,
      "metadata": {
        "id": "8DHWhFP_uhq3"
      },
      "outputs": [],
      "source": [
        "from tensorflow.keras.optimizers import RMSprop\n",
        "\n",
        "# Set training parameters\n",
        "model.compile(loss='binary_crossentropy',\n",
        "              optimizer=RMSprop(learning_rate=1e-4),\n",
        "              metrics=['accuracy'])"
      ]
    },
    {
      "cell_type": "code",
      "execution_count": 6,
      "metadata": {
        "id": "ClebU9NJg99G",
        "colab": {
          "base_uri": "https://localhost:8080/"
        },
        "outputId": "77033e8e-1862-40a1-8836-164c0f4b9611"
      },
      "outputs": [
        {
          "output_type": "stream",
          "name": "stdout",
          "text": [
            "Found 1027 images belonging to 2 classes.\n",
            "Found 256 images belonging to 2 classes.\n"
          ]
        }
      ],
      "source": [
        "from tensorflow.keras.preprocessing.image import ImageDataGenerator\n",
        "\n",
        "# Apply data augmentation\n",
        "train_datagen = ImageDataGenerator(\n",
        "      rescale=1./255,\n",
        "      rotation_range=40,\n",
        "      width_shift_range=0.2,\n",
        "      height_shift_range=0.2,\n",
        "      shear_range=0.2,\n",
        "      zoom_range=0.2,\n",
        "      horizontal_flip=True,\n",
        "      fill_mode='nearest')\n",
        "\n",
        "validation_datagen = ImageDataGenerator(rescale=1/255)\n",
        "\n",
        "# Flow training images in batches of 128 using train_datagen generator\n",
        "train_generator = train_datagen.flow_from_directory(\n",
        "        'tmp/horse-or-human/',  # This is the source directory for training images\n",
        "        target_size=(300, 300),  # All images will be resized to 150x150\n",
        "        batch_size=128,\n",
        "        # Since we use binary_crossentropy loss, we need binary labels\n",
        "        class_mode='binary')\n",
        "\n",
        "# Flow training images in batches of 128 using train_datagen generator\n",
        "validation_generator = validation_datagen.flow_from_directory(\n",
        "        'tmp/validation-horse-or-human/',  # This is the source directory for training images\n",
        "        target_size=(300, 300),  # All images will be resized to 150x150\n",
        "        batch_size=32,\n",
        "        # Since we use binary_crossentropy loss, we need binary labels\n",
        "        class_mode='binary')"
      ]
    },
    {
      "cell_type": "code",
      "execution_count": 7,
      "metadata": {
        "id": "Fb1_lgobv81m",
        "colab": {
          "base_uri": "https://localhost:8080/"
        },
        "outputId": "8f833e0f-56d3-47ce-9bc4-15c82432d079"
      },
      "outputs": [
        {
          "output_type": "stream",
          "name": "stdout",
          "text": [
            "Epoch 1/50\n",
            "8/8 [==============================] - 30s 2s/step - loss: 0.6992 - accuracy: 0.5028 - val_loss: 0.6872 - val_accuracy: 0.5000\n",
            "Epoch 2/50\n",
            "8/8 [==============================] - 21s 3s/step - loss: 0.6757 - accuracy: 0.5428 - val_loss: 0.6522 - val_accuracy: 0.7852\n",
            "Epoch 3/50\n",
            "8/8 [==============================] - 24s 3s/step - loss: 0.6490 - accuracy: 0.6816 - val_loss: 0.7374 - val_accuracy: 0.5000\n",
            "Epoch 4/50\n",
            "8/8 [==============================] - 21s 3s/step - loss: 0.6094 - accuracy: 0.6796 - val_loss: 0.7148 - val_accuracy: 0.5000\n",
            "Epoch 5/50\n",
            "8/8 [==============================] - 21s 3s/step - loss: 0.6268 - accuracy: 0.6607 - val_loss: 0.5899 - val_accuracy: 0.6133\n",
            "Epoch 6/50\n",
            "8/8 [==============================] - 21s 3s/step - loss: 0.5666 - accuracy: 0.7219 - val_loss: 0.6402 - val_accuracy: 0.5195\n",
            "Epoch 7/50\n",
            "8/8 [==============================] - 21s 3s/step - loss: 0.5557 - accuracy: 0.7297 - val_loss: 0.7021 - val_accuracy: 0.5000\n",
            "Epoch 8/50\n",
            "8/8 [==============================] - 21s 3s/step - loss: 0.5464 - accuracy: 0.7097 - val_loss: 0.7499 - val_accuracy: 0.5039\n",
            "Epoch 9/50\n",
            "8/8 [==============================] - 21s 3s/step - loss: 0.5819 - accuracy: 0.7141 - val_loss: 0.7313 - val_accuracy: 0.5117\n",
            "Epoch 10/50\n",
            "8/8 [==============================] - 22s 3s/step - loss: 0.5069 - accuracy: 0.7608 - val_loss: 0.7700 - val_accuracy: 0.5156\n",
            "Epoch 11/50\n",
            "8/8 [==============================] - 21s 3s/step - loss: 0.6022 - accuracy: 0.7141 - val_loss: 0.5517 - val_accuracy: 0.6250\n",
            "Epoch 12/50\n",
            "8/8 [==============================] - 21s 3s/step - loss: 0.5058 - accuracy: 0.7720 - val_loss: 1.5316 - val_accuracy: 0.5000\n",
            "Epoch 13/50\n",
            "8/8 [==============================] - 21s 3s/step - loss: 0.5366 - accuracy: 0.7186 - val_loss: 0.5616 - val_accuracy: 0.6328\n",
            "Epoch 14/50\n",
            "8/8 [==============================] - 22s 3s/step - loss: 0.5060 - accuracy: 0.7553 - val_loss: 0.9423 - val_accuracy: 0.5156\n",
            "Epoch 15/50\n",
            "8/8 [==============================] - 21s 3s/step - loss: 0.6114 - accuracy: 0.7319 - val_loss: 0.8129 - val_accuracy: 0.5430\n",
            "Epoch 16/50\n",
            "8/8 [==============================] - 21s 3s/step - loss: 0.4697 - accuracy: 0.7942 - val_loss: 0.7680 - val_accuracy: 0.5703\n",
            "Epoch 17/50\n",
            "8/8 [==============================] - 22s 3s/step - loss: 0.4697 - accuracy: 0.7853 - val_loss: 1.2710 - val_accuracy: 0.5156\n",
            "Epoch 18/50\n",
            "8/8 [==============================] - 21s 3s/step - loss: 0.5279 - accuracy: 0.7408 - val_loss: 0.6764 - val_accuracy: 0.6016\n",
            "Epoch 19/50\n",
            "8/8 [==============================] - 22s 3s/step - loss: 0.4441 - accuracy: 0.7942 - val_loss: 1.0672 - val_accuracy: 0.5195\n",
            "Epoch 20/50\n",
            "8/8 [==============================] - 21s 3s/step - loss: 0.4284 - accuracy: 0.8220 - val_loss: 1.0666 - val_accuracy: 0.5312\n",
            "Epoch 21/50\n",
            "8/8 [==============================] - 21s 3s/step - loss: 0.4081 - accuracy: 0.8220 - val_loss: 1.1976 - val_accuracy: 0.5312\n",
            "Epoch 22/50\n",
            "8/8 [==============================] - 21s 3s/step - loss: 0.3949 - accuracy: 0.8231 - val_loss: 1.5241 - val_accuracy: 0.5156\n",
            "Epoch 23/50\n",
            "8/8 [==============================] - 21s 3s/step - loss: 0.5203 - accuracy: 0.7508 - val_loss: 1.1022 - val_accuracy: 0.5742\n",
            "Epoch 24/50\n",
            "8/8 [==============================] - 21s 3s/step - loss: 0.3714 - accuracy: 0.8420 - val_loss: 2.6148 - val_accuracy: 0.5000\n",
            "Epoch 25/50\n",
            "8/8 [==============================] - 21s 3s/step - loss: 0.5077 - accuracy: 0.7675 - val_loss: 1.0715 - val_accuracy: 0.5781\n",
            "Epoch 26/50\n",
            "8/8 [==============================] - 21s 3s/step - loss: 0.4294 - accuracy: 0.8020 - val_loss: 1.0165 - val_accuracy: 0.5898\n",
            "Epoch 27/50\n",
            "8/8 [==============================] - 21s 3s/step - loss: 0.4109 - accuracy: 0.8087 - val_loss: 1.1002 - val_accuracy: 0.5781\n",
            "Epoch 28/50\n",
            "8/8 [==============================] - 21s 3s/step - loss: 0.3827 - accuracy: 0.8254 - val_loss: 0.4332 - val_accuracy: 0.8086\n",
            "Epoch 29/50\n",
            "8/8 [==============================] - 23s 3s/step - loss: 0.3980 - accuracy: 0.8379 - val_loss: 1.1246 - val_accuracy: 0.5898\n",
            "Epoch 30/50\n",
            "8/8 [==============================] - 21s 3s/step - loss: 0.3853 - accuracy: 0.8087 - val_loss: 1.5317 - val_accuracy: 0.5508\n",
            "Epoch 31/50\n",
            "8/8 [==============================] - 24s 3s/step - loss: 0.3359 - accuracy: 0.8604 - val_loss: 0.9564 - val_accuracy: 0.6484\n",
            "Epoch 32/50\n",
            "8/8 [==============================] - 22s 3s/step - loss: 0.3908 - accuracy: 0.8176 - val_loss: 1.6038 - val_accuracy: 0.5508\n",
            "Epoch 33/50\n",
            "8/8 [==============================] - 22s 3s/step - loss: 0.3731 - accuracy: 0.8287 - val_loss: 0.9880 - val_accuracy: 0.6406\n",
            "Epoch 34/50\n",
            "8/8 [==============================] - 21s 3s/step - loss: 0.3494 - accuracy: 0.8454 - val_loss: 1.6025 - val_accuracy: 0.5586\n",
            "Epoch 35/50\n",
            "8/8 [==============================] - 22s 3s/step - loss: 0.3128 - accuracy: 0.8754 - val_loss: 1.3474 - val_accuracy: 0.6094\n",
            "Epoch 36/50\n",
            "8/8 [==============================] - 25s 3s/step - loss: 0.3871 - accuracy: 0.8115 - val_loss: 1.6198 - val_accuracy: 0.5586\n",
            "Epoch 37/50\n",
            "8/8 [==============================] - 21s 3s/step - loss: 0.3496 - accuracy: 0.8409 - val_loss: 1.6138 - val_accuracy: 0.5586\n",
            "Epoch 38/50\n",
            "8/8 [==============================] - 21s 3s/step - loss: 0.2830 - accuracy: 0.8921 - val_loss: 2.1518 - val_accuracy: 0.5352\n",
            "Epoch 39/50\n",
            "8/8 [==============================] - 21s 3s/step - loss: 0.3942 - accuracy: 0.8031 - val_loss: 1.7681 - val_accuracy: 0.5664\n",
            "Epoch 40/50\n",
            "8/8 [==============================] - 21s 3s/step - loss: 0.2709 - accuracy: 0.8966 - val_loss: 0.7315 - val_accuracy: 0.7500\n",
            "Epoch 41/50\n",
            "8/8 [==============================] - 21s 3s/step - loss: 0.3113 - accuracy: 0.8576 - val_loss: 1.5968 - val_accuracy: 0.6055\n",
            "Epoch 42/50\n",
            "8/8 [==============================] - 21s 3s/step - loss: 0.3185 - accuracy: 0.8532 - val_loss: 1.3359 - val_accuracy: 0.5898\n",
            "Epoch 43/50\n",
            "8/8 [==============================] - 22s 3s/step - loss: 0.2659 - accuracy: 0.8966 - val_loss: 2.2540 - val_accuracy: 0.5508\n",
            "Epoch 44/50\n",
            "8/8 [==============================] - 21s 3s/step - loss: 0.2870 - accuracy: 0.8865 - val_loss: 1.6896 - val_accuracy: 0.5859\n",
            "Epoch 45/50\n",
            "8/8 [==============================] - 22s 3s/step - loss: 0.2770 - accuracy: 0.8865 - val_loss: 1.1946 - val_accuracy: 0.6602\n",
            "Epoch 46/50\n",
            "8/8 [==============================] - 21s 3s/step - loss: 0.2746 - accuracy: 0.8799 - val_loss: 1.3845 - val_accuracy: 0.6406\n",
            "Epoch 47/50\n",
            "8/8 [==============================] - 22s 3s/step - loss: 0.2887 - accuracy: 0.8776 - val_loss: 2.3706 - val_accuracy: 0.5469\n",
            "Epoch 48/50\n",
            "8/8 [==============================] - 21s 3s/step - loss: 0.2650 - accuracy: 0.8721 - val_loss: 1.9817 - val_accuracy: 0.5742\n",
            "Epoch 49/50\n",
            "8/8 [==============================] - 21s 3s/step - loss: 0.3278 - accuracy: 0.8654 - val_loss: 1.4238 - val_accuracy: 0.6016\n",
            "Epoch 50/50\n",
            "8/8 [==============================] - 21s 3s/step - loss: 0.2495 - accuracy: 0.8966 - val_loss: 1.6669 - val_accuracy: 0.6211\n"
          ]
        }
      ],
      "source": [
        "# Constant for epochs\n",
        "EPOCHS = 50\n",
        "\n",
        "# Train the model\n",
        "history = model.fit(\n",
        "      train_generator,\n",
        "      steps_per_epoch=8,  \n",
        "      epochs=EPOCHS,\n",
        "      verbose=1,\n",
        "      validation_data = validation_generator,\n",
        "      validation_steps=8)"
      ]
    },
    {
      "cell_type": "code",
      "execution_count": 10,
      "metadata": {
        "id": "7zNPRWOVJdOH",
        "colab": {
          "base_uri": "https://localhost:8080/",
          "height": 545
        },
        "outputId": "deee475b-028e-49aa-da99-a5a3bebae5dc"
      },
      "outputs": [
        {
          "output_type": "display_data",
          "data": {
            "text/plain": [
              "<Figure size 432x288 with 1 Axes>"
            ],
            "image/png": "[encoded data removed]"
          },
          "metadata": {
            "needs_background": "light"
          }
        },
        {
          "output_type": "display_data",
          "data": {
            "text/plain": [
              "<Figure size 432x288 with 1 Axes>"
            ],
            "image/png": "[encoded data removed]"
          },
          "metadata": {
            "needs_background": "light"
          }
        }
      ],
      "source": [
        "import matplotlib.pyplot as plt\n",
        "\n",
        "# Plot the model results\n",
        "acc = history.history['accuracy']\n",
        "val_acc = history.history['val_accuracy']\n",
        "loss = history.history['loss']\n",
        "val_loss = history.history['val_loss']\n",
        "\n",
        "epochs = range(len(acc))\n",
        "\n",
        "plt.plot(epochs, acc, 'r', label='Training accuracy')\n",
        "plt.plot(epochs, val_acc, 'b', label='Validation accuracy')\n",
        "plt.title('Training and validation accuracy')\n",
        "\n",
        "plt.figure()\n",
        "\n",
        "plt.plot(epochs, loss, 'r', label='Training Loss')\n",
        "plt.plot(epochs, val_loss, 'b', label='Validation Loss')\n",
        "plt.title('Training and validation loss')\n",
        "plt.legend()\n",
        "\n",
        "plt.show()"
      ]
    },
    {
      "cell_type": "markdown",
      "metadata": {
        "id": "hwyabYvCsvtn"
      },
      "source": [
        "As you can see in the results, the preprocessing techniques used in augmenting the data did not help much in the results. The validation accuracy is fluctuating and not trending up like the training accuracy. This might be because the additional training data generated still do not represent the features in the validation data. For example, some human or horse poses in the validation set cannot be mimicked by the image processing techniques that `ImageDataGenerator` provides. It might also be that the background of the training images are also learned so the white background of the validation set is throwing the model off even with cropping. Try looking at the validation images in the `tmp/validation-horse-or-human` directory (note: if you are using Colab, you can use the file explorer on the left to explore the images) and see if you can augment the training images to match its characteristics. If this is not possible, then at this point you can consider other techniques and you will see that in next week's lessons."
      ]
    }
  ],
  "metadata": {
    "accelerator": "GPU",
    "colab": {
      "provenance": []
    },
    "kernelspec": {
      "display_name": "Python 3",
      "language": "python",
      "name": "python3"
    },
    "language_info": {
      "codemirror_mode": {
        "name": "ipython",
        "version": 3
      },
      "file_extension": ".py",
      "mimetype": "text/x-python",
      "name": "python",
      "nbconvert_exporter": "python",
      "pygments_lexer": "ipython3",
      "version": "3.7.4"
    },
    "gpuClass": "standard"
  },
  "nbformat": 4,
  "nbformat_minor": 0
}